{
 "cells": [
  {
   "cell_type": "markdown",
   "metadata": {},
   "source": [
    "# LLM - ChatGPT - OpenAI\n",
    "\n",
    "El objetivo de este Notebook es realizar la evaluación de diferentes modelos de OpenAI para clasificar el texto en emociones. Se utilizan diferentes métodos de transfer learning y de fine tunning con el fin de encontrar el mejor modelo."
   ]
  },
  {
   "cell_type": "markdown",
   "metadata": {},
   "source": [
    "## Libraries"
   ]
  },
  {
   "cell_type": "code",
   "execution_count": 2,
   "metadata": {},
   "outputs": [],
   "source": [
    "import json\n",
    "import os\n",
    "from pathlib import Path\n",
    "import pandas as pd\n",
    "from dotenv import load_dotenv\n",
    "from openai import OpenAI\n"
   ]
  },
  {
   "cell_type": "markdown",
   "metadata": {},
   "source": [
    "## Dataset\n",
    "\n",
    "Se cargan los datasets de `training`, `validation` y `test` que se han utilizado en otros modelos para garantizar consistencia al momento de comparar los resultados. Cada uno de estos datasets contiene dos variables **text** y **emotion**"
   ]
  },
  {
   "cell_type": "code",
   "execution_count": 9,
   "metadata": {},
   "outputs": [],
   "source": [
    "df_train = pd.read_csv(\"../data/data_to_model/train_data.csv\")\n",
    "df_val = pd.read_csv(\"../data/data_to_model/val_data.csv\")\n",
    "df_test = pd.read_csv(\"../data/data_to_model/test_data.csv\")"
   ]
  },
  {
   "cell_type": "code",
   "execution_count": 10,
   "metadata": {},
   "outputs": [
    {
     "data": {
      "text/html": [
       "<div>\n",
       "<style scoped>\n",
       "    .dataframe tbody tr th:only-of-type {\n",
       "        vertical-align: middle;\n",
       "    }\n",
       "\n",
       "    .dataframe tbody tr th {\n",
       "        vertical-align: top;\n",
       "    }\n",
       "\n",
       "    .dataframe thead th {\n",
       "        text-align: right;\n",
       "    }\n",
       "</style>\n",
       "<table border=\"1\" class=\"dataframe\">\n",
       "  <thead>\n",
       "    <tr style=\"text-align: right;\">\n",
       "      <th></th>\n",
       "      <th>text</th>\n",
       "      <th>emotion</th>\n",
       "    </tr>\n",
       "  </thead>\n",
       "  <tbody>\n",
       "    <tr>\n",
       "      <th>0</th>\n",
       "      <td>when the week for exams came i got afraid as t...</td>\n",
       "      <td>fear</td>\n",
       "    </tr>\n",
       "    <tr>\n",
       "      <th>1</th>\n",
       "      <td>i was sleeping when i heard the neighbours scr...</td>\n",
       "      <td>fear</td>\n",
       "    </tr>\n",
       "    <tr>\n",
       "      <th>2</th>\n",
       "      <td>there was a time when my room looked terribly ...</td>\n",
       "      <td>shame</td>\n",
       "    </tr>\n",
       "    <tr>\n",
       "      <th>3</th>\n",
       "      <td>when my friend told me that he would come and ...</td>\n",
       "      <td>joy</td>\n",
       "    </tr>\n",
       "    <tr>\n",
       "      <th>4</th>\n",
       "      <td>when i saw the film \"johnny got his gun\" which...</td>\n",
       "      <td>sadness</td>\n",
       "    </tr>\n",
       "  </tbody>\n",
       "</table>\n",
       "</div>"
      ],
      "text/plain": [
       "                                                text  emotion\n",
       "0  when the week for exams came i got afraid as t...     fear\n",
       "1  i was sleeping when i heard the neighbours scr...     fear\n",
       "2  there was a time when my room looked terribly ...    shame\n",
       "3  when my friend told me that he would come and ...      joy\n",
       "4  when i saw the film \"johnny got his gun\" which...  sadness"
      ]
     },
     "execution_count": 10,
     "metadata": {},
     "output_type": "execute_result"
    }
   ],
   "source": [
    "df_train.head()"
   ]
  },
  {
   "cell_type": "markdown",
   "metadata": {},
   "source": [
    "## OpenAI Client Configuration\n",
    "\n",
    "En este paso se configura el cliente con el API Key previamente generada en https://platform.openai.com/settings/profile?tab=api-keys\n",
    "\n",
    "Es importante mencionar que el uso de esta API consume créditos (dinero), por lo tanto, no se hace pública y para reproducir el Notebook deben configurar su propia API Key en el archivo `.env` con el siguiente formato:\n",
    "\n",
    "OPENAI_API_KEY = sk-xxxxxxxxx"
   ]
  },
  {
   "cell_type": "code",
   "execution_count": 4,
   "metadata": {},
   "outputs": [
    {
     "data": {
      "text/plain": [
       "True"
      ]
     },
     "execution_count": 4,
     "metadata": {},
     "output_type": "execute_result"
    }
   ],
   "source": [
    "load_dotenv()"
   ]
  },
  {
   "cell_type": "code",
   "execution_count": 5,
   "metadata": {},
   "outputs": [],
   "source": [
    "client = OpenAI(api_key=os.getenv(\"OPENAI_API_KEY\"))"
   ]
  },
  {
   "cell_type": "markdown",
   "metadata": {},
   "source": [
    "## Data Formating\n",
    "\n",
    "Rename columns of Dataframe"
   ]
  },
  {
   "cell_type": "code",
   "execution_count": 13,
   "metadata": {},
   "outputs": [],
   "source": [
    "df_train.rename(columns={\"text\": \"prompt\", \"emotion\": \"completion\"}, inplace=True)\n",
    "df_val.rename(columns={\"text\": \"prompt\", \"emotion\": \"completion\"}, inplace=True)\n",
    "df_test.rename(columns={\"text\": \"prompt\", \"emotion\": \"completion\"}, inplace=True)"
   ]
  },
  {
   "cell_type": "markdown",
   "metadata": {},
   "source": [
    "## Transfer Learning\n",
    "\n",
    "Los LLM han sido entrenados con enormes volumenes de datos y han guardado en sus parametros todo lo aprendido en este proceso. El proceso de Transfer Learning consiste en utilizar dichos modelos pre entrenados con sus parámetros para tareas específicas sin realizar entrenamientos adicionales.\n",
    "\n",
    "En este caso solo se utiliza el conjunto de datos de pruebas para poder comparar las métricas con el método de fine-tuning"
   ]
  },
  {
   "cell_type": "markdown",
   "metadata": {},
   "source": [
    "**Note**: Understanting  `chat.competitions` function of OpenAI API : https://medium.com/@csakash03/model-parameters-in-openai-api-fe6101d3f813"
   ]
  },
  {
   "cell_type": "markdown",
   "metadata": {},
   "source": [
    "## `gpt-4o-mini` Model"
   ]
  },
  {
   "cell_type": "code",
   "execution_count": 130,
   "metadata": {},
   "outputs": [
    {
     "data": {
      "text/html": [
       "<div>\n",
       "<style scoped>\n",
       "    .dataframe tbody tr th:only-of-type {\n",
       "        vertical-align: middle;\n",
       "    }\n",
       "\n",
       "    .dataframe tbody tr th {\n",
       "        vertical-align: top;\n",
       "    }\n",
       "\n",
       "    .dataframe thead th {\n",
       "        text-align: right;\n",
       "    }\n",
       "</style>\n",
       "<table border=\"1\" class=\"dataframe\">\n",
       "  <thead>\n",
       "    <tr style=\"text-align: right;\">\n",
       "      <th></th>\n",
       "      <th>prompt</th>\n",
       "      <th>completion</th>\n",
       "      <th>predicted_emotion</th>\n",
       "    </tr>\n",
       "  </thead>\n",
       "  <tbody>\n",
       "    <tr>\n",
       "      <th>0</th>\n",
       "      <td>when a friend carelessly broke and object in m...</td>\n",
       "      <td>anger</td>\n",
       "      <td>anger</td>\n",
       "    </tr>\n",
       "    <tr>\n",
       "      <th>1</th>\n",
       "      <td>when i felt powerless to help the poor or when...</td>\n",
       "      <td>sadness</td>\n",
       "      <td>sadness</td>\n",
       "    </tr>\n",
       "    <tr>\n",
       "      <th>2</th>\n",
       "      <td>one of my best friends'fianct broke off the re...</td>\n",
       "      <td>shame</td>\n",
       "      <td>shame</td>\n",
       "    </tr>\n",
       "    <tr>\n",
       "      <th>3</th>\n",
       "      <td>i hadn't been at my parent's place for a long ...</td>\n",
       "      <td>sadness</td>\n",
       "      <td>sadness</td>\n",
       "    </tr>\n",
       "    <tr>\n",
       "      <th>4</th>\n",
       "      <td>when i didn't notify someone that he was summo...</td>\n",
       "      <td>guilt</td>\n",
       "      <td>guilt</td>\n",
       "    </tr>\n",
       "  </tbody>\n",
       "</table>\n",
       "</div>"
      ],
      "text/plain": [
       "                                              prompt completion  \\\n",
       "0  when a friend carelessly broke and object in m...      anger   \n",
       "1  when i felt powerless to help the poor or when...    sadness   \n",
       "2  one of my best friends'fianct broke off the re...      shame   \n",
       "3  i hadn't been at my parent's place for a long ...    sadness   \n",
       "4  when i didn't notify someone that he was summo...      guilt   \n",
       "\n",
       "  predicted_emotion  \n",
       "0             anger  \n",
       "1           sadness  \n",
       "2             shame  \n",
       "3           sadness  \n",
       "4             guilt  "
      ]
     },
     "execution_count": 130,
     "metadata": {},
     "output_type": "execute_result"
    }
   ],
   "source": [
    "# System message defining the role and task for the model\n",
    "system_message = \"\"\"\n",
    "You are an advanced assistant specialized in analyzing and detecting emotions in short text. \n",
    "You will be provided with a text, and your task is to classify it into **exactly one emotion** from the following list:\n",
    "[shame, sadness, joy, guilt, fear, disgust, anger].\n",
    "\n",
    "**Important Rules:**\n",
    "1. You must return only **one** of the emotions from the list without aditional text.\n",
    "2. Do **not** create or infer any emotions outside the list.\n",
    "3. If the text does not match any emotion exactly, return the closest emotion from the list. \n",
    "4. Do **not** return 'None', 'jealousy', or any other emotion that is not in the list.\n",
    "5. Do not return aditional text, only **exactly one emotion** of the list.\n",
    "\n",
    "Your answer only could be shame, sadness, joy, guilt, fear, disgust or anger\n",
    "You are not allowed to return None, if you are not sure about the emotion, assign the closest emotion from the allowed list\n",
    "\n",
    "\n",
    "For example:\n",
    "\n",
    "Text: when the week for exams came I got afraid as to how I would tackle the questions.\n",
    "Response: fear\n",
    "\"\"\"\n",
    "\n",
    "\n",
    "# Function to create the user message (prompt) for emotion detection\n",
    "def create_user_message(row):\n",
    "    return f\"{row['prompt']}\"  # \\n\\nWhat is the emotion expressed in this text?\"\n",
    "\n",
    "\n",
    "# Initialize an empty column to store the predictions\n",
    "df_test[\"predicted_emotion\"] = (\n",
    "    None  # Create a new column for storing the predicted emotions\n",
    ")\n",
    "\n",
    "# Iterate over each row in df_test\n",
    "for index, row in df_test.iterrows():\n",
    "    test_messages = []\n",
    "\n",
    "    # Append system message and user message\n",
    "    test_messages.append({\"role\": \"system\", \"content\": system_message})\n",
    "    user_message = create_user_message(row)\n",
    "    test_messages.append({\"role\": \"user\", \"content\": user_message})\n",
    "\n",
    "    # Call the fine-tuned model for emotion classification\n",
    "    response = client.chat.completions.create(\n",
    "        model=\"gpt-4o-mini\",\n",
    "        messages=test_messages,\n",
    "        temperature=0.2,\n",
    "        max_tokens=7,\n",
    "        top_p=1,\n",
    "    )\n",
    "\n",
    "    # Extract the model's response (predicted emotion)\n",
    "    predicted_emotion = response.choices[0].message.content.strip()\n",
    "\n",
    "    # Store the predicted emotion in the new column\n",
    "    df_test.at[index, \"predicted_emotion\"] = predicted_emotion\n",
    "\n",
    "# Display the dataframe with the predicted emotions\n",
    "df_test.head()"
   ]
  },
  {
   "cell_type": "code",
   "execution_count": 133,
   "metadata": {},
   "outputs": [
    {
     "name": "stdout",
     "output_type": "stream",
     "text": [
      "Classification Report:\n",
      "              precision    recall  f1-score   support\n",
      "\n",
      "       anger       0.76      0.62      0.68       109\n",
      "     sadness       0.81      0.67      0.73       107\n",
      "       shame       0.90      0.82      0.86       109\n",
      "       guilt       0.66      0.78      0.72       106\n",
      "     disgust       0.94      0.96      0.95       109\n",
      "        fear       0.64      0.90      0.75       108\n",
      "         joy       0.66      0.54      0.59       106\n",
      "\n",
      "    accuracy                           0.76       754\n",
      "   macro avg       0.77      0.76      0.75       754\n",
      "weighted avg       0.77      0.76      0.76       754\n",
      "\n"
     ]
    },
    {
     "data": {
      "image/png": "[encoded data removed]",
      "text/plain": [
       "<Figure size 1000x700 with 2 Axes>"
      ]
     },
     "metadata": {},
     "output_type": "display_data"
    },
    {
     "data": {
      "image/png": "[encoded data removed]",
      "text/plain": [
       "<Figure size 1000x700 with 2 Axes>"
      ]
     },
     "metadata": {},
     "output_type": "display_data"
    },
    {
     "data": {
      "text/html": [
       "<div>\n",
       "<style scoped>\n",
       "    .dataframe tbody tr th:only-of-type {\n",
       "        vertical-align: middle;\n",
       "    }\n",
       "\n",
       "    .dataframe tbody tr th {\n",
       "        vertical-align: top;\n",
       "    }\n",
       "\n",
       "    .dataframe thead th {\n",
       "        text-align: right;\n",
       "    }\n",
       "</style>\n",
       "<table border=\"1\" class=\"dataframe\">\n",
       "  <thead>\n",
       "    <tr style=\"text-align: right;\">\n",
       "      <th></th>\n",
       "      <th>Model</th>\n",
       "      <th>Method</th>\n",
       "      <th>Test Accuracy</th>\n",
       "      <th>Test Macro Precision</th>\n",
       "      <th>Test Macro Recall</th>\n",
       "      <th>Test Macro F1-Score</th>\n",
       "    </tr>\n",
       "  </thead>\n",
       "  <tbody>\n",
       "    <tr>\n",
       "      <th>0</th>\n",
       "      <td>gpt-4o-mini</td>\n",
       "      <td>Transfer Learning</td>\n",
       "      <td>0.757294</td>\n",
       "      <td>0.765481</td>\n",
       "      <td>0.756496</td>\n",
       "      <td>0.754221</td>\n",
       "    </tr>\n",
       "  </tbody>\n",
       "</table>\n",
       "</div>"
      ],
      "text/plain": [
       "         Model             Method  Test Accuracy  Test Macro Precision  \\\n",
       "0  gpt-4o-mini  Transfer Learning       0.757294              0.765481   \n",
       "\n",
       "   Test Macro Recall  Test Macro F1-Score  \n",
       "0           0.756496             0.754221  "
      ]
     },
     "execution_count": 133,
     "metadata": {},
     "output_type": "execute_result"
    }
   ],
   "source": [
    "import matplotlib.pyplot as plt\n",
    "import numpy as np\n",
    "import pandas as pd\n",
    "import seaborn as sns\n",
    "from sklearn.metrics import classification_report, confusion_matrix\n",
    "\n",
    "# Initialize an empty list to store results\n",
    "results = []\n",
    "\n",
    "# Step 1: Classification metrics\n",
    "print(\"Classification Report:\")\n",
    "report = classification_report(\n",
    "    df_test[\"completion\"],\n",
    "    df_test[\"predicted_emotion\"],\n",
    "    output_dict=True,\n",
    "    target_names=df_test[\"completion\"].unique(),\n",
    ")\n",
    "print(\n",
    "    classification_report(\n",
    "        df_test[\"completion\"],\n",
    "        df_test[\"predicted_emotion\"],\n",
    "        target_names=df_test[\"completion\"].unique(),\n",
    "    )\n",
    ")\n",
    "\n",
    "# Extract important metrics from the classification report for the test set\n",
    "accuracy = report[\"accuracy\"]\n",
    "macro_precision = report[\"macro avg\"][\"precision\"]\n",
    "macro_recall = report[\"macro avg\"][\"recall\"]\n",
    "macro_f1 = report[\"macro avg\"][\"f1-score\"]\n",
    "\n",
    "# Store the metrics in the results list\n",
    "results.append(\n",
    "    {\n",
    "        \"Model\": \"gpt-4o-mini\",\n",
    "        \"Method\": \"Transfer Learning\",\n",
    "        \"Test Accuracy\": accuracy,\n",
    "        \"Test Macro Precision\": macro_precision,\n",
    "        \"Test Macro Recall\": macro_recall,\n",
    "        \"Test Macro F1-Score\": macro_f1,\n",
    "    }\n",
    ")\n",
    "\n",
    "# Convert results to a DataFrame\n",
    "results_df_tl = pd.DataFrame(results)\n",
    "\n",
    "\n",
    "# Step 2: Confusion matrix\n",
    "conf_matrix = confusion_matrix(\n",
    "    df_test[\"completion\"],\n",
    "    df_test[\"predicted_emotion\"],\n",
    "    labels=df_test[\"completion\"].unique(),\n",
    ")\n",
    "\n",
    "# Convert confusion matrix to DataFrame for better plotting\n",
    "conf_matrix_df = pd.DataFrame(\n",
    "    conf_matrix,\n",
    "    index=df_test[\"completion\"].unique(),\n",
    "    columns=df_test[\"completion\"].unique(),\n",
    ")\n",
    "\n",
    "# Step 3: Plotting the confusion matrix\n",
    "plt.figure(figsize=(10, 7))\n",
    "sns.heatmap(conf_matrix_df, annot=True, cmap=\"Blues\", fmt=\"g\")\n",
    "plt.title(\"Confusion Matrix\")\n",
    "plt.xlabel(\"Predicted\")\n",
    "plt.ylabel(\"True\")\n",
    "plt.show()\n",
    "\n",
    "\n",
    "# Step 1: Compute confusion matrix\n",
    "conf_matrix = confusion_matrix(\n",
    "    df_test[\"completion\"],\n",
    "    df_test[\"predicted_emotion\"],\n",
    "    labels=df_test[\"completion\"].unique(),\n",
    ")\n",
    "\n",
    "# Step 2: Normalize the confusion matrix row-wise (i.e., as percentages)\n",
    "conf_matrix_normalized = (\n",
    "    conf_matrix.astype(\"float\") / conf_matrix.sum(axis=1)[:, np.newaxis]\n",
    ")\n",
    "\n",
    "# Step 3: Convert the normalized confusion matrix to a DataFrame for plotting\n",
    "conf_matrix_normalized_df = pd.DataFrame(\n",
    "    conf_matrix_normalized,\n",
    "    index=df_test[\"completion\"].unique(),\n",
    "    columns=df_test[\"completion\"].unique(),\n",
    ")\n",
    "\n",
    "# Step 4: Plot the normalized confusion matrix\n",
    "plt.figure(figsize=(10, 7))\n",
    "sns.heatmap(conf_matrix_normalized_df, annot=True, cmap=\"Blues\", fmt=\".2f\")\n",
    "plt.title(\"Confusion Matrix (Percentage of Each Row)\")\n",
    "plt.xlabel(\"Predicted\")\n",
    "plt.ylabel(\"True\")\n",
    "plt.show()\n",
    "\n",
    "\n",
    "results_df_tl"
   ]
  },
  {
   "cell_type": "markdown",
   "metadata": {},
   "source": [
    "## Fine Tuning\n",
    "\n",
    "El proceso de Fine Tuning consiste en tomar los modelos pre entrenados y ajustar su ultima capa con nuestros datos para que aprendan dicho contexto específico que no vieron en su proceso de entrenamiento original.\n",
    "\n",
    "**Modelos disponibles**:\n",
    "\n",
    "A la fecha de este desarrollo, OpenAI tiene los siguientes modelos disponibles para fine-tuning:\n",
    "* gpt-4o-2024-08-06\n",
    "* gpt-4o-mini-2024-07-18\n",
    "* gpt-4-0613\n",
    "* gpt-3.5-turbo-0125\n",
    "* gpt-3.5-turbo-1106\n",
    "* babbage-002\n",
    "* davinci-002\n",
    "\n",
    "**Notas importantes**: \n",
    "* `babbage-002` y `davinci-002` no son modelos de formato de chat, son modelos de prompt completition, lo que lo hace especializados en completar palabras faltantes en texto. Por lo tanto, no serán utilizados en este proceso de comparación. \n",
    "* Por restricciones presupuestales, solo se realizará fine-tuning de una versión de `gpt-3.5-turbo`.\n",
    "* Se probaran la versión mini de `gpt-4o` por restricciones presupuestales y eficiencia computacional.\n",
    "\n",
    "**Step-by-step**:\n",
    "\n",
    "A un primer nivel este proceso involucra los siguientes pasos:\n",
    "1. Preparar y cargar la data\n",
    "2. Entrenar un nuevo modelo fine-tuneado\n",
    "3. Evaluar los resultados\n",
    "4. Usar el modelo Fine-tuneado."
   ]
  },
  {
   "cell_type": "markdown",
   "metadata": {},
   "source": [
    "## Fine-tuning `gpt-4o-mini-2024-07-18`"
   ]
  },
  {
   "cell_type": "markdown",
   "metadata": {},
   "source": [
    "### 1. Prepare and load the data\n",
    "\n",
    "#### 1.1. Prepare data \n",
    "\n",
    "La API de OpenAI necesita que los datos sean formateados en tipo conversación con la API, por ejemplo:"
   ]
  },
  {
   "cell_type": "markdown",
   "metadata": {},
   "source": [
    "{\"messages\": [{\"role\": \"system\", \"content\": \"Marv is a factual chatbot that is also sarcastic.\"}, {\"role\": \"user\", \"content\": \"What's the capital of France?\"}, {\"role\": \"assistant\", \"content\": \"Paris, as if everyone doesn't know that already.\"}]}\n",
    "\n",
    "##### **A) Function to format DataFrame** : \n",
    "Los dataframes deben ser transformatos al formato aceptado por lo modelos"
   ]
  },
  {
   "cell_type": "code",
   "execution_count": 14,
   "metadata": {},
   "outputs": [
    {
     "data": {
      "text/plain": [
       "{'messages': [{'role': 'system',\n",
       "   'content': 'You are an advanced assistant specialized in analyzing and detecting emotions in short text. Your role is to identify the underlying emotion conveyed in each input and provide the most accurate emotional classification between: shame, sadness, joy, guilt, fear, disgust and anger'},\n",
       "  {'role': 'user',\n",
       "   'content': 'Text: when the week for exams came i got afraid as to how i would tackle the questions\\n\\nWhat is the emotion expressed in this text?'},\n",
       "  {'role': 'assistant', 'content': 'fear'}]}"
      ]
     },
     "execution_count": 14,
     "metadata": {},
     "output_type": "execute_result"
    }
   ],
   "source": [
    "# Initial promt that give to the model a role and task\n",
    "system_message = \"You are an advanced assistant specialized in analyzing and detecting emotions in short text. Your role is to identify the underlying emotion conveyed in each input and provide the most accurate emotional classification between: shame, sadness, joy, guilt, fear, disgust and anger\"\n",
    "\n",
    "\n",
    "# Function to create the user message (prompt) for emotion detection\n",
    "def create_user_message(row):\n",
    "    return f\"Text: {row['prompt']}\\n\\nWhat is the emotion expressed in this text?\"\n",
    "\n",
    "\n",
    "# Function to prepare an example conversation\n",
    "def prepare_example_conversation(row):\n",
    "    return {\n",
    "        \"messages\": [\n",
    "            {\n",
    "                \"role\": \"system\",\n",
    "                \"content\": system_message,\n",
    "            },  # Use your system message focused on emotion detection\n",
    "            {\"role\": \"user\", \"content\": create_user_message(row)},\n",
    "            {\n",
    "                \"role\": \"assistant\",\n",
    "                \"content\": row[\"completion\"],\n",
    "            },  # Emotion label from your dataset\n",
    "        ]\n",
    "    }\n",
    "\n",
    "\n",
    "# Result\n",
    "prepare_example_conversation(df_train.iloc[0])"
   ]
  },
  {
   "cell_type": "code",
   "execution_count": 15,
   "metadata": {},
   "outputs": [],
   "source": [
    "# apply the prepare_example_conversation function to each row of the training_df\n",
    "training_data = df_train.apply(prepare_example_conversation, axis=1).tolist()\n",
    "validation_data = df_val.apply(prepare_example_conversation, axis=1).tolist()"
   ]
  },
  {
   "cell_type": "code",
   "execution_count": 18,
   "metadata": {},
   "outputs": [
    {
     "data": {
      "text/plain": [
       "[{'messages': [{'role': 'system',\n",
       "    'content': 'You are an advanced assistant specialized in analyzing and detecting emotions in short text. Your role is to identify the underlying emotion conveyed in each input and provide the most accurate emotional classification between: shame, sadness, joy, guilt, fear, disgust and anger'},\n",
       "   {'role': 'user',\n",
       "    'content': 'Text: when the week for exams came i got afraid as to how i would tackle the questions\\n\\nWhat is the emotion expressed in this text?'},\n",
       "   {'role': 'assistant', 'content': 'fear'}]},\n",
       " {'messages': [{'role': 'system',\n",
       "    'content': 'You are an advanced assistant specialized in analyzing and detecting emotions in short text. Your role is to identify the underlying emotion conveyed in each input and provide the most accurate emotional classification between: shame, sadness, joy, guilt, fear, disgust and anger'},\n",
       "   {'role': 'user',\n",
       "    'content': \"Text: i was sleeping when i heard the neighbours screaming, i peeped through the window and saw a thief  trying to enter my neighbour's house\\n\\nWhat is the emotion expressed in this text?\"},\n",
       "   {'role': 'assistant', 'content': 'fear'}]},\n",
       " {'messages': [{'role': 'system',\n",
       "    'content': 'You are an advanced assistant specialized in analyzing and detecting emotions in short text. Your role is to identify the underlying emotion conveyed in each input and provide the most accurate emotional classification between: shame, sadness, joy, guilt, fear, disgust and anger'},\n",
       "   {'role': 'user',\n",
       "    'content': 'Text: there was a time when my room looked terribly untidy; just at that time my aunt came to see me; fortunately i could prevent her from entering the room\\n\\nWhat is the emotion expressed in this text?'},\n",
       "   {'role': 'assistant', 'content': 'shame'}]}]"
      ]
     },
     "execution_count": 18,
     "metadata": {},
     "output_type": "execute_result"
    }
   ],
   "source": [
    "training_data[0:3]"
   ]
  },
  {
   "cell_type": "markdown",
   "metadata": {},
   "source": [
    "##### **B) Convert into json**\n",
    "La data se debe convertir a json para que sea aceptada por la API de OpenAI"
   ]
  },
  {
   "cell_type": "code",
   "execution_count": 19,
   "metadata": {},
   "outputs": [],
   "source": [
    "# Function to convert data to json and save it\n",
    "def write_jsonl(data_list: list, filename: str) -> None:\n",
    "    with open(filename, \"w\") as out:\n",
    "        for ddict in data_list:\n",
    "            jout = json.dumps(ddict) + \"\\n\"\n",
    "            out.write(jout)"
   ]
  },
  {
   "cell_type": "code",
   "execution_count": 20,
   "metadata": {},
   "outputs": [],
   "source": [
    "# Saving training and validation data to model\n",
    "training_file_name = \"../data/data_to_openai/tmp_isear_finetune_training.jsonl\"\n",
    "write_jsonl(training_data, training_file_name)\n",
    "\n",
    "validation_file_name = \"../data/data_to_openai/tmp_isear_finetune_validation.jsonl\"\n",
    "write_jsonl(validation_data, validation_file_name)"
   ]
  },
  {
   "cell_type": "markdown",
   "metadata": {},
   "source": [
    "#### 1.2. Data Loading\n",
    "\n",
    "La data preprocesada debe ser cargada a la plataforma de OpenAI para que pueda ser usada en tareas de Fine-tuning. Este proceso solo debe hacerse una vez"
   ]
  },
  {
   "cell_type": "code",
   "execution_count": 36,
   "metadata": {},
   "outputs": [
    {
     "name": "stdout",
     "output_type": "stream",
     "text": [
      "Training file ID: file-CzKxkJK2duXiM9mWRg804hf9\n",
      "Validation file ID: file-tM1BpBNLWZ5byOmaVwUmBhNG\n"
     ]
    }
   ],
   "source": [
    "## Uncoment if it's the first time that you will load the data\n",
    "\n",
    "## Upload the training file\n",
    "# train_file = client.files.create(file=Path(training_file_name), purpose=\"fine-tune\")\n",
    "#\n",
    "# train_file_id = train_file.id\n",
    "#\n",
    "## Upload the validation file\n",
    "# valid_file = client.files.create(file=Path(validation_file_name), purpose=\"fine-tune\")\n",
    "#\n",
    "# valid_file_id = valid_file.id\n",
    "#\n",
    "# print(f\"Training file ID: {train_file_id}\")\n",
    "# print(f\"Validation file ID: {valid_file_id}\")"
   ]
  },
  {
   "cell_type": "code",
   "execution_count": 22,
   "metadata": {},
   "outputs": [
    {
     "name": "stdout",
     "output_type": "stream",
     "text": [
      "Training file ID: file-CzKxkJK2duXiM9mWRg804hf9\n",
      "Validation file ID: file-tM1BpBNLWZ5byOmaVwUmBhNG\n"
     ]
    }
   ],
   "source": [
    "train_file_id = \"file-CzKxkJK2duXiM9mWRg804hf9\"\n",
    "valid_file_id = \"file-tM1BpBNLWZ5byOmaVwUmBhNG\"\n",
    "\n",
    "print(f\"Training file ID: {train_file_id}\")\n",
    "print(f\"Validation file ID: {valid_file_id}\")"
   ]
  },
  {
   "cell_type": "markdown",
   "metadata": {},
   "source": [
    "### 2. Train a new fine-tuning model\n",
    "\n",
    "Se le indica a la API los ID de los datos de  `training` y `validation`. Además del Modelo y un sufijo para su ID. Este proceso solo se realiza una vez y posteriormente se utiliza el id del modelo para probarlo en test y en producción."
   ]
  },
  {
   "cell_type": "code",
   "execution_count": 33,
   "metadata": {},
   "outputs": [],
   "source": [
    "## Uncoment if it's the first time executing the process.\n",
    "\n",
    "MODEL = \"gpt-4o-mini-2024-07-18\"\n",
    "#\n",
    "## Start the fine-tuning process\n",
    "# response = client.fine_tuning.jobs.create(\n",
    "#    training_file=train_file_id,\n",
    "#    validation_file=valid_file_id,\n",
    "#    model=MODEL,  # Replace with the base model you'd like to use\n",
    "#    suffix=\"isear\",  # Specify the number of epochs\n",
    "# )\n",
    "#\n",
    "#\n",
    "# job_id = response.id\n",
    "#\n",
    "# print(\"Job ID:\", response.id)\n",
    "# print(\"Status:\", response.status)"
   ]
  },
  {
   "cell_type": "code",
   "execution_count": 23,
   "metadata": {},
   "outputs": [
    {
     "name": "stdout",
     "output_type": "stream",
     "text": [
      "Job ID: ftjob-L1OzISnyQRSsWZgkp9ok1pGm\n"
     ]
    }
   ],
   "source": [
    "job_id = \"ftjob-L1OzISnyQRSsWZgkp9ok1pGm\"\n",
    "\n",
    "print(\"Job ID:\", job_id)"
   ]
  },
  {
   "cell_type": "code",
   "execution_count": 52,
   "metadata": {},
   "outputs": [
    {
     "name": "stdout",
     "output_type": "stream",
     "text": [
      "Job ID: ftjob-L1OzISnyQRSsWZgkp9ok1pGm\n",
      "Status: validating_files\n",
      "Trained Tokens: None\n"
     ]
    }
   ],
   "source": [
    "## This block of code is used to check the status of finetuning\n",
    "\n",
    "## Check status\n",
    "# response = client.fine_tuning.jobs.retrieve(job_id)\n",
    "#\n",
    "# print(\"Job ID:\", response.id)\n",
    "# print(\"Status:\", response.status)\n",
    "# print(\"Trained Tokens:\", response.trained_tokens)"
   ]
  },
  {
   "cell_type": "code",
   "execution_count": 65,
   "metadata": {},
   "outputs": [
    {
     "name": "stdout",
     "output_type": "stream",
     "text": [
      "Step 1492/1507: training loss=0.05\n",
      "Step 1493/1507: training loss=0.02\n",
      "Step 1494/1507: training loss=0.16\n",
      "Step 1495/1507: training loss=0.12\n",
      "Step 1496/1507: training loss=0.18\n",
      "Step 1497/1507: training loss=0.10\n",
      "Step 1498/1507: training loss=0.02\n",
      "Step 1499/1507: training loss=0.11\n",
      "Step 1500/1507: training loss=0.03, validation loss=0.21\n",
      "Step 1501/1507: training loss=0.13\n",
      "Step 1502/1507: training loss=0.03\n",
      "Step 1503/1507: training loss=0.13\n",
      "Step 1504/1507: training loss=0.02\n",
      "Step 1505/1507: training loss=0.15\n",
      "Step 1506/1507: training loss=0.10, full validation loss=0.23\n",
      "Step 1507/1507: training loss=0.02\n",
      "Checkpoint created at step 1004\n",
      "Checkpoint created at step 1506\n",
      "New fine-tuned model created\n",
      "The job has successfully completed\n"
     ]
    }
   ],
   "source": [
    "# Check the progress\n",
    "response = client.fine_tuning.jobs.list_events(job_id)\n",
    "\n",
    "events = response.data\n",
    "events.reverse()\n",
    "\n",
    "for event in events:\n",
    "    print(event.message)"
   ]
  },
  {
   "cell_type": "code",
   "execution_count": 66,
   "metadata": {},
   "outputs": [
    {
     "name": "stdout",
     "output_type": "stream",
     "text": [
      "Fine-tuned model ID: ft:gpt-4o-mini-2024-07-18:personal:isear:AGJrpluF\n"
     ]
    }
   ],
   "source": [
    "response = client.fine_tuning.jobs.retrieve(job_id)\n",
    "fine_tuned_model_id = response.fine_tuned_model\n",
    "\n",
    "if fine_tuned_model_id is None:\n",
    "    raise RuntimeError(\n",
    "        \"Fine-tuned model ID not found. Your job has likely not been completed yet.\"\n",
    "    )\n",
    "\n",
    "print(\"Fine-tuned model ID:\", fine_tuned_model_id)"
   ]
  },
  {
   "cell_type": "markdown",
   "metadata": {},
   "source": [
    "### 3. Testing fine tunned model"
   ]
  },
  {
   "cell_type": "markdown",
   "metadata": {},
   "source": [
    "#### Testint 1 row"
   ]
  },
  {
   "cell_type": "code",
   "execution_count": 26,
   "metadata": {},
   "outputs": [
    {
     "data": {
      "text/html": [
       "<div>\n",
       "<style scoped>\n",
       "    .dataframe tbody tr th:only-of-type {\n",
       "        vertical-align: middle;\n",
       "    }\n",
       "\n",
       "    .dataframe tbody tr th {\n",
       "        vertical-align: top;\n",
       "    }\n",
       "\n",
       "    .dataframe thead th {\n",
       "        text-align: right;\n",
       "    }\n",
       "</style>\n",
       "<table border=\"1\" class=\"dataframe\">\n",
       "  <thead>\n",
       "    <tr style=\"text-align: right;\">\n",
       "      <th></th>\n",
       "      <th>prompt</th>\n",
       "      <th>completion</th>\n",
       "    </tr>\n",
       "  </thead>\n",
       "  <tbody>\n",
       "    <tr>\n",
       "      <th>0</th>\n",
       "      <td>when a friend carelessly broke and object in m...</td>\n",
       "      <td>anger</td>\n",
       "    </tr>\n",
       "    <tr>\n",
       "      <th>1</th>\n",
       "      <td>when i felt powerless to help the poor or when...</td>\n",
       "      <td>sadness</td>\n",
       "    </tr>\n",
       "    <tr>\n",
       "      <th>2</th>\n",
       "      <td>one of my best friends'fianct broke off the re...</td>\n",
       "      <td>shame</td>\n",
       "    </tr>\n",
       "    <tr>\n",
       "      <th>3</th>\n",
       "      <td>i hadn't been at my parent's place for a long ...</td>\n",
       "      <td>sadness</td>\n",
       "    </tr>\n",
       "    <tr>\n",
       "      <th>4</th>\n",
       "      <td>when i didn't notify someone that he was summo...</td>\n",
       "      <td>guilt</td>\n",
       "    </tr>\n",
       "  </tbody>\n",
       "</table>\n",
       "</div>"
      ],
      "text/plain": [
       "                                              prompt completion\n",
       "0  when a friend carelessly broke and object in m...      anger\n",
       "1  when i felt powerless to help the poor or when...    sadness\n",
       "2  one of my best friends'fianct broke off the re...      shame\n",
       "3  i hadn't been at my parent's place for a long ...    sadness\n",
       "4  when i didn't notify someone that he was summo...      guilt"
      ]
     },
     "execution_count": 26,
     "metadata": {},
     "output_type": "execute_result"
    }
   ],
   "source": [
    "df_test.head()"
   ]
  },
  {
   "cell_type": "code",
   "execution_count": 27,
   "metadata": {},
   "outputs": [
    {
     "data": {
      "text/plain": [
       "prompt        when a friend carelessly broke and object in m...\n",
       "completion                                                anger\n",
       "Name: 0, dtype: object"
      ]
     },
     "execution_count": 27,
     "metadata": {},
     "output_type": "execute_result"
    }
   ],
   "source": [
    "df_test.iloc[0]"
   ]
  },
  {
   "cell_type": "code",
   "execution_count": 29,
   "metadata": {},
   "outputs": [
    {
     "name": "stdout",
     "output_type": "stream",
     "text": [
      "[{'role': 'system', 'content': 'You are an advanced assistant specialized in analyzing and detecting emotions in short text. Your role is to identify the underlying emotion conveyed in each input and provide the most accurate emotional classification between: shame, sadness, joy, guilt, fear, disgust and anger'}, {'role': 'user', 'content': \"Text: when a friend carelessly broke and object in my parent's house and did not apologize, or pay, or anything\\n\\nWhat is the emotion expressed in this text?\"}]\n"
     ]
    }
   ],
   "source": [
    "test_row = df_test.iloc[0]\n",
    "test_messages = []\n",
    "test_messages.append({\"role\": \"system\", \"content\": system_message})\n",
    "user_message = create_user_message(test_row)\n",
    "test_messages.append({\"role\": \"user\", \"content\": user_message})\n",
    "\n",
    "print(test_messages)"
   ]
  },
  {
   "cell_type": "code",
   "execution_count": 30,
   "metadata": {},
   "outputs": [
    {
     "name": "stdout",
     "output_type": "stream",
     "text": [
      "anger\n"
     ]
    }
   ],
   "source": [
    "response = client.chat.completions.create(\n",
    "    model=fine_tuned_model_id, messages=test_messages, temperature=0, max_tokens=500\n",
    ")\n",
    "print(response.choices[0].message.content)"
   ]
  },
  {
   "cell_type": "markdown",
   "metadata": {},
   "source": [
    "#### Evaluating with all Testing data"
   ]
  },
  {
   "cell_type": "code",
   "execution_count": 31,
   "metadata": {},
   "outputs": [
    {
     "data": {
      "text/html": [
       "<div>\n",
       "<style scoped>\n",
       "    .dataframe tbody tr th:only-of-type {\n",
       "        vertical-align: middle;\n",
       "    }\n",
       "\n",
       "    .dataframe tbody tr th {\n",
       "        vertical-align: top;\n",
       "    }\n",
       "\n",
       "    .dataframe thead th {\n",
       "        text-align: right;\n",
       "    }\n",
       "</style>\n",
       "<table border=\"1\" class=\"dataframe\">\n",
       "  <thead>\n",
       "    <tr style=\"text-align: right;\">\n",
       "      <th></th>\n",
       "      <th>prompt</th>\n",
       "      <th>completion</th>\n",
       "      <th>predicted_emotion</th>\n",
       "    </tr>\n",
       "  </thead>\n",
       "  <tbody>\n",
       "    <tr>\n",
       "      <th>0</th>\n",
       "      <td>when a friend carelessly broke and object in m...</td>\n",
       "      <td>anger</td>\n",
       "      <td>anger</td>\n",
       "    </tr>\n",
       "    <tr>\n",
       "      <th>1</th>\n",
       "      <td>when i felt powerless to help the poor or when...</td>\n",
       "      <td>sadness</td>\n",
       "      <td>guilt</td>\n",
       "    </tr>\n",
       "    <tr>\n",
       "      <th>2</th>\n",
       "      <td>one of my best friends'fianct broke off the re...</td>\n",
       "      <td>shame</td>\n",
       "      <td>shame</td>\n",
       "    </tr>\n",
       "    <tr>\n",
       "      <th>3</th>\n",
       "      <td>i hadn't been at my parent's place for a long ...</td>\n",
       "      <td>sadness</td>\n",
       "      <td>sadness</td>\n",
       "    </tr>\n",
       "    <tr>\n",
       "      <th>4</th>\n",
       "      <td>when i didn't notify someone that he was summo...</td>\n",
       "      <td>guilt</td>\n",
       "      <td>guilt</td>\n",
       "    </tr>\n",
       "  </tbody>\n",
       "</table>\n",
       "</div>"
      ],
      "text/plain": [
       "                                              prompt completion  \\\n",
       "0  when a friend carelessly broke and object in m...      anger   \n",
       "1  when i felt powerless to help the poor or when...    sadness   \n",
       "2  one of my best friends'fianct broke off the re...      shame   \n",
       "3  i hadn't been at my parent's place for a long ...    sadness   \n",
       "4  when i didn't notify someone that he was summo...      guilt   \n",
       "\n",
       "  predicted_emotion  \n",
       "0             anger  \n",
       "1             guilt  \n",
       "2             shame  \n",
       "3           sadness  \n",
       "4             guilt  "
      ]
     },
     "execution_count": 31,
     "metadata": {},
     "output_type": "execute_result"
    }
   ],
   "source": [
    "# Initialize an empty list to store the predictions\n",
    "df_test[\"predicted_emotion\"] = (\n",
    "    None  # Create a new column for storing the predicted emotions\n",
    ")\n",
    "\n",
    "# Iterate over each row in df_test\n",
    "for index, row in df_test.iterrows():\n",
    "    test_messages = []\n",
    "\n",
    "    # Append system message and user message\n",
    "    test_messages.append({\"role\": \"system\", \"content\": system_message})\n",
    "    user_message = create_user_message(row)\n",
    "    test_messages.append({\"role\": \"user\", \"content\": user_message})\n",
    "\n",
    "    # Call the fine-tuned model for emotion classification\n",
    "    response = client.chat.completions.create(\n",
    "        model=fine_tuned_model_id, messages=test_messages, temperature=0, max_tokens=500\n",
    "    )\n",
    "\n",
    "    # Extract the model's response (predicted emotion)\n",
    "    predicted_emotion = response.choices[0].message.content.strip()\n",
    "\n",
    "    # Store the predicted emotion in the new column\n",
    "    df_test.at[index, \"predicted_emotion\"] = predicted_emotion\n",
    "\n",
    "# Display the dataframe with the predicted emotions\n",
    "df_test.head()"
   ]
  },
  {
   "cell_type": "markdown",
   "metadata": {},
   "source": [
    "#### Calculating Metrics for test set"
   ]
  },
  {
   "cell_type": "code",
   "execution_count": 34,
   "metadata": {},
   "outputs": [
    {
     "name": "stdout",
     "output_type": "stream",
     "text": [
      "Classification Report:\n",
      "              precision    recall  f1-score   support\n",
      "\n",
      "       anger       0.70      0.76      0.73       109\n",
      "     sadness       0.83      0.74      0.78       107\n",
      "       shame       0.92      0.87      0.90       109\n",
      "       guilt       0.79      0.76      0.78       106\n",
      "     disgust       0.92      0.99      0.96       109\n",
      "        fear       0.81      0.81      0.81       108\n",
      "         joy       0.74      0.76      0.75       106\n",
      "\n",
      "    accuracy                           0.82       754\n",
      "   macro avg       0.82      0.82      0.82       754\n",
      "weighted avg       0.82      0.82      0.82       754\n",
      "\n"
     ]
    },
    {
     "data": {
      "image/png": "[encoded data removed]",
      "text/plain": [
       "<Figure size 1000x700 with 2 Axes>"
      ]
     },
     "metadata": {},
     "output_type": "display_data"
    },
    {
     "data": {
      "image/png": "[encoded data removed]",
      "text/plain": [
       "<Figure size 1000x700 with 2 Axes>"
      ]
     },
     "metadata": {},
     "output_type": "display_data"
    },
    {
     "data": {
      "text/html": [
       "<div>\n",
       "<style scoped>\n",
       "    .dataframe tbody tr th:only-of-type {\n",
       "        vertical-align: middle;\n",
       "    }\n",
       "\n",
       "    .dataframe tbody tr th {\n",
       "        vertical-align: top;\n",
       "    }\n",
       "\n",
       "    .dataframe thead th {\n",
       "        text-align: right;\n",
       "    }\n",
       "</style>\n",
       "<table border=\"1\" class=\"dataframe\">\n",
       "  <thead>\n",
       "    <tr style=\"text-align: right;\">\n",
       "      <th></th>\n",
       "      <th>Model</th>\n",
       "      <th>Test Accuracy</th>\n",
       "      <th>Test Macro Precision</th>\n",
       "      <th>Test Macro Recall</th>\n",
       "      <th>Test Macro F1-Score</th>\n",
       "    </tr>\n",
       "  </thead>\n",
       "  <tbody>\n",
       "    <tr>\n",
       "      <th>0</th>\n",
       "      <td>gpt-4o-mini-2024-07-18</td>\n",
       "      <td>0.81565</td>\n",
       "      <td>0.816885</td>\n",
       "      <td>0.815041</td>\n",
       "      <td>0.815049</td>\n",
       "    </tr>\n",
       "  </tbody>\n",
       "</table>\n",
       "</div>"
      ],
      "text/plain": [
       "                    Model  Test Accuracy  Test Macro Precision  \\\n",
       "0  gpt-4o-mini-2024-07-18        0.81565              0.816885   \n",
       "\n",
       "   Test Macro Recall  Test Macro F1-Score  \n",
       "0           0.815041             0.815049  "
      ]
     },
     "execution_count": 34,
     "metadata": {},
     "output_type": "execute_result"
    }
   ],
   "source": [
    "import matplotlib.pyplot as plt\n",
    "import numpy as np\n",
    "import pandas as pd\n",
    "import seaborn as sns\n",
    "from sklearn.metrics import classification_report, confusion_matrix\n",
    "\n",
    "# Initialize an empty list to store results\n",
    "results = []\n",
    "\n",
    "# Step 1: Classification metrics\n",
    "print(\"Classification Report:\")\n",
    "report = classification_report(\n",
    "    df_test[\"completion\"],\n",
    "    df_test[\"predicted_emotion\"],\n",
    "    output_dict=True,\n",
    "    target_names=df_test[\"completion\"].unique(),\n",
    ")\n",
    "print(\n",
    "    classification_report(\n",
    "        df_test[\"completion\"],\n",
    "        df_test[\"predicted_emotion\"],\n",
    "        target_names=df_test[\"completion\"].unique(),\n",
    "    )\n",
    ")\n",
    "\n",
    "# Extract important metrics from the classification report for the test set\n",
    "accuracy = report[\"accuracy\"]\n",
    "macro_precision = report[\"macro avg\"][\"precision\"]\n",
    "macro_recall = report[\"macro avg\"][\"recall\"]\n",
    "macro_f1 = report[\"macro avg\"][\"f1-score\"]\n",
    "\n",
    "# Store the metrics in the results list\n",
    "results.append(\n",
    "    {\n",
    "        \"Model\": MODEL,\n",
    "        \"Test Accuracy\": accuracy,\n",
    "        \"Test Macro Precision\": macro_precision,\n",
    "        \"Test Macro Recall\": macro_recall,\n",
    "        \"Test Macro F1-Score\": macro_f1,\n",
    "    }\n",
    ")\n",
    "\n",
    "# Convert results to a DataFrame\n",
    "results_df = pd.DataFrame(results)\n",
    "\n",
    "# Display the DataFrame with results\n",
    "\n",
    "\n",
    "# Step 2: Confusion matrix\n",
    "conf_matrix = confusion_matrix(\n",
    "    df_test[\"completion\"],\n",
    "    df_test[\"predicted_emotion\"],\n",
    "    labels=df_test[\"completion\"].unique(),\n",
    ")\n",
    "\n",
    "# Convert confusion matrix to DataFrame for better plotting\n",
    "conf_matrix_df = pd.DataFrame(\n",
    "    conf_matrix,\n",
    "    index=df_test[\"completion\"].unique(),\n",
    "    columns=df_test[\"completion\"].unique(),\n",
    ")\n",
    "\n",
    "# Step 3: Plotting the confusion matrix\n",
    "plt.figure(figsize=(10, 7))\n",
    "sns.heatmap(conf_matrix_df, annot=True, cmap=\"Blues\", fmt=\"g\")\n",
    "plt.title(\"Confusion Matrix\")\n",
    "plt.xlabel(\"Predicted\")\n",
    "plt.ylabel(\"True\")\n",
    "plt.show()\n",
    "\n",
    "\n",
    "# Step 1: Compute confusion matrix\n",
    "conf_matrix = confusion_matrix(\n",
    "    df_test[\"completion\"],\n",
    "    df_test[\"predicted_emotion\"],\n",
    "    labels=df_test[\"completion\"].unique(),\n",
    ")\n",
    "\n",
    "# Step 2: Normalize the confusion matrix row-wise (i.e., as percentages)\n",
    "conf_matrix_normalized = (\n",
    "    conf_matrix.astype(\"float\") / conf_matrix.sum(axis=1)[:, np.newaxis]\n",
    ")\n",
    "\n",
    "# Step 3: Convert the normalized confusion matrix to a DataFrame for plotting\n",
    "conf_matrix_normalized_df = pd.DataFrame(\n",
    "    conf_matrix_normalized,\n",
    "    index=df_test[\"completion\"].unique(),\n",
    "    columns=df_test[\"completion\"].unique(),\n",
    ")\n",
    "\n",
    "# Step 4: Plot the normalized confusion matrix\n",
    "plt.figure(figsize=(10, 7))\n",
    "sns.heatmap(conf_matrix_normalized_df, annot=True, cmap=\"Blues\", fmt=\".2f\")\n",
    "plt.title(\"Confusion Matrix (Percentage of Each Row)\")\n",
    "plt.xlabel(\"Predicted\")\n",
    "plt.ylabel(\"True\")\n",
    "plt.show()\n",
    "\n",
    "\n",
    "results_df"
   ]
  },
  {
   "cell_type": "code",
   "execution_count": 38,
   "metadata": {},
   "outputs": [
    {
     "data": {
      "text/html": [
       "<div>\n",
       "<style scoped>\n",
       "    .dataframe tbody tr th:only-of-type {\n",
       "        vertical-align: middle;\n",
       "    }\n",
       "\n",
       "    .dataframe tbody tr th {\n",
       "        vertical-align: top;\n",
       "    }\n",
       "\n",
       "    .dataframe thead th {\n",
       "        text-align: right;\n",
       "    }\n",
       "</style>\n",
       "<table border=\"1\" class=\"dataframe\">\n",
       "  <thead>\n",
       "    <tr style=\"text-align: right;\">\n",
       "      <th></th>\n",
       "      <th>model_name</th>\n",
       "      <th>model_id</th>\n",
       "      <th>fine_tuning_date</th>\n",
       "    </tr>\n",
       "  </thead>\n",
       "  <tbody>\n",
       "    <tr>\n",
       "      <th>0</th>\n",
       "      <td>gpt-4o-mini-2024-07-18</td>\n",
       "      <td>ft:gpt-4o-mini-2024-07-18:personal:isear:AGJrpluF</td>\n",
       "      <td>2024-10-09</td>\n",
       "    </tr>\n",
       "  </tbody>\n",
       "</table>\n",
       "</div>"
      ],
      "text/plain": [
       "               model_name                                           model_id  \\\n",
       "0  gpt-4o-mini-2024-07-18  ft:gpt-4o-mini-2024-07-18:personal:isear:AGJrpluF   \n",
       "\n",
       "  fine_tuning_date  \n",
       "0       2024-10-09  "
      ]
     },
     "execution_count": 38,
     "metadata": {},
     "output_type": "execute_result"
    }
   ],
   "source": [
    "# Saving Model ID\n",
    "from datetime import datetime\n",
    "\n",
    "# Get current date and format it as yyyy-mm-dd\n",
    "current_date = datetime.now().strftime(\"%Y-%m-%d\")\n",
    "\n",
    "df_model_ids = pd.DataFrame(\n",
    "    [[\"gpt-4o-mini-2024-07-18\", fine_tuned_model_id, current_date]],\n",
    "    columns=[\"model_name\", \"model_id\", \"fine_tuning_date\"],\n",
    ")\n",
    "df_model_ids.head()"
   ]
  },
  {
   "cell_type": "markdown",
   "metadata": {},
   "source": [
    "## Fine-tuning `gpt-3.5-turbo-0613`"
   ]
  },
  {
   "cell_type": "code",
   "execution_count": 51,
   "metadata": {},
   "outputs": [
    {
     "name": "stdout",
     "output_type": "stream",
     "text": [
      "Job ID: ftjob-Q1yfeiWEUZa4L2ghEQtHskjj\n",
      "Status: validating_files\n"
     ]
    }
   ],
   "source": [
    "MODEL = \"gpt-3.5-turbo-1106\"\n",
    "\n",
    "# Start the fine-tuning process\n",
    "response = client.fine_tuning.jobs.create(\n",
    "    training_file=train_file_id,\n",
    "    validation_file=valid_file_id,\n",
    "    model=MODEL,  # Replace with the base model you'd like to use\n",
    "    suffix=\"isear\",  # Specify the number of epochs\n",
    ")\n",
    "\n",
    "\n",
    "job_id = response.id\n",
    "\n",
    "print(\"Job ID:\", response.id)\n",
    "print(\"Status:\", response.status)"
   ]
  },
  {
   "cell_type": "code",
   "execution_count": 55,
   "metadata": {},
   "outputs": [
    {
     "name": "stdout",
     "output_type": "stream",
     "text": [
      "Job ID: ftjob-Q1yfeiWEUZa4L2ghEQtHskjj\n",
      "Status: running\n",
      "Trained Tokens: None\n"
     ]
    }
   ],
   "source": [
    "# Check status\n",
    "response = client.fine_tuning.jobs.retrieve(job_id)\n",
    "\n",
    "print(\"Job ID:\", response.id)\n",
    "print(\"Status:\", response.status)\n",
    "print(\"Trained Tokens:\", response.trained_tokens)"
   ]
  },
  {
   "cell_type": "code",
   "execution_count": 69,
   "metadata": {},
   "outputs": [
    {
     "name": "stdout",
     "output_type": "stream",
     "text": [
      "Step 1492/1507: training loss=0.27\n",
      "Step 1493/1507: training loss=0.04\n",
      "Step 1494/1507: training loss=0.05\n",
      "Step 1495/1507: training loss=0.05\n",
      "Step 1496/1507: training loss=0.06\n",
      "Step 1497/1507: training loss=0.16\n",
      "Step 1498/1507: training loss=0.05\n",
      "Step 1499/1507: training loss=0.02\n",
      "Step 1500/1507: training loss=0.10, validation loss=0.08\n",
      "Step 1501/1507: training loss=0.00\n",
      "Step 1502/1507: training loss=0.03\n",
      "Step 1503/1507: training loss=0.15\n",
      "Step 1504/1507: training loss=0.14\n",
      "Step 1505/1507: training loss=0.02\n",
      "Step 1506/1507: training loss=0.15, full validation loss=0.14\n",
      "Step 1507/1507: training loss=0.05\n",
      "Checkpoint created at step 1004\n",
      "Checkpoint created at step 1506\n",
      "New fine-tuned model created\n",
      "The job has successfully completed\n"
     ]
    }
   ],
   "source": [
    "# Check the progress\n",
    "response = client.fine_tuning.jobs.list_events(job_id)\n",
    "\n",
    "events = response.data\n",
    "events.reverse()\n",
    "\n",
    "for event in events:\n",
    "    print(event.message)"
   ]
  },
  {
   "cell_type": "code",
   "execution_count": 70,
   "metadata": {},
   "outputs": [
    {
     "name": "stdout",
     "output_type": "stream",
     "text": [
      "Fine-tuned model ID: ft:gpt-3.5-turbo-1106:personal:isear:AGdiGg4q\n"
     ]
    }
   ],
   "source": [
    "response = client.fine_tuning.jobs.retrieve(job_id)\n",
    "fine_tuned_model_id = response.fine_tuned_model\n",
    "\n",
    "if fine_tuned_model_id is None:\n",
    "    raise RuntimeError(\n",
    "        \"Fine-tuned model ID not found. Your job has likely not been completed yet.\"\n",
    "    )\n",
    "\n",
    "print(\"Fine-tuned model ID:\", fine_tuned_model_id)"
   ]
  },
  {
   "cell_type": "code",
   "execution_count": 71,
   "metadata": {},
   "outputs": [
    {
     "data": {
      "text/html": [
       "<div>\n",
       "<style scoped>\n",
       "    .dataframe tbody tr th:only-of-type {\n",
       "        vertical-align: middle;\n",
       "    }\n",
       "\n",
       "    .dataframe tbody tr th {\n",
       "        vertical-align: top;\n",
       "    }\n",
       "\n",
       "    .dataframe thead th {\n",
       "        text-align: right;\n",
       "    }\n",
       "</style>\n",
       "<table border=\"1\" class=\"dataframe\">\n",
       "  <thead>\n",
       "    <tr style=\"text-align: right;\">\n",
       "      <th></th>\n",
       "      <th>prompt</th>\n",
       "      <th>completion</th>\n",
       "      <th>predicted_emotion</th>\n",
       "    </tr>\n",
       "  </thead>\n",
       "  <tbody>\n",
       "    <tr>\n",
       "      <th>0</th>\n",
       "      <td>when a friend carelessly broke and object in m...</td>\n",
       "      <td>anger</td>\n",
       "      <td>anger</td>\n",
       "    </tr>\n",
       "    <tr>\n",
       "      <th>1</th>\n",
       "      <td>when i felt powerless to help the poor or when...</td>\n",
       "      <td>sadness</td>\n",
       "      <td>sadness</td>\n",
       "    </tr>\n",
       "    <tr>\n",
       "      <th>2</th>\n",
       "      <td>one of my best friends'fianct broke off the re...</td>\n",
       "      <td>shame</td>\n",
       "      <td>shame</td>\n",
       "    </tr>\n",
       "    <tr>\n",
       "      <th>3</th>\n",
       "      <td>i hadn't been at my parent's place for a long ...</td>\n",
       "      <td>sadness</td>\n",
       "      <td>sadness</td>\n",
       "    </tr>\n",
       "    <tr>\n",
       "      <th>4</th>\n",
       "      <td>when i didn't notify someone that he was summo...</td>\n",
       "      <td>guilt</td>\n",
       "      <td>guilt</td>\n",
       "    </tr>\n",
       "  </tbody>\n",
       "</table>\n",
       "</div>"
      ],
      "text/plain": [
       "                                              prompt completion  \\\n",
       "0  when a friend carelessly broke and object in m...      anger   \n",
       "1  when i felt powerless to help the poor or when...    sadness   \n",
       "2  one of my best friends'fianct broke off the re...      shame   \n",
       "3  i hadn't been at my parent's place for a long ...    sadness   \n",
       "4  when i didn't notify someone that he was summo...      guilt   \n",
       "\n",
       "  predicted_emotion  \n",
       "0             anger  \n",
       "1           sadness  \n",
       "2             shame  \n",
       "3           sadness  \n",
       "4             guilt  "
      ]
     },
     "execution_count": 71,
     "metadata": {},
     "output_type": "execute_result"
    }
   ],
   "source": [
    "# Evaluating on testing data\n",
    "\n",
    "# Initialize an empty list to store the predictions\n",
    "df_test[\"predicted_emotion\"] = (\n",
    "    None  # Create a new column for storing the predicted emotions\n",
    ")\n",
    "\n",
    "# Iterate over each row in df_test\n",
    "for index, row in df_test.iterrows():\n",
    "    test_messages = []\n",
    "\n",
    "    # Append system message and user message\n",
    "    test_messages.append({\"role\": \"system\", \"content\": system_message})\n",
    "    user_message = create_user_message(row)\n",
    "    test_messages.append({\"role\": \"user\", \"content\": user_message})\n",
    "\n",
    "    # Call the fine-tuned model for emotion classification\n",
    "    response = client.chat.completions.create(\n",
    "        model=fine_tuned_model_id, messages=test_messages, temperature=0, max_tokens=500\n",
    "    )\n",
    "\n",
    "    # Extract the model's response (predicted emotion)\n",
    "    predicted_emotion = response.choices[0].message.content.strip()\n",
    "\n",
    "    # Store the predicted emotion in the new column\n",
    "    df_test.at[index, \"predicted_emotion\"] = predicted_emotion\n",
    "\n",
    "# Display the dataframe with the predicted emotions\n",
    "df_test.head()"
   ]
  },
  {
   "cell_type": "code",
   "execution_count": 72,
   "metadata": {},
   "outputs": [
    {
     "name": "stdout",
     "output_type": "stream",
     "text": [
      "Classification Report:\n",
      "              precision    recall  f1-score   support\n",
      "\n",
      "       anger       0.75      0.76      0.76       109\n",
      "     sadness       0.78      0.79      0.79       107\n",
      "       shame       0.92      0.86      0.89       109\n",
      "       guilt       0.75      0.80      0.78       106\n",
      "     disgust       0.95      0.94      0.95       109\n",
      "        fear       0.83      0.80      0.82       108\n",
      "         joy       0.69      0.71      0.70       106\n",
      "\n",
      "    accuracy                           0.81       754\n",
      "   macro avg       0.81      0.81      0.81       754\n",
      "weighted avg       0.81      0.81      0.81       754\n",
      "\n"
     ]
    },
    {
     "data": {
      "image/png": "[encoded data removed]",
      "text/plain": [
       "<Figure size 1000x700 with 2 Axes>"
      ]
     },
     "metadata": {},
     "output_type": "display_data"
    },
    {
     "data": {
      "image/png": "[encoded data removed]",
      "text/plain": [
       "<Figure size 1000x700 with 2 Axes>"
      ]
     },
     "metadata": {},
     "output_type": "display_data"
    },
    {
     "data": {
      "text/html": [
       "<div>\n",
       "<style scoped>\n",
       "    .dataframe tbody tr th:only-of-type {\n",
       "        vertical-align: middle;\n",
       "    }\n",
       "\n",
       "    .dataframe tbody tr th {\n",
       "        vertical-align: top;\n",
       "    }\n",
       "\n",
       "    .dataframe thead th {\n",
       "        text-align: right;\n",
       "    }\n",
       "</style>\n",
       "<table border=\"1\" class=\"dataframe\">\n",
       "  <thead>\n",
       "    <tr style=\"text-align: right;\">\n",
       "      <th></th>\n",
       "      <th>Model</th>\n",
       "      <th>Test Accuracy</th>\n",
       "      <th>Test Macro Precision</th>\n",
       "      <th>Test Macro Recall</th>\n",
       "      <th>Test Macro F1-Score</th>\n",
       "    </tr>\n",
       "  </thead>\n",
       "  <tbody>\n",
       "    <tr>\n",
       "      <th>0</th>\n",
       "      <td>gpt-3.5-turbo-1106</td>\n",
       "      <td>0.810345</td>\n",
       "      <td>0.812125</td>\n",
       "      <td>0.809847</td>\n",
       "      <td>0.810633</td>\n",
       "    </tr>\n",
       "    <tr>\n",
       "      <th>0</th>\n",
       "      <td>gpt-4o-mini-2024-07-18</td>\n",
       "      <td>0.815650</td>\n",
       "      <td>0.816885</td>\n",
       "      <td>0.815041</td>\n",
       "      <td>0.815049</td>\n",
       "    </tr>\n",
       "  </tbody>\n",
       "</table>\n",
       "</div>"
      ],
      "text/plain": [
       "                    Model  Test Accuracy  Test Macro Precision  \\\n",
       "0      gpt-3.5-turbo-1106       0.810345              0.812125   \n",
       "0  gpt-4o-mini-2024-07-18       0.815650              0.816885   \n",
       "\n",
       "   Test Macro Recall  Test Macro F1-Score  \n",
       "0           0.809847             0.810633  \n",
       "0           0.815041             0.815049  "
      ]
     },
     "execution_count": 72,
     "metadata": {},
     "output_type": "execute_result"
    }
   ],
   "source": [
    "# Initialize an empty list to store results\n",
    "results = []\n",
    "\n",
    "# Step 1: Classification metrics\n",
    "print(\"Classification Report:\")\n",
    "report = classification_report(\n",
    "    df_test[\"completion\"],\n",
    "    df_test[\"predicted_emotion\"],\n",
    "    output_dict=True,\n",
    "    target_names=df_test[\"completion\"].unique(),\n",
    ")\n",
    "print(\n",
    "    classification_report(\n",
    "        df_test[\"completion\"],\n",
    "        df_test[\"predicted_emotion\"],\n",
    "        target_names=df_test[\"completion\"].unique(),\n",
    "    )\n",
    ")\n",
    "\n",
    "# Extract important metrics from the classification report for the test set\n",
    "accuracy = report[\"accuracy\"]\n",
    "macro_precision = report[\"macro avg\"][\"precision\"]\n",
    "macro_recall = report[\"macro avg\"][\"recall\"]\n",
    "macro_f1 = report[\"macro avg\"][\"f1-score\"]\n",
    "\n",
    "# Store the metrics in the results list\n",
    "results.append(\n",
    "    {\n",
    "        \"Model\": MODEL,\n",
    "        \"Test Accuracy\": accuracy,\n",
    "        \"Test Macro Precision\": macro_precision,\n",
    "        \"Test Macro Recall\": macro_recall,\n",
    "        \"Test Macro F1-Score\": macro_f1,\n",
    "    }\n",
    ")\n",
    "\n",
    "# Convert results to a DataFrame\n",
    "results_df_gpt_3_5 = pd.DataFrame(results)\n",
    "\n",
    "# Display the DataFrame with results\n",
    "\n",
    "\n",
    "# Step 2: Confusion matrix\n",
    "conf_matrix = confusion_matrix(\n",
    "    df_test[\"completion\"],\n",
    "    df_test[\"predicted_emotion\"],\n",
    "    labels=df_test[\"completion\"].unique(),\n",
    ")\n",
    "\n",
    "# Convert confusion matrix to DataFrame for better plotting\n",
    "conf_matrix_df = pd.DataFrame(\n",
    "    conf_matrix,\n",
    "    index=df_test[\"completion\"].unique(),\n",
    "    columns=df_test[\"completion\"].unique(),\n",
    ")\n",
    "\n",
    "# Step 3: Plotting the confusion matrix\n",
    "plt.figure(figsize=(10, 7))\n",
    "sns.heatmap(conf_matrix_df, annot=True, cmap=\"Blues\", fmt=\"g\")\n",
    "plt.title(\"Confusion Matrix\")\n",
    "plt.xlabel(\"Predicted\")\n",
    "plt.ylabel(\"True\")\n",
    "plt.show()\n",
    "\n",
    "\n",
    "# Step 1: Compute confusion matrix\n",
    "conf_matrix = confusion_matrix(\n",
    "    df_test[\"completion\"],\n",
    "    df_test[\"predicted_emotion\"],\n",
    "    labels=df_test[\"completion\"].unique(),\n",
    ")\n",
    "\n",
    "# Step 2: Normalize the confusion matrix row-wise (i.e., as percentages)\n",
    "conf_matrix_normalized = (\n",
    "    conf_matrix.astype(\"float\") / conf_matrix.sum(axis=1)[:, np.newaxis]\n",
    ")\n",
    "\n",
    "# Step 3: Convert the normalized confusion matrix to a DataFrame for plotting\n",
    "conf_matrix_normalized_df = pd.DataFrame(\n",
    "    conf_matrix_normalized,\n",
    "    index=df_test[\"completion\"].unique(),\n",
    "    columns=df_test[\"completion\"].unique(),\n",
    ")\n",
    "\n",
    "# Step 4: Plot the normalized confusion matrix\n",
    "plt.figure(figsize=(10, 7))\n",
    "sns.heatmap(conf_matrix_normalized_df, annot=True, cmap=\"Blues\", fmt=\".2f\")\n",
    "plt.title(\"Confusion Matrix (Percentage of Each Row)\")\n",
    "plt.xlabel(\"Predicted\")\n",
    "plt.ylabel(\"True\")\n",
    "plt.show()\n",
    "\n",
    "\n",
    "results_df = pd.concat([results_df_gpt_3_5, results_df])\n",
    "results_df"
   ]
  },
  {
   "cell_type": "code",
   "execution_count": 73,
   "metadata": {},
   "outputs": [
    {
     "data": {
      "text/html": [
       "<div>\n",
       "<style scoped>\n",
       "    .dataframe tbody tr th:only-of-type {\n",
       "        vertical-align: middle;\n",
       "    }\n",
       "\n",
       "    .dataframe tbody tr th {\n",
       "        vertical-align: top;\n",
       "    }\n",
       "\n",
       "    .dataframe thead th {\n",
       "        text-align: right;\n",
       "    }\n",
       "</style>\n",
       "<table border=\"1\" class=\"dataframe\">\n",
       "  <thead>\n",
       "    <tr style=\"text-align: right;\">\n",
       "      <th></th>\n",
       "      <th>model_name</th>\n",
       "      <th>model_id</th>\n",
       "      <th>fine_tuning_date</th>\n",
       "    </tr>\n",
       "  </thead>\n",
       "  <tbody>\n",
       "    <tr>\n",
       "      <th>0</th>\n",
       "      <td>gpt-4o-mini-2024-07-18</td>\n",
       "      <td>ft:gpt-4o-mini-2024-07-18:personal:isear:AGJrpluF</td>\n",
       "      <td>2024-10-09</td>\n",
       "    </tr>\n",
       "    <tr>\n",
       "      <th>0</th>\n",
       "      <td>gpt-3.5-turbo-1106</td>\n",
       "      <td>ft:gpt-3.5-turbo-1106:personal:isear:AGdiGg4q</td>\n",
       "      <td>2024-10-09</td>\n",
       "    </tr>\n",
       "  </tbody>\n",
       "</table>\n",
       "</div>"
      ],
      "text/plain": [
       "               model_name                                           model_id  \\\n",
       "0  gpt-4o-mini-2024-07-18  ft:gpt-4o-mini-2024-07-18:personal:isear:AGJrpluF   \n",
       "0      gpt-3.5-turbo-1106      ft:gpt-3.5-turbo-1106:personal:isear:AGdiGg4q   \n",
       "\n",
       "  fine_tuning_date  \n",
       "0       2024-10-09  \n",
       "0       2024-10-09  "
      ]
     },
     "execution_count": 73,
     "metadata": {},
     "output_type": "execute_result"
    }
   ],
   "source": [
    "df_model_id_gpt3_5 = pd.DataFrame(\n",
    "    [[\"gpt-3.5-turbo-1106\", fine_tuned_model_id, current_date]],\n",
    "    columns=[\"model_name\", \"model_id\", \"fine_tuning_date\"],\n",
    ")\n",
    "df_model_ids = pd.concat([df_model_ids, df_model_id_gpt3_5])\n",
    "df_model_ids.head()"
   ]
  },
  {
   "cell_type": "markdown",
   "metadata": {},
   "source": [
    "## Saving results and models Ids"
   ]
  },
  {
   "cell_type": "code",
   "execution_count": 144,
   "metadata": {},
   "outputs": [
    {
     "data": {
      "text/html": [
       "<div>\n",
       "<style scoped>\n",
       "    .dataframe tbody tr th:only-of-type {\n",
       "        vertical-align: middle;\n",
       "    }\n",
       "\n",
       "    .dataframe tbody tr th {\n",
       "        vertical-align: top;\n",
       "    }\n",
       "\n",
       "    .dataframe thead th {\n",
       "        text-align: right;\n",
       "    }\n",
       "</style>\n",
       "<table border=\"1\" class=\"dataframe\">\n",
       "  <thead>\n",
       "    <tr style=\"text-align: right;\">\n",
       "      <th></th>\n",
       "      <th>Model</th>\n",
       "      <th>Method</th>\n",
       "      <th>Test Accuracy</th>\n",
       "      <th>Test Macro Precision</th>\n",
       "      <th>Test Macro Recall</th>\n",
       "      <th>Test Macro F1-Score</th>\n",
       "      <th>method</th>\n",
       "    </tr>\n",
       "  </thead>\n",
       "  <tbody>\n",
       "    <tr>\n",
       "      <th>0</th>\n",
       "      <td>gpt-4o-mini</td>\n",
       "      <td>Transfer Learning</td>\n",
       "      <td>0.757294</td>\n",
       "      <td>0.765481</td>\n",
       "      <td>0.756496</td>\n",
       "      <td>0.754221</td>\n",
       "      <td>NaN</td>\n",
       "    </tr>\n",
       "    <tr>\n",
       "      <th>0</th>\n",
       "      <td>gpt-3.5-turbo-1106</td>\n",
       "      <td>NaN</td>\n",
       "      <td>0.810345</td>\n",
       "      <td>0.812125</td>\n",
       "      <td>0.809847</td>\n",
       "      <td>0.810633</td>\n",
       "      <td>fine-tuning</td>\n",
       "    </tr>\n",
       "    <tr>\n",
       "      <th>0</th>\n",
       "      <td>gpt-4o-mini-2024-07-18</td>\n",
       "      <td>NaN</td>\n",
       "      <td>0.815650</td>\n",
       "      <td>0.816885</td>\n",
       "      <td>0.815041</td>\n",
       "      <td>0.815049</td>\n",
       "      <td>fine-tuning</td>\n",
       "    </tr>\n",
       "  </tbody>\n",
       "</table>\n",
       "</div>"
      ],
      "text/plain": [
       "                    Model             Method  Test Accuracy  \\\n",
       "0             gpt-4o-mini  Transfer Learning       0.757294   \n",
       "0      gpt-3.5-turbo-1106                NaN       0.810345   \n",
       "0  gpt-4o-mini-2024-07-18                NaN       0.815650   \n",
       "\n",
       "   Test Macro Precision  Test Macro Recall  Test Macro F1-Score       method  \n",
       "0              0.765481           0.756496             0.754221          NaN  \n",
       "0              0.812125           0.809847             0.810633  fine-tuning  \n",
       "0              0.816885           0.815041             0.815049  fine-tuning  "
      ]
     },
     "execution_count": 144,
     "metadata": {},
     "output_type": "execute_result"
    }
   ],
   "source": [
    "results_df = pd.concat([results_df_tl, results_df])\n",
    "results_df"
   ]
  },
  {
   "cell_type": "code",
   "execution_count": 145,
   "metadata": {},
   "outputs": [],
   "source": [
    "results_df.to_excel(\"../data/model_results/llm_openai_models.xlsx\", index=False)"
   ]
  },
  {
   "cell_type": "code",
   "execution_count": 83,
   "metadata": {},
   "outputs": [],
   "source": [
    "df_model_ids.to_excel(\"../data/fine_tuned_models/openai_id_models.xlsx\", index=False)"
   ]
  }
 ],
 "metadata": {
  "kernelspec": {
   "display_name": ".venv",
   "language": "python",
   "name": "python3"
  },
  "language_info": {
   "codemirror_mode": {
    "name": "ipython",
    "version": 3
   },
   "file_extension": ".py",
   "mimetype": "text/x-python",
   "name": "python",
   "nbconvert_exporter": "python",
   "pygments_lexer": "ipython3",
   "version": "3.12.6"
  }
 },
 "nbformat": 4,
 "nbformat_minor": 2
}
