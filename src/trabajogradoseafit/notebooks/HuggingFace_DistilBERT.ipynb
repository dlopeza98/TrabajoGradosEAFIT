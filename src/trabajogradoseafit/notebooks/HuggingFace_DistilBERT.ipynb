{
 "cells": [
  {
   "cell_type": "markdown",
   "metadata": {},
   "source": [
    "# LLM - Hugging Face - DistilBERT\n",
    "\n",
    "Este notebook implementa un modelo de DistilBERT utilizando la biblioteca Hugging Face para realizar tareas de clasificación de texto. El objetivo del experimento es evaluar el rendimiento del modelo en términos de precisión y eficiencia, aplicando técnicas de Transfer Learning y Fine-Tuning."
   ]
  },
  {
   "cell_type": "markdown",
   "metadata": {},
   "source": [
    "## Libraries"
   ]
  },
  {
   "cell_type": "code",
   "execution_count": 29,
   "metadata": {},
   "outputs": [],
   "source": [
    "import transformers\n",
    "from transformers import AutoTokenizer\n",
    "from datasets import Dataset, DatasetDict, ClassLabel\n",
    "import pandas as pd\n",
    "import numpy as np\n",
    "import evaluate\n",
    "import torch\n",
    "from transformers import pipeline\n",
    "from transformers import DataCollatorWithPadding\n",
    "from transformers import AutoModelForSequenceClassification\n",
    "import seaborn as sns\n",
    "import matplotlib.pyplot as plt\n",
    "from sklearn.metrics import confusion_matrix, classification_report, accuracy_score"
   ]
  },
  {
   "cell_type": "markdown",
   "metadata": {},
   "source": [
    "## Dataset"
   ]
  },
  {
   "cell_type": "code",
   "execution_count": 2,
   "metadata": {},
   "outputs": [],
   "source": [
    "df_train = pd.read_csv(\"../data/data_to_model/train_data.csv\")\n",
    "df_val = pd.read_csv(\"../data/data_to_model/val_data.csv\")\n",
    "df_test = pd.read_csv(\"../data/data_to_model/test_data.csv\")"
   ]
  },
  {
   "cell_type": "code",
   "execution_count": 3,
   "metadata": {},
   "outputs": [
    {
     "data": {
      "application/vnd.jupyter.widget-view+json": {
       "model_id": "0e124fca747d4c5ab2427a2030ee6c00",
       "version_major": 2,
       "version_minor": 0
      },
      "text/plain": [
       "Casting to class labels:   0%|          | 0/6027 [00:00<?, ? examples/s]"
      ]
     },
     "metadata": {},
     "output_type": "display_data"
    },
    {
     "data": {
      "application/vnd.jupyter.widget-view+json": {
       "model_id": "81f6084e5a9a4c6ab55f5deab9790fb5",
       "version_major": 2,
       "version_minor": 0
      },
      "text/plain": [
       "Casting to class labels:   0%|          | 0/753 [00:00<?, ? examples/s]"
      ]
     },
     "metadata": {},
     "output_type": "display_data"
    },
    {
     "data": {
      "application/vnd.jupyter.widget-view+json": {
       "model_id": "6d94f480644e4b298c62e68947b6ceee",
       "version_major": 2,
       "version_minor": 0
      },
      "text/plain": [
       "Casting to class labels:   0%|          | 0/754 [00:00<?, ? examples/s]"
      ]
     },
     "metadata": {},
     "output_type": "display_data"
    },
    {
     "data": {
      "text/plain": [
       "DatasetDict({\n",
       "    train: Dataset({\n",
       "        features: ['text', 'emotion'],\n",
       "        num_rows: 6027\n",
       "    })\n",
       "    validation: Dataset({\n",
       "        features: ['text', 'emotion'],\n",
       "        num_rows: 753\n",
       "    })\n",
       "    test: Dataset({\n",
       "        features: ['text', 'emotion'],\n",
       "        num_rows: 754\n",
       "    })\n",
       "})"
      ]
     },
     "execution_count": 3,
     "metadata": {},
     "output_type": "execute_result"
    }
   ],
   "source": [
    "# Convert the pandas DataFrame into a Dataset\n",
    "df_dict_train = Dataset.from_pandas(df_train)\n",
    "df_dict_train = df_dict_train.class_encode_column(\"emotion\")\n",
    "\n",
    "df_dict_val = Dataset.from_pandas(df_val)\n",
    "df_dict_val = df_dict_val.class_encode_column(\"emotion\")\n",
    "\n",
    "df_dict_test = Dataset.from_pandas(df_test)\n",
    "df_dict_test = df_dict_test.class_encode_column(\"emotion\")\n",
    "\n",
    "\n",
    "# Crear el DatasetDict con train, validation y test\n",
    "dataset_dict = DatasetDict(\n",
    "    {\n",
    "        \"train\": df_dict_train,\n",
    "        \"validation\": df_dict_val,\n",
    "        \"test\": df_dict_test,\n",
    "    }\n",
    ")\n",
    "\n",
    "# Remover la columna '__index_level_0__' que no es necesaria\n",
    "# dataset_dict = dataset_dict.remove_columns([\"__index_level_0__\"])\n",
    "\n",
    "# Verificar el resultado\n",
    "dataset_dict"
   ]
  },
  {
   "cell_type": "markdown",
   "metadata": {},
   "source": [
    "## 1. Transfer Learning using Zero-shot classification"
   ]
  },
  {
   "cell_type": "code",
   "execution_count": 27,
   "metadata": {},
   "outputs": [
    {
     "name": "stderr",
     "output_type": "stream",
     "text": [
      "Some weights of DistilBertForSequenceClassification were not initialized from the model checkpoint at distilbert-base-uncased and are newly initialized: ['classifier.bias', 'classifier.weight', 'pre_classifier.bias', 'pre_classifier.weight']\n",
      "You should probably TRAIN this model on a down-stream task to be able to use it for predictions and inference.\n",
      "Failed to determine 'entailment' label id from the label2id mapping in the model config. Setting to -1. Define a descriptive label2id mapping in the model config to ensure correct outputs.\n"
     ]
    },
    {
     "data": {
      "text/plain": [
       "{'Text': \"when a friend carelessly broke and object in my parent's house and did not apologize, or pay, or anything\",\n",
       " 'Predicted Label': 'anger',\n",
       " 'Scores': [0.14333991706371307,\n",
       "  0.14305460453033447,\n",
       "  0.14297692477703094,\n",
       "  0.14295350015163422,\n",
       "  0.14289438724517822,\n",
       "  0.14242346584796906,\n",
       "  0.14235720038414001],\n",
       " 'All Labels': ['anger',\n",
       "  'fear',\n",
       "  'disgust',\n",
       "  'joy',\n",
       "  'guilt',\n",
       "  'shame',\n",
       "  'sadness']}"
      ]
     },
     "execution_count": 27,
     "metadata": {},
     "output_type": "execute_result"
    }
   ],
   "source": [
    "# Crear la lista para almacenar los resultados\n",
    "results = []\n",
    "\n",
    "# Zero-shot classification - permite indicar las etiquetas candidatas\n",
    "classifier = pipeline(\n",
    "    \"zero-shot-classification\", device=\"cuda\", model=\"distilbert-base-uncased\"\n",
    ")\n",
    "\n",
    "candidate_labels = [\"anger\", \"disgust\", \"fear\", \"guilt\", \"joy\", \"sadness\", \"shame\"]\n",
    "\n",
    "for text in df_test[\"text\"]:\n",
    "    result = classifier(text, candidate_labels, clean_up_tokenization_spaces=True)\n",
    "\n",
    "    # Almacenar el texto, la etiqueta predicha, y las puntuaciones del primer resultado\n",
    "    results.append(\n",
    "        {\n",
    "            \"Text\": text,\n",
    "            \"Predicted Label\": result[\"labels\"][0],  # Etiqueta con la mayor puntuación\n",
    "            \"Scores\": result[\"scores\"],  # Puntajes de todas las etiquetas candidatas\n",
    "            \"All Labels\": result[\n",
    "                \"labels\"\n",
    "            ],  # Todas las etiquetas ordenadas por probabilidad\n",
    "        }\n",
    "    )\n",
    "\n",
    "results[0]"
   ]
  },
  {
   "cell_type": "code",
   "execution_count": 32,
   "metadata": {},
   "outputs": [
    {
     "data": {
      "image/png": "[encoded data removed]",
      "text/plain": [
       "<Figure size 1000x700 with 2 Axes>"
      ]
     },
     "metadata": {},
     "output_type": "display_data"
    },
    {
     "data": {
      "image/png": "[encoded data removed]",
      "text/plain": [
       "<Figure size 1000x700 with 2 Axes>"
      ]
     },
     "metadata": {},
     "output_type": "display_data"
    },
    {
     "name": "stdout",
     "output_type": "stream",
     "text": [
      "{'anger': {'precision': 0.10576923076923077, 'recall': 0.10091743119266056, 'f1-score': 0.10328638497652583, 'support': 109.0}, 'disgust': {'precision': 0.0963855421686747, 'recall': 0.14953271028037382, 'f1-score': 0.11721611721611722, 'support': 107.0}, 'fear': {'precision': 0.17094017094017094, 'recall': 0.1834862385321101, 'f1-score': 0.17699115044247787, 'support': 109.0}, 'guilt': {'precision': 0.0, 'recall': 0.0, 'f1-score': 0.0, 'support': 106.0}, 'joy': {'precision': 0.1169811320754717, 'recall': 0.28440366972477066, 'f1-score': 0.1657754010695187, 'support': 109.0}, 'sadness': {'precision': 0.06862745098039216, 'recall': 0.06481481481481481, 'f1-score': 0.06666666666666667, 'support': 108.0}, 'shame': {'precision': 0.0, 'recall': 0.0, 'f1-score': 0.0, 'support': 106.0}, 'accuracy': 0.11273209549071618, 'macro avg': {'precision': 0.07981478956199146, 'recall': 0.11187926636353283, 'f1-score': 0.0899908171959009, 'support': 754.0}, 'weighted avg': {'precision': 0.08042080358154079, 'recall': 0.11273209549071618, 'f1-score': 0.09066564273126457, 'support': 754.0}}\n"
     ]
    },
    {
     "name": "stderr",
     "output_type": "stream",
     "text": [
      "/home/dalopeza/TrabajoGradosEAFIT/.venv/lib/python3.12/site-packages/sklearn/metrics/_classification.py:1531: UndefinedMetricWarning: Precision is ill-defined and being set to 0.0 in labels with no predicted samples. Use `zero_division` parameter to control this behavior.\n",
      "  _warn_prf(average, modifier, f\"{metric.capitalize()} is\", len(result))\n",
      "/home/dalopeza/TrabajoGradosEAFIT/.venv/lib/python3.12/site-packages/sklearn/metrics/_classification.py:1531: UndefinedMetricWarning: Precision is ill-defined and being set to 0.0 in labels with no predicted samples. Use `zero_division` parameter to control this behavior.\n",
      "  _warn_prf(average, modifier, f\"{metric.capitalize()} is\", len(result))\n",
      "/home/dalopeza/TrabajoGradosEAFIT/.venv/lib/python3.12/site-packages/sklearn/metrics/_classification.py:1531: UndefinedMetricWarning: Precision is ill-defined and being set to 0.0 in labels with no predicted samples. Use `zero_division` parameter to control this behavior.\n",
      "  _warn_prf(average, modifier, f\"{metric.capitalize()} is\", len(result))\n"
     ]
    },
    {
     "data": {
      "text/html": [
       "<div>\n",
       "<style scoped>\n",
       "    .dataframe tbody tr th:only-of-type {\n",
       "        vertical-align: middle;\n",
       "    }\n",
       "\n",
       "    .dataframe tbody tr th {\n",
       "        vertical-align: top;\n",
       "    }\n",
       "\n",
       "    .dataframe thead th {\n",
       "        text-align: right;\n",
       "    }\n",
       "</style>\n",
       "<table border=\"1\" class=\"dataframe\">\n",
       "  <thead>\n",
       "    <tr style=\"text-align: right;\">\n",
       "      <th></th>\n",
       "      <th>Model</th>\n",
       "      <th>Method</th>\n",
       "      <th>Test Accuracy</th>\n",
       "      <th>Test Macro Precision</th>\n",
       "      <th>Test Macro Recall</th>\n",
       "      <th>Test Macro F1-Score</th>\n",
       "    </tr>\n",
       "  </thead>\n",
       "  <tbody>\n",
       "    <tr>\n",
       "      <th>0</th>\n",
       "      <td>distilbert-base-uncased</td>\n",
       "      <td>Zero-shot Classification</td>\n",
       "      <td>0.112732</td>\n",
       "      <td>0.079815</td>\n",
       "      <td>0.111879</td>\n",
       "      <td>0.089991</td>\n",
       "    </tr>\n",
       "  </tbody>\n",
       "</table>\n",
       "</div>"
      ],
      "text/plain": [
       "                     Model                    Method  Test Accuracy  \\\n",
       "0  distilbert-base-uncased  Zero-shot Classification       0.112732   \n",
       "\n",
       "   Test Macro Precision  Test Macro Recall  Test Macro F1-Score  \n",
       "0              0.079815           0.111879             0.089991  "
      ]
     },
     "execution_count": 32,
     "metadata": {},
     "output_type": "execute_result"
    }
   ],
   "source": [
    "# Suponemos que df_test ya tiene una columna \"True Label\" con las etiquetas reales\n",
    "true_labels = df_test[\"emotion\"]\n",
    "\n",
    "# Crear un DataFrame con los resultados (ya lo tienes en la lista `results`)\n",
    "results_df = pd.DataFrame(results)\n",
    "\n",
    "# Extraer las etiquetas predichas\n",
    "predicted_labels = results_df[\"Predicted Label\"]\n",
    "\n",
    "# Crear la matriz de confusión\n",
    "conf_matrix = confusion_matrix(true_labels, predicted_labels, labels=candidate_labels)\n",
    "\n",
    "# Mostrar la matriz de confusión con seaborn\n",
    "plt.figure(figsize=(10, 7))\n",
    "sns.heatmap(\n",
    "    conf_matrix,\n",
    "    annot=True,\n",
    "    fmt=\"d\",\n",
    "    cmap=\"Blues\",\n",
    "    xticklabels=candidate_labels,\n",
    "    yticklabels=candidate_labels,\n",
    ")\n",
    "plt.xlabel(\"Predicted\")\n",
    "plt.ylabel(\"True\")\n",
    "plt.title(\"Confusion Matrix\")\n",
    "plt.show()\n",
    "\n",
    "# Crear la matriz de confusión en porcentajes\n",
    "conf_matrix_percentage = (\n",
    "    conf_matrix.astype(\"float\") / conf_matrix.sum(axis=1)[:, np.newaxis] * 100\n",
    ")\n",
    "\n",
    "# Mostrar la matriz de confusión con valores en porcentajes\n",
    "plt.figure(figsize=(10, 7))\n",
    "sns.heatmap(\n",
    "    conf_matrix_percentage,\n",
    "    annot=True,\n",
    "    fmt=\".2f\",\n",
    "    cmap=\"Blues\",\n",
    "    xticklabels=candidate_labels,\n",
    "    yticklabels=candidate_labels,\n",
    ")\n",
    "plt.xlabel(\"Predicted\")\n",
    "plt.ylabel(\"True\")\n",
    "plt.title(\"Confusion Matrix - Percentages\")\n",
    "plt.show()\n",
    "\n",
    "\n",
    "# Calcular el informe de métricas (precisión, recall, F1-score) como un diccionario\n",
    "report = classification_report(\n",
    "    true_labels, predicted_labels, target_names=candidate_labels, output_dict=True\n",
    ")\n",
    "print(report)\n",
    "\n",
    "# Calcular accuracy general\n",
    "accuracy = accuracy_score(true_labels, predicted_labels)\n",
    "\n",
    "# Extraer las métricas clave del reporte\n",
    "macro_precision = report[\"macro avg\"][\"precision\"]\n",
    "macro_recall = report[\"macro avg\"][\"recall\"]\n",
    "macro_f1 = report[\"macro avg\"][\"f1-score\"]\n",
    "\n",
    "# Crear una lista de resultados con las métricas clave\n",
    "results_summary = []\n",
    "\n",
    "# Almacenar las métricas en la lista de resultados\n",
    "results_summary.append(\n",
    "    {\n",
    "        \"Model\": \"distilbert-base-uncased\",\n",
    "        \"Method\": \"Zero-shot Classification\",\n",
    "        \"Test Accuracy\": accuracy,\n",
    "        \"Test Macro Precision\": macro_precision,\n",
    "        \"Test Macro Recall\": macro_recall,\n",
    "        \"Test Macro F1-Score\": macro_f1,\n",
    "    }\n",
    ")\n",
    "\n",
    "# Convertir los resultados a un DataFrame\n",
    "results_summary_df = pd.DataFrame(results_summary)\n",
    "\n",
    "# Mostrar el DataFrame de resultados con las métricas\n",
    "results_summary_df\n"
   ]
  },
  {
   "cell_type": "markdown",
   "metadata": {},
   "source": [
    "## 2. Fine-Tuning"
   ]
  },
  {
   "cell_type": "markdown",
   "metadata": {},
   "source": [
    "### Tokenize Text"
   ]
  },
  {
   "cell_type": "code",
   "execution_count": 58,
   "metadata": {},
   "outputs": [
    {
     "data": {
      "application/vnd.jupyter.widget-view+json": {
       "model_id": "9f37a5e60b754e53ab4023df7ad92cb2",
       "version_major": 2,
       "version_minor": 0
      },
      "text/plain": [
       "Map:   0%|          | 0/6027 [00:00<?, ? examples/s]"
      ]
     },
     "metadata": {},
     "output_type": "display_data"
    },
    {
     "data": {
      "application/vnd.jupyter.widget-view+json": {
       "model_id": "d615fc551d6542a0aaf9d168df005d40",
       "version_major": 2,
       "version_minor": 0
      },
      "text/plain": [
       "Map:   0%|          | 0/753 [00:00<?, ? examples/s]"
      ]
     },
     "metadata": {},
     "output_type": "display_data"
    },
    {
     "data": {
      "application/vnd.jupyter.widget-view+json": {
       "model_id": "1672addf4b81452eb3560a99180736d1",
       "version_major": 2,
       "version_minor": 0
      },
      "text/plain": [
       "Map:   0%|          | 0/754 [00:00<?, ? examples/s]"
      ]
     },
     "metadata": {},
     "output_type": "display_data"
    },
    {
     "name": "stdout",
     "output_type": "stream",
     "text": [
      "DatasetDict({\n",
      "    train: Dataset({\n",
      "        features: ['text', 'label', 'input_ids', 'attention_mask'],\n",
      "        num_rows: 6027\n",
      "    })\n",
      "    validation: Dataset({\n",
      "        features: ['text', 'label', 'input_ids', 'attention_mask'],\n",
      "        num_rows: 753\n",
      "    })\n",
      "    test: Dataset({\n",
      "        features: ['text', 'label', 'input_ids', 'attention_mask'],\n",
      "        num_rows: 754\n",
      "    })\n",
      "})\n"
     ]
    }
   ],
   "source": [
    "model_name = \"distilbert-base-uncased\"\n",
    "tokenizer = AutoTokenizer.from_pretrained(model_name, clean_up_tokenization_spaces=True)\n",
    "\n",
    "\n",
    "def preprocess_function(examples, func_tokenizer):\n",
    "    return func_tokenizer(examples[\"text\"], truncation=True)\n",
    "\n",
    "\n",
    "tokenized_dataset = dataset_dict.map(\n",
    "    preprocess_function,\n",
    "    batched=True,\n",
    "    # num_proc=20,\n",
    "    fn_kwargs={\"func_tokenizer\": tokenizer},\n",
    ")\n",
    "\n",
    "tokenized_dataset = tokenized_dataset.rename_column(\"emotion\", \"label\")\n",
    "print(tokenized_dataset)"
   ]
  },
  {
   "cell_type": "markdown",
   "metadata": {},
   "source": [
    "### Formating Labels"
   ]
  },
  {
   "cell_type": "code",
   "execution_count": 59,
   "metadata": {},
   "outputs": [],
   "source": [
    "id2label = {\n",
    "    0: \"anger\",\n",
    "    1: \"disgust\",\n",
    "    2: \"fear\",\n",
    "    3: \"guilt\",\n",
    "    4: \"joy\",\n",
    "    5: \"sadness\",\n",
    "    6: \"shame\",\n",
    "}\n",
    "label2id = {\n",
    "    \"anger\": 0,\n",
    "    \"disgust\": 1,\n",
    "    \"fear\": 2,\n",
    "    \"guilt\": 3,\n",
    "    \"joy\": 4,\n",
    "    \"sadness\": 5,\n",
    "    \"shame\": 6,\n",
    "}\n",
    "\n",
    "data_collator = DataCollatorWithPadding(tokenizer=tokenizer)\n",
    "\n",
    "\n",
    "device = torch.device(\"cuda\" if torch.cuda.is_available() else \"cpu\")\n",
    "\n",
    "\n",
    "# Define model\n",
    "def model_init():\n",
    "    return AutoModelForSequenceClassification.from_pretrained(\n",
    "        model_name, num_labels=7, id2label=id2label, label2id=label2id\n",
    "    ).to(device)"
   ]
  },
  {
   "cell_type": "markdown",
   "metadata": {},
   "source": [
    "## Define Model To FineTuning"
   ]
  },
  {
   "cell_type": "code",
   "execution_count": 60,
   "metadata": {},
   "outputs": [],
   "source": [
    "training_args = transformers.TrainingArguments(\n",
    "    output_dir=\"..data/results/distilbert\",\n",
    "    learning_rate=3e-5,\n",
    "    eval_strategy=\"epoch\",\n",
    "    save_strategy=\"epoch\",\n",
    "    load_best_model_at_end=True,\n",
    "    num_train_epochs=20,\n",
    "    per_device_train_batch_size=64,\n",
    "    per_device_eval_batch_size=64,\n",
    ")"
   ]
  },
  {
   "cell_type": "markdown",
   "metadata": {},
   "source": [
    "### Define metrics"
   ]
  },
  {
   "cell_type": "code",
   "execution_count": 61,
   "metadata": {},
   "outputs": [],
   "source": [
    "recall = evaluate.load(\"recall\")\n",
    "accuracy = evaluate.load(\"accuracy\")\n",
    "precision = evaluate.load(\"precision\")\n",
    "f1 = evaluate.load(\"f1\")\n",
    "\n",
    "\n",
    "def compute_metrics(eval_pred):\n",
    "    logits, labels = eval_pred\n",
    "    predictions = np.argmax(logits, axis=-1)\n",
    "\n",
    "    pre = precision.compute(\n",
    "        predictions=predictions, references=labels, average=\"weighted\"\n",
    "    )[\"precision\"]\n",
    "    rec = recall.compute(\n",
    "        predictions=predictions, references=labels, average=\"weighted\"\n",
    "    )[\"recall\"]\n",
    "    f1_score = f1.compute(\n",
    "        predictions=predictions, references=labels, average=\"weighted\"\n",
    "    )[\"f1\"]\n",
    "    acc = accuracy.compute(predictions=predictions, references=labels)[\"accuracy\"]\n",
    "\n",
    "    return {\"precision\": pre, \"recall\": rec, \"f1\": f1_score, \"accuracy\": acc}\n"
   ]
  },
  {
   "cell_type": "markdown",
   "metadata": {},
   "source": [
    "## Run Finetuning"
   ]
  },
  {
   "cell_type": "code",
   "execution_count": 62,
   "metadata": {},
   "outputs": [
    {
     "name": "stderr",
     "output_type": "stream",
     "text": [
      "Some weights of DistilBertForSequenceClassification were not initialized from the model checkpoint at distilbert-base-uncased and are newly initialized: ['classifier.bias', 'classifier.weight', 'pre_classifier.bias', 'pre_classifier.weight']\n",
      "You should probably TRAIN this model on a down-stream task to be able to use it for predictions and inference.\n"
     ]
    },
    {
     "data": {
      "text/html": [
       "\n",
       "    <div>\n",
       "      \n",
       "      <progress value='1900' max='1900' style='width:300px; height:20px; vertical-align: middle;'></progress>\n",
       "      [1900/1900 11:08, Epoch 20/20]\n",
       "    </div>\n",
       "    <table border=\"1\" class=\"dataframe\">\n",
       "  <thead>\n",
       " <tr style=\"text-align: left;\">\n",
       "      <th>Epoch</th>\n",
       "      <th>Training Loss</th>\n",
       "      <th>Validation Loss</th>\n",
       "      <th>Precision</th>\n",
       "      <th>Recall</th>\n",
       "      <th>F1</th>\n",
       "      <th>Accuracy</th>\n",
       "    </tr>\n",
       "  </thead>\n",
       "  <tbody>\n",
       "    <tr>\n",
       "      <td>1</td>\n",
       "      <td>No log</td>\n",
       "      <td>1.118785</td>\n",
       "      <td>0.633138</td>\n",
       "      <td>0.620186</td>\n",
       "      <td>0.617235</td>\n",
       "      <td>0.620186</td>\n",
       "    </tr>\n",
       "    <tr>\n",
       "      <td>2</td>\n",
       "      <td>No log</td>\n",
       "      <td>0.929500</td>\n",
       "      <td>0.678878</td>\n",
       "      <td>0.679947</td>\n",
       "      <td>0.676826</td>\n",
       "      <td>0.679947</td>\n",
       "    </tr>\n",
       "    <tr>\n",
       "      <td>3</td>\n",
       "      <td>No log</td>\n",
       "      <td>0.969378</td>\n",
       "      <td>0.693695</td>\n",
       "      <td>0.673307</td>\n",
       "      <td>0.674685</td>\n",
       "      <td>0.673307</td>\n",
       "    </tr>\n",
       "    <tr>\n",
       "      <td>4</td>\n",
       "      <td>No log</td>\n",
       "      <td>1.006097</td>\n",
       "      <td>0.661657</td>\n",
       "      <td>0.652058</td>\n",
       "      <td>0.654748</td>\n",
       "      <td>0.652058</td>\n",
       "    </tr>\n",
       "    <tr>\n",
       "      <td>5</td>\n",
       "      <td>No log</td>\n",
       "      <td>1.076226</td>\n",
       "      <td>0.678618</td>\n",
       "      <td>0.674635</td>\n",
       "      <td>0.674533</td>\n",
       "      <td>0.674635</td>\n",
       "    </tr>\n",
       "    <tr>\n",
       "      <td>6</td>\n",
       "      <td>0.771800</td>\n",
       "      <td>1.150565</td>\n",
       "      <td>0.675899</td>\n",
       "      <td>0.673307</td>\n",
       "      <td>0.674053</td>\n",
       "      <td>0.673307</td>\n",
       "    </tr>\n",
       "    <tr>\n",
       "      <td>7</td>\n",
       "      <td>0.771800</td>\n",
       "      <td>1.260139</td>\n",
       "      <td>0.694102</td>\n",
       "      <td>0.679947</td>\n",
       "      <td>0.683318</td>\n",
       "      <td>0.679947</td>\n",
       "    </tr>\n",
       "    <tr>\n",
       "      <td>8</td>\n",
       "      <td>0.771800</td>\n",
       "      <td>1.326654</td>\n",
       "      <td>0.688987</td>\n",
       "      <td>0.683931</td>\n",
       "      <td>0.684194</td>\n",
       "      <td>0.683931</td>\n",
       "    </tr>\n",
       "    <tr>\n",
       "      <td>9</td>\n",
       "      <td>0.771800</td>\n",
       "      <td>1.472971</td>\n",
       "      <td>0.689737</td>\n",
       "      <td>0.671979</td>\n",
       "      <td>0.676001</td>\n",
       "      <td>0.671979</td>\n",
       "    </tr>\n",
       "    <tr>\n",
       "      <td>10</td>\n",
       "      <td>0.771800</td>\n",
       "      <td>1.516474</td>\n",
       "      <td>0.682573</td>\n",
       "      <td>0.682603</td>\n",
       "      <td>0.682294</td>\n",
       "      <td>0.682603</td>\n",
       "    </tr>\n",
       "    <tr>\n",
       "      <td>11</td>\n",
       "      <td>0.104100</td>\n",
       "      <td>1.649108</td>\n",
       "      <td>0.679542</td>\n",
       "      <td>0.666667</td>\n",
       "      <td>0.668078</td>\n",
       "      <td>0.666667</td>\n",
       "    </tr>\n",
       "    <tr>\n",
       "      <td>12</td>\n",
       "      <td>0.104100</td>\n",
       "      <td>1.646981</td>\n",
       "      <td>0.683012</td>\n",
       "      <td>0.679947</td>\n",
       "      <td>0.680625</td>\n",
       "      <td>0.679947</td>\n",
       "    </tr>\n",
       "    <tr>\n",
       "      <td>13</td>\n",
       "      <td>0.104100</td>\n",
       "      <td>1.727613</td>\n",
       "      <td>0.682696</td>\n",
       "      <td>0.677291</td>\n",
       "      <td>0.679201</td>\n",
       "      <td>0.677291</td>\n",
       "    </tr>\n",
       "    <tr>\n",
       "      <td>14</td>\n",
       "      <td>0.104100</td>\n",
       "      <td>1.777237</td>\n",
       "      <td>0.687017</td>\n",
       "      <td>0.675963</td>\n",
       "      <td>0.678379</td>\n",
       "      <td>0.675963</td>\n",
       "    </tr>\n",
       "    <tr>\n",
       "      <td>15</td>\n",
       "      <td>0.104100</td>\n",
       "      <td>1.802648</td>\n",
       "      <td>0.680604</td>\n",
       "      <td>0.674635</td>\n",
       "      <td>0.676160</td>\n",
       "      <td>0.674635</td>\n",
       "    </tr>\n",
       "    <tr>\n",
       "      <td>16</td>\n",
       "      <td>0.023700</td>\n",
       "      <td>1.825129</td>\n",
       "      <td>0.682571</td>\n",
       "      <td>0.678619</td>\n",
       "      <td>0.679706</td>\n",
       "      <td>0.678619</td>\n",
       "    </tr>\n",
       "    <tr>\n",
       "      <td>17</td>\n",
       "      <td>0.023700</td>\n",
       "      <td>1.875821</td>\n",
       "      <td>0.674215</td>\n",
       "      <td>0.670651</td>\n",
       "      <td>0.670734</td>\n",
       "      <td>0.670651</td>\n",
       "    </tr>\n",
       "    <tr>\n",
       "      <td>18</td>\n",
       "      <td>0.023700</td>\n",
       "      <td>1.855835</td>\n",
       "      <td>0.686083</td>\n",
       "      <td>0.679947</td>\n",
       "      <td>0.681545</td>\n",
       "      <td>0.679947</td>\n",
       "    </tr>\n",
       "    <tr>\n",
       "      <td>19</td>\n",
       "      <td>0.023700</td>\n",
       "      <td>1.865946</td>\n",
       "      <td>0.681517</td>\n",
       "      <td>0.678619</td>\n",
       "      <td>0.679494</td>\n",
       "      <td>0.678619</td>\n",
       "    </tr>\n",
       "    <tr>\n",
       "      <td>20</td>\n",
       "      <td>0.023700</td>\n",
       "      <td>1.873867</td>\n",
       "      <td>0.681260</td>\n",
       "      <td>0.677291</td>\n",
       "      <td>0.678417</td>\n",
       "      <td>0.677291</td>\n",
       "    </tr>\n",
       "  </tbody>\n",
       "</table><p>"
      ],
      "text/plain": [
       "<IPython.core.display.HTML object>"
      ]
     },
     "metadata": {},
     "output_type": "display_data"
    },
    {
     "data": {
      "text/plain": [
       "TrainOutput(global_step=1900, training_loss=0.2384845821481002, metrics={'train_runtime': 669.4938, 'train_samples_per_second': 180.046, 'train_steps_per_second': 2.838, 'total_flos': 1820208203799654.0, 'train_loss': 0.2384845821481002, 'epoch': 20.0})"
      ]
     },
     "execution_count": 62,
     "metadata": {},
     "output_type": "execute_result"
    }
   ],
   "source": [
    "trainer = transformers.Trainer(\n",
    "    model=model_init(),\n",
    "    args=training_args,\n",
    "    train_dataset=tokenized_dataset[\"train\"],\n",
    "    eval_dataset=tokenized_dataset[\"validation\"],\n",
    "    tokenizer=tokenizer,\n",
    "    data_collator=data_collator,\n",
    "    compute_metrics=compute_metrics,\n",
    ")\n",
    "\n",
    "trainer.train()"
   ]
  },
  {
   "cell_type": "code",
   "execution_count": 63,
   "metadata": {},
   "outputs": [
    {
     "data": {
      "text/html": [
       "\n",
       "    <div>\n",
       "      \n",
       "      <progress value='12' max='12' style='width:300px; height:20px; vertical-align: middle;'></progress>\n",
       "      [12/12 00:02]\n",
       "    </div>\n",
       "    "
      ],
      "text/plain": [
       "<IPython.core.display.HTML object>"
      ]
     },
     "metadata": {},
     "output_type": "display_data"
    },
    {
     "data": {
      "text/plain": [
       "{'eval_loss': 0.929500162601471,\n",
       " 'eval_precision': 0.6788782357032319,\n",
       " 'eval_recall': 0.6799468791500664,\n",
       " 'eval_f1': 0.6768264065362788,\n",
       " 'eval_accuracy': 0.6799468791500664,\n",
       " 'eval_runtime': 2.5539,\n",
       " 'eval_samples_per_second': 294.839,\n",
       " 'eval_steps_per_second': 4.699,\n",
       " 'epoch': 20.0}"
      ]
     },
     "execution_count": 63,
     "metadata": {},
     "output_type": "execute_result"
    }
   ],
   "source": [
    "trainer.evaluate()"
   ]
  },
  {
   "cell_type": "code",
   "execution_count": 64,
   "metadata": {},
   "outputs": [],
   "source": [
    "trainer.save_model(\"models/distilbert-base-uncased-finetuned\")"
   ]
  },
  {
   "cell_type": "markdown",
   "metadata": {},
   "source": [
    "## Use finetunned model to predict"
   ]
  },
  {
   "cell_type": "code",
   "execution_count": 33,
   "metadata": {},
   "outputs": [
    {
     "name": "stderr",
     "output_type": "stream",
     "text": [
      "Failed to determine 'entailment' label id from the label2id mapping in the model config. Setting to -1. Define a descriptive label2id mapping in the model config to ensure correct outputs.\n"
     ]
    },
    {
     "data": {
      "text/plain": [
       "{'Text': \"when a friend carelessly broke and object in my parent's house and did not apologize, or pay, or anything\",\n",
       " 'Predicted Label': 'shame',\n",
       " 'Scores': [0.6624699831008911,\n",
       "  0.09849970787763596,\n",
       "  0.07923567295074463,\n",
       "  0.046086475253105164,\n",
       "  0.04099774733185768,\n",
       "  0.04047248512506485,\n",
       "  0.03223791718482971],\n",
       " 'All Labels': ['shame',\n",
       "  'joy',\n",
       "  'guilt',\n",
       "  'anger',\n",
       "  'sadness',\n",
       "  'disgust',\n",
       "  'fear']}"
      ]
     },
     "execution_count": 33,
     "metadata": {},
     "output_type": "execute_result"
    }
   ],
   "source": [
    "# Crear la lista para almacenar los resultados\n",
    "results = []\n",
    "\n",
    "# Zero-shot classification - permite indicar las etiquetas candidatas\n",
    "classifier = pipeline(\n",
    "    \"zero-shot-classification\",\n",
    "    device=\"cuda\",\n",
    "    model=\"models/distilbert-base-uncased-finetuned/\",\n",
    ")\n",
    "\n",
    "candidate_labels = [\"anger\", \"disgust\", \"fear\", \"guilt\", \"joy\", \"sadness\", \"shame\"]\n",
    "\n",
    "for text in df_test[\"text\"]:\n",
    "    result = classifier(text, candidate_labels, clean_up_tokenization_spaces=True)\n",
    "\n",
    "    # Almacenar el texto, la etiqueta predicha, y las puntuaciones del primer resultado\n",
    "    results.append(\n",
    "        {\n",
    "            \"Text\": text,\n",
    "            \"Predicted Label\": result[\"labels\"][0],  # Etiqueta con la mayor puntuación\n",
    "            \"Scores\": result[\"scores\"],  # Puntajes de todas las etiquetas candidatas\n",
    "            \"All Labels\": result[\n",
    "                \"labels\"\n",
    "            ],  # Todas las etiquetas ordenadas por probabilidad\n",
    "        }\n",
    "    )\n",
    "\n",
    "results[0]"
   ]
  },
  {
   "cell_type": "code",
   "execution_count": 34,
   "metadata": {},
   "outputs": [
    {
     "data": {
      "image/png": "[encoded data removed]",
      "text/plain": [
       "<Figure size 1000x700 with 2 Axes>"
      ]
     },
     "metadata": {},
     "output_type": "display_data"
    },
    {
     "data": {
      "image/png": "[encoded data removed]",
      "text/plain": [
       "<Figure size 1000x700 with 2 Axes>"
      ]
     },
     "metadata": {},
     "output_type": "display_data"
    },
    {
     "name": "stdout",
     "output_type": "stream",
     "text": [
      "{'anger': {'precision': 0.0, 'recall': 0.0, 'f1-score': 0.0, 'support': 109.0}, 'disgust': {'precision': 0.0, 'recall': 0.0, 'f1-score': 0.0, 'support': 107.0}, 'fear': {'precision': 0.0, 'recall': 0.0, 'f1-score': 0.0, 'support': 109.0}, 'guilt': {'precision': 0.0, 'recall': 0.0, 'f1-score': 0.0, 'support': 106.0}, 'joy': {'precision': 0.0, 'recall': 0.0, 'f1-score': 0.0, 'support': 109.0}, 'sadness': {'precision': 0.0, 'recall': 0.0, 'f1-score': 0.0, 'support': 108.0}, 'shame': {'precision': 0.13368983957219252, 'recall': 0.9433962264150944, 'f1-score': 0.234192037470726, 'support': 106.0}, 'accuracy': 0.13262599469496023, 'macro avg': {'precision': 0.01909854851031322, 'recall': 0.1347708894878706, 'f1-score': 0.03345600535296086, 'support': 754.0}, 'weighted avg': {'precision': 0.018794592831103987, 'recall': 0.13262599469496023, 'f1-score': 0.0329235490343461, 'support': 754.0}}\n"
     ]
    },
    {
     "name": "stderr",
     "output_type": "stream",
     "text": [
      "/home/dalopeza/TrabajoGradosEAFIT/.venv/lib/python3.12/site-packages/sklearn/metrics/_classification.py:1531: UndefinedMetricWarning: Precision is ill-defined and being set to 0.0 in labels with no predicted samples. Use `zero_division` parameter to control this behavior.\n",
      "  _warn_prf(average, modifier, f\"{metric.capitalize()} is\", len(result))\n",
      "/home/dalopeza/TrabajoGradosEAFIT/.venv/lib/python3.12/site-packages/sklearn/metrics/_classification.py:1531: UndefinedMetricWarning: Precision is ill-defined and being set to 0.0 in labels with no predicted samples. Use `zero_division` parameter to control this behavior.\n",
      "  _warn_prf(average, modifier, f\"{metric.capitalize()} is\", len(result))\n",
      "/home/dalopeza/TrabajoGradosEAFIT/.venv/lib/python3.12/site-packages/sklearn/metrics/_classification.py:1531: UndefinedMetricWarning: Precision is ill-defined and being set to 0.0 in labels with no predicted samples. Use `zero_division` parameter to control this behavior.\n",
      "  _warn_prf(average, modifier, f\"{metric.capitalize()} is\", len(result))\n"
     ]
    },
    {
     "data": {
      "text/html": [
       "<div>\n",
       "<style scoped>\n",
       "    .dataframe tbody tr th:only-of-type {\n",
       "        vertical-align: middle;\n",
       "    }\n",
       "\n",
       "    .dataframe tbody tr th {\n",
       "        vertical-align: top;\n",
       "    }\n",
       "\n",
       "    .dataframe thead th {\n",
       "        text-align: right;\n",
       "    }\n",
       "</style>\n",
       "<table border=\"1\" class=\"dataframe\">\n",
       "  <thead>\n",
       "    <tr style=\"text-align: right;\">\n",
       "      <th></th>\n",
       "      <th>Model</th>\n",
       "      <th>Method</th>\n",
       "      <th>Test Accuracy</th>\n",
       "      <th>Test Macro Precision</th>\n",
       "      <th>Test Macro Recall</th>\n",
       "      <th>Test Macro F1-Score</th>\n",
       "    </tr>\n",
       "  </thead>\n",
       "  <tbody>\n",
       "    <tr>\n",
       "      <th>0</th>\n",
       "      <td>distilbert-base-uncased_finetuned</td>\n",
       "      <td>Zero-shot Classification</td>\n",
       "      <td>0.132626</td>\n",
       "      <td>0.019099</td>\n",
       "      <td>0.134771</td>\n",
       "      <td>0.033456</td>\n",
       "    </tr>\n",
       "    <tr>\n",
       "      <th>0</th>\n",
       "      <td>distilbert-base-uncased</td>\n",
       "      <td>Zero-shot Classification</td>\n",
       "      <td>0.112732</td>\n",
       "      <td>0.079815</td>\n",
       "      <td>0.111879</td>\n",
       "      <td>0.089991</td>\n",
       "    </tr>\n",
       "  </tbody>\n",
       "</table>\n",
       "</div>"
      ],
      "text/plain": [
       "                               Model                    Method  Test Accuracy  \\\n",
       "0  distilbert-base-uncased_finetuned  Zero-shot Classification       0.132626   \n",
       "0            distilbert-base-uncased  Zero-shot Classification       0.112732   \n",
       "\n",
       "   Test Macro Precision  Test Macro Recall  Test Macro F1-Score  \n",
       "0              0.019099           0.134771             0.033456  \n",
       "0              0.079815           0.111879             0.089991  "
      ]
     },
     "execution_count": 34,
     "metadata": {},
     "output_type": "execute_result"
    }
   ],
   "source": [
    "# Suponemos que df_test ya tiene una columna \"True Label\" con las etiquetas reales\n",
    "true_labels = df_test[\"emotion\"]\n",
    "\n",
    "# Crear un DataFrame con los resultados (ya lo tienes en la lista `results`)\n",
    "results_df = pd.DataFrame(results)\n",
    "\n",
    "# Extraer las etiquetas predichas\n",
    "predicted_labels = results_df[\"Predicted Label\"]\n",
    "\n",
    "# Crear la matriz de confusión\n",
    "conf_matrix = confusion_matrix(true_labels, predicted_labels, labels=candidate_labels)\n",
    "\n",
    "# Mostrar la matriz de confusión con seaborn\n",
    "plt.figure(figsize=(10, 7))\n",
    "sns.heatmap(\n",
    "    conf_matrix,\n",
    "    annot=True,\n",
    "    fmt=\"d\",\n",
    "    cmap=\"Blues\",\n",
    "    xticklabels=candidate_labels,\n",
    "    yticklabels=candidate_labels,\n",
    ")\n",
    "plt.xlabel(\"Predicted\")\n",
    "plt.ylabel(\"True\")\n",
    "plt.title(\"Confusion Matrix\")\n",
    "plt.show()\n",
    "\n",
    "# Crear la matriz de confusión en porcentajes\n",
    "conf_matrix_percentage = (\n",
    "    conf_matrix.astype(\"float\") / conf_matrix.sum(axis=1)[:, np.newaxis] * 100\n",
    ")\n",
    "\n",
    "# Mostrar la matriz de confusión con valores en porcentajes\n",
    "plt.figure(figsize=(10, 7))\n",
    "sns.heatmap(\n",
    "    conf_matrix_percentage,\n",
    "    annot=True,\n",
    "    fmt=\".2f\",\n",
    "    cmap=\"Blues\",\n",
    "    xticklabels=candidate_labels,\n",
    "    yticklabels=candidate_labels,\n",
    ")\n",
    "plt.xlabel(\"Predicted\")\n",
    "plt.ylabel(\"True\")\n",
    "plt.title(\"Confusion Matrix - Percentages\")\n",
    "plt.show()\n",
    "\n",
    "\n",
    "# Calcular el informe de métricas (precisión, recall, F1-score) como un diccionario\n",
    "report = classification_report(\n",
    "    true_labels, predicted_labels, target_names=candidate_labels, output_dict=True\n",
    ")\n",
    "print(report)\n",
    "\n",
    "# Calcular accuracy general\n",
    "accuracy = accuracy_score(true_labels, predicted_labels)\n",
    "\n",
    "# Extraer las métricas clave del reporte\n",
    "macro_precision = report[\"macro avg\"][\"precision\"]\n",
    "macro_recall = report[\"macro avg\"][\"recall\"]\n",
    "macro_f1 = report[\"macro avg\"][\"f1-score\"]\n",
    "\n",
    "# Crear una lista de resultados con las métricas clave\n",
    "results_summary = []\n",
    "\n",
    "# Almacenar las métricas en la lista de resultados\n",
    "results_summary.append(\n",
    "    {\n",
    "        \"Model\": \"distilbert-base-uncased_finetuned\",\n",
    "        \"Method\": \"Zero-shot Classification\",\n",
    "        \"Test Accuracy\": accuracy,\n",
    "        \"Test Macro Precision\": macro_precision,\n",
    "        \"Test Macro Recall\": macro_recall,\n",
    "        \"Test Macro F1-Score\": macro_f1,\n",
    "    }\n",
    ")\n",
    "\n",
    "# Convertir los resultados a un DataFrame\n",
    "results_summary_df_finetuned = pd.DataFrame(results_summary)\n",
    "\n",
    "# Mostrar el DataFrame de resultados con las métricas\n",
    "results_summary_df = pd.concat([results_summary_df_finetuned, results_summary_df])\n",
    "results_summary_df"
   ]
  },
  {
   "cell_type": "code",
   "execution_count": 35,
   "metadata": {},
   "outputs": [
    {
     "data": {
      "text/html": [
       "<div>\n",
       "<style scoped>\n",
       "    .dataframe tbody tr th:only-of-type {\n",
       "        vertical-align: middle;\n",
       "    }\n",
       "\n",
       "    .dataframe tbody tr th {\n",
       "        vertical-align: top;\n",
       "    }\n",
       "\n",
       "    .dataframe thead th {\n",
       "        text-align: right;\n",
       "    }\n",
       "</style>\n",
       "<table border=\"1\" class=\"dataframe\">\n",
       "  <thead>\n",
       "    <tr style=\"text-align: right;\">\n",
       "      <th></th>\n",
       "      <th>Text</th>\n",
       "      <th>Predicted Label</th>\n",
       "      <th>Scores</th>\n",
       "      <th>All Labels</th>\n",
       "    </tr>\n",
       "  </thead>\n",
       "  <tbody>\n",
       "    <tr>\n",
       "      <th>0</th>\n",
       "      <td>when a friend carelessly broke and object in m...</td>\n",
       "      <td>shame</td>\n",
       "      <td>[0.6624699831008911, 0.09849970787763596, 0.07...</td>\n",
       "      <td>[shame, joy, guilt, anger, sadness, disgust, f...</td>\n",
       "    </tr>\n",
       "    <tr>\n",
       "      <th>1</th>\n",
       "      <td>when i felt powerless to help the poor or when...</td>\n",
       "      <td>shame</td>\n",
       "      <td>[0.7720120549201965, 0.07478225231170654, 0.04...</td>\n",
       "      <td>[shame, guilt, anger, joy, disgust, sadness, f...</td>\n",
       "    </tr>\n",
       "    <tr>\n",
       "      <th>2</th>\n",
       "      <td>one of my best friends'fianct broke off the re...</td>\n",
       "      <td>shame</td>\n",
       "      <td>[0.18149736523628235, 0.17345422506332397, 0.1...</td>\n",
       "      <td>[shame, fear, joy, anger, sadness, guilt, disg...</td>\n",
       "    </tr>\n",
       "    <tr>\n",
       "      <th>3</th>\n",
       "      <td>i hadn't been at my parent's place for a long ...</td>\n",
       "      <td>shame</td>\n",
       "      <td>[0.7883551716804504, 0.0716133564710617, 0.060...</td>\n",
       "      <td>[shame, guilt, anger, disgust, joy, fear, sadn...</td>\n",
       "    </tr>\n",
       "    <tr>\n",
       "      <th>4</th>\n",
       "      <td>when i didn't notify someone that he was summo...</td>\n",
       "      <td>shame</td>\n",
       "      <td>[0.7348353266716003, 0.08867065608501434, 0.05...</td>\n",
       "      <td>[shame, guilt, joy, anger, disgust, sadness, f...</td>\n",
       "    </tr>\n",
       "    <tr>\n",
       "      <th>...</th>\n",
       "      <td>...</td>\n",
       "      <td>...</td>\n",
       "      <td>...</td>\n",
       "      <td>...</td>\n",
       "    </tr>\n",
       "    <tr>\n",
       "      <th>749</th>\n",
       "      <td>finding out that china is still backward in sc...</td>\n",
       "      <td>shame</td>\n",
       "      <td>[0.7132905125617981, 0.1314682513475418, 0.053...</td>\n",
       "      <td>[shame, guilt, anger, disgust, joy, fear, sadn...</td>\n",
       "    </tr>\n",
       "    <tr>\n",
       "      <th>750</th>\n",
       "      <td>they wanted me to pay for a ticket twice becau...</td>\n",
       "      <td>shame</td>\n",
       "      <td>[0.7954415678977966, 0.06998804956674576, 0.03...</td>\n",
       "      <td>[shame, guilt, anger, disgust, joy, sadness, f...</td>\n",
       "    </tr>\n",
       "    <tr>\n",
       "      <th>751</th>\n",
       "      <td>i had this feeling when my parents distroyed a...</td>\n",
       "      <td>shame</td>\n",
       "      <td>[0.7375830411911011, 0.07453511655330658, 0.07...</td>\n",
       "      <td>[shame, guilt, joy, anger, disgust, sadness, f...</td>\n",
       "    </tr>\n",
       "    <tr>\n",
       "      <th>752</th>\n",
       "      <td>i was on a concert-tour and therefor seperated...</td>\n",
       "      <td>shame</td>\n",
       "      <td>[0.36748093366622925, 0.1436517983675003, 0.10...</td>\n",
       "      <td>[shame, disgust, anger, guilt, fear, joy, sadn...</td>\n",
       "    </tr>\n",
       "    <tr>\n",
       "      <th>753</th>\n",
       "      <td>once, late at night, i was biking home and ove...</td>\n",
       "      <td>shame</td>\n",
       "      <td>[0.7833278775215149, 0.04990699514746666, 0.04...</td>\n",
       "      <td>[shame, guilt, disgust, anger, joy, fear, sadn...</td>\n",
       "    </tr>\n",
       "  </tbody>\n",
       "</table>\n",
       "<p>754 rows × 4 columns</p>\n",
       "</div>"
      ],
      "text/plain": [
       "                                                  Text Predicted Label  \\\n",
       "0    when a friend carelessly broke and object in m...           shame   \n",
       "1    when i felt powerless to help the poor or when...           shame   \n",
       "2    one of my best friends'fianct broke off the re...           shame   \n",
       "3    i hadn't been at my parent's place for a long ...           shame   \n",
       "4    when i didn't notify someone that he was summo...           shame   \n",
       "..                                                 ...             ...   \n",
       "749  finding out that china is still backward in sc...           shame   \n",
       "750  they wanted me to pay for a ticket twice becau...           shame   \n",
       "751  i had this feeling when my parents distroyed a...           shame   \n",
       "752  i was on a concert-tour and therefor seperated...           shame   \n",
       "753  once, late at night, i was biking home and ove...           shame   \n",
       "\n",
       "                                                Scores  \\\n",
       "0    [0.6624699831008911, 0.09849970787763596, 0.07...   \n",
       "1    [0.7720120549201965, 0.07478225231170654, 0.04...   \n",
       "2    [0.18149736523628235, 0.17345422506332397, 0.1...   \n",
       "3    [0.7883551716804504, 0.0716133564710617, 0.060...   \n",
       "4    [0.7348353266716003, 0.08867065608501434, 0.05...   \n",
       "..                                                 ...   \n",
       "749  [0.7132905125617981, 0.1314682513475418, 0.053...   \n",
       "750  [0.7954415678977966, 0.06998804956674576, 0.03...   \n",
       "751  [0.7375830411911011, 0.07453511655330658, 0.07...   \n",
       "752  [0.36748093366622925, 0.1436517983675003, 0.10...   \n",
       "753  [0.7833278775215149, 0.04990699514746666, 0.04...   \n",
       "\n",
       "                                            All Labels  \n",
       "0    [shame, joy, guilt, anger, sadness, disgust, f...  \n",
       "1    [shame, guilt, anger, joy, disgust, sadness, f...  \n",
       "2    [shame, fear, joy, anger, sadness, guilt, disg...  \n",
       "3    [shame, guilt, anger, disgust, joy, fear, sadn...  \n",
       "4    [shame, guilt, joy, anger, disgust, sadness, f...  \n",
       "..                                                 ...  \n",
       "749  [shame, guilt, anger, disgust, joy, fear, sadn...  \n",
       "750  [shame, guilt, anger, disgust, joy, sadness, f...  \n",
       "751  [shame, guilt, joy, anger, disgust, sadness, f...  \n",
       "752  [shame, disgust, anger, guilt, fear, joy, sadn...  \n",
       "753  [shame, guilt, disgust, anger, joy, fear, sadn...  \n",
       "\n",
       "[754 rows x 4 columns]"
      ]
     },
     "execution_count": 35,
     "metadata": {},
     "output_type": "execute_result"
    }
   ],
   "source": [
    "results_df"
   ]
  }
 ],
 "metadata": {
  "kernelspec": {
   "display_name": ".venv",
   "language": "python",
   "name": "python3"
  },
  "language_info": {
   "codemirror_mode": {
    "name": "ipython",
    "version": 3
   },
   "file_extension": ".py",
   "mimetype": "text/x-python",
   "name": "python",
   "nbconvert_exporter": "python",
   "pygments_lexer": "ipython3",
   "version": "3.12.6"
  }
 },
 "nbformat": 4,
 "nbformat_minor": 2
}
