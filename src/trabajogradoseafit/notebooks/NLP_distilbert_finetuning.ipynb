{
 "cells": [
  {
   "cell_type": "code",
   "execution_count": 69,
   "metadata": {},
   "outputs": [],
   "source": [
    "import transformers\n",
    "from datasets import Dataset, DatasetDict, ClassLabel\n",
    "import pandas as pd\n",
    "import numpy as np\n",
    "import evaluate\n",
    "import torch\n",
    "from transformers import pipeline"
   ]
  },
  {
   "cell_type": "code",
   "execution_count": 70,
   "metadata": {},
   "outputs": [
    {
     "data": {
      "text/html": [
       "<div>\n",
       "<style scoped>\n",
       "    .dataframe tbody tr th:only-of-type {\n",
       "        vertical-align: middle;\n",
       "    }\n",
       "\n",
       "    .dataframe tbody tr th {\n",
       "        vertical-align: top;\n",
       "    }\n",
       "\n",
       "    .dataframe thead th {\n",
       "        text-align: right;\n",
       "    }\n",
       "</style>\n",
       "<table border=\"1\" class=\"dataframe\">\n",
       "  <thead>\n",
       "    <tr style=\"text-align: right;\">\n",
       "      <th></th>\n",
       "      <th>text</th>\n",
       "      <th>emotion</th>\n",
       "    </tr>\n",
       "  </thead>\n",
       "  <tbody>\n",
       "    <tr>\n",
       "      <th>0</th>\n",
       "      <td>when a boy tried to fool me so he would be ok ...</td>\n",
       "      <td>anger</td>\n",
       "    </tr>\n",
       "    <tr>\n",
       "      <th>1</th>\n",
       "      <td>i felt anger when i saw that i was being misle...</td>\n",
       "      <td>anger</td>\n",
       "    </tr>\n",
       "    <tr>\n",
       "      <th>2</th>\n",
       "      <td>once a friend had pushed me and i had fallen o...</td>\n",
       "      <td>anger</td>\n",
       "    </tr>\n",
       "  </tbody>\n",
       "</table>\n",
       "</div>"
      ],
      "text/plain": [
       "                                                text emotion\n",
       "0  when a boy tried to fool me so he would be ok ...   anger\n",
       "1  i felt anger when i saw that i was being misle...   anger\n",
       "2  once a friend had pushed me and i had fallen o...   anger"
      ]
     },
     "execution_count": 70,
     "metadata": {},
     "output_type": "execute_result"
    }
   ],
   "source": [
    "df = pd.read_parquet(\"../data/cleaned/isear_cleaned.parquet\")\n",
    "df.head(3)"
   ]
  },
  {
   "cell_type": "code",
   "execution_count": 71,
   "metadata": {},
   "outputs": [
    {
     "data": {
      "application/vnd.jupyter.widget-view+json": {
       "model_id": "c6d3aa49a21540f48457c8c2488fbd2e",
       "version_major": 2,
       "version_minor": 0
      },
      "text/plain": [
       "Casting to class labels:   0%|          | 0/7534 [00:00<?, ? examples/s]"
      ]
     },
     "metadata": {},
     "output_type": "display_data"
    },
    {
     "data": {
      "text/plain": [
       "DatasetDict({\n",
       "    train: Dataset({\n",
       "        features: ['text', 'emotion'],\n",
       "        num_rows: 6027\n",
       "    })\n",
       "    validation: Dataset({\n",
       "        features: ['text', 'emotion'],\n",
       "        num_rows: 753\n",
       "    })\n",
       "    test: Dataset({\n",
       "        features: ['text', 'emotion'],\n",
       "        num_rows: 754\n",
       "    })\n",
       "})"
      ]
     },
     "execution_count": 71,
     "metadata": {},
     "output_type": "execute_result"
    }
   ],
   "source": [
    "# Convert the pandas DataFrame into a Dataset\n",
    "df_dict = Dataset.from_pandas(df)\n",
    "df_dict = df_dict.class_encode_column(\"emotion\")\n",
    "\n",
    "\n",
    "# Realizar la primera división estratificada por la columna 'emotion' para obtener el conjunto de train y test+valid\n",
    "train_testvalid = df_dict.train_test_split(\n",
    "    test_size=0.2, stratify_by_column=\"emotion\", seed=46\n",
    ")\n",
    "\n",
    "# Dividir el conjunto de test+valid en validación y prueba (50% validación, 50% prueba)\n",
    "test_valid = train_testvalid[\"test\"].train_test_split(\n",
    "    test_size=0.5, stratify_by_column=\"emotion\", seed=46\n",
    ")\n",
    "\n",
    "# Crear el DatasetDict con train, validation y test\n",
    "dataset_dict = DatasetDict(\n",
    "    {\n",
    "        \"train\": train_testvalid[\"train\"],\n",
    "        \"validation\": test_valid[\"train\"],\n",
    "        \"test\": test_valid[\"test\"],\n",
    "    }\n",
    ")\n",
    "\n",
    "# Remover la columna '__index_level_0__' que no es necesaria\n",
    "dataset_dict = dataset_dict.remove_columns([\"__index_level_0__\"])\n",
    "\n",
    "# Verificar el resultado\n",
    "dataset_dict\n"
   ]
  },
  {
   "cell_type": "code",
   "execution_count": 72,
   "metadata": {},
   "outputs": [
    {
     "data": {
      "application/vnd.jupyter.widget-view+json": {
       "model_id": "3e309da0a0ea4b0eab98c5c124a377dc",
       "version_major": 2,
       "version_minor": 0
      },
      "text/plain": [
       "Map:   0%|          | 0/6027 [00:00<?, ? examples/s]"
      ]
     },
     "metadata": {},
     "output_type": "display_data"
    },
    {
     "data": {
      "application/vnd.jupyter.widget-view+json": {
       "model_id": "7de51a9f511249f0a7c5797da4f2e9fc",
       "version_major": 2,
       "version_minor": 0
      },
      "text/plain": [
       "Map:   0%|          | 0/753 [00:00<?, ? examples/s]"
      ]
     },
     "metadata": {},
     "output_type": "display_data"
    },
    {
     "data": {
      "application/vnd.jupyter.widget-view+json": {
       "model_id": "95e56e742af8461eafe25c6c49e16160",
       "version_major": 2,
       "version_minor": 0
      },
      "text/plain": [
       "Map:   0%|          | 0/754 [00:00<?, ? examples/s]"
      ]
     },
     "metadata": {},
     "output_type": "display_data"
    },
    {
     "name": "stdout",
     "output_type": "stream",
     "text": [
      "DatasetDict({\n",
      "    train: Dataset({\n",
      "        features: ['text', 'label', 'input_ids', 'attention_mask'],\n",
      "        num_rows: 6027\n",
      "    })\n",
      "    validation: Dataset({\n",
      "        features: ['text', 'label', 'input_ids', 'attention_mask'],\n",
      "        num_rows: 753\n",
      "    })\n",
      "    test: Dataset({\n",
      "        features: ['text', 'label', 'input_ids', 'attention_mask'],\n",
      "        num_rows: 754\n",
      "    })\n",
      "})\n"
     ]
    }
   ],
   "source": [
    "from transformers import AutoTokenizer\n",
    "\n",
    "model_name = \"distilbert-base-uncased\"\n",
    "tokenizer = AutoTokenizer.from_pretrained(model_name, clean_up_tokenization_spaces=True)\n",
    "\n",
    "\n",
    "def preprocess_function(examples, func_tokenizer):\n",
    "    return func_tokenizer(examples[\"text\"], truncation=True)\n",
    "\n",
    "\n",
    "tokenized_dataset = dataset_dict.map(\n",
    "    preprocess_function,\n",
    "    batched=True,\n",
    "    # num_proc=20,\n",
    "    fn_kwargs={\"func_tokenizer\": tokenizer},\n",
    ")\n",
    "\n",
    "tokenized_dataset = tokenized_dataset.rename_column(\"emotion\", \"label\")\n",
    "print(tokenized_dataset)"
   ]
  },
  {
   "cell_type": "code",
   "execution_count": 73,
   "metadata": {},
   "outputs": [
    {
     "name": "stderr",
     "output_type": "stream",
     "text": [
      "Some weights of DistilBertForSequenceClassification were not initialized from the model checkpoint at distilbert-base-uncased and are newly initialized: ['classifier.bias', 'classifier.weight', 'pre_classifier.bias', 'pre_classifier.weight']\n",
      "You should probably TRAIN this model on a down-stream task to be able to use it for predictions and inference.\n"
     ]
    }
   ],
   "source": [
    "from transformers import DataCollatorWithPadding\n",
    "from transformers import AutoModelForSequenceClassification\n",
    "\n",
    "id2label = {\n",
    "    0: \"anger\",\n",
    "    1: \"disgust\",\n",
    "    2: \"fear\",\n",
    "    3: \"guilt\",\n",
    "    4: \"joy\",\n",
    "    5: \"sadness\",\n",
    "    6: \"shame\",\n",
    "}\n",
    "label2id = {\n",
    "    \"anger\": 0,\n",
    "    \"disgust\": 1,\n",
    "    \"fear\": 2,\n",
    "    \"guilt\": 3,\n",
    "    \"joy\": 4,\n",
    "    \"sadness\": 5,\n",
    "    \"shame\": 6,\n",
    "}\n",
    "\n",
    "data_collator = DataCollatorWithPadding(tokenizer=tokenizer)\n",
    "\n",
    "\n",
    "device = torch.device(\"cuda\" if torch.cuda.is_available() else \"cpu\")\n",
    "\n",
    "\n",
    "model = AutoModelForSequenceClassification.from_pretrained(\n",
    "    model_name, num_labels=7, id2label=id2label, label2id=label2id\n",
    ").to(device)"
   ]
  },
  {
   "cell_type": "code",
   "execution_count": 74,
   "metadata": {},
   "outputs": [
    {
     "name": "stderr",
     "output_type": "stream",
     "text": [
      "/home/dalopeza/TrabajoGradosEAFIT/.venv/lib/python3.12/site-packages/transformers/training_args.py:1525: FutureWarning: `evaluation_strategy` is deprecated and will be removed in version 4.46 of 🤗 Transformers. Use `eval_strategy` instead\n",
      "  warnings.warn(\n"
     ]
    }
   ],
   "source": [
    "training_args = transformers.TrainingArguments(\n",
    "    output_dir=\"./results\",\n",
    "    learning_rate=2e-5,\n",
    "    evaluation_strategy=\"epoch\",\n",
    "    save_strategy=\"epoch\",\n",
    "    load_best_model_at_end=True,\n",
    "    num_train_epochs=20,\n",
    "    per_device_train_batch_size=64,\n",
    "    per_device_eval_batch_size=64,\n",
    ")"
   ]
  },
  {
   "cell_type": "code",
   "execution_count": 75,
   "metadata": {},
   "outputs": [
    {
     "data": {
      "application/vnd.jupyter.widget-view+json": {
       "model_id": "508db89e20844a6e8c684be677ef7ece",
       "version_major": 2,
       "version_minor": 0
      },
      "text/plain": [
       "Downloading builder script:   0%|          | 0.00/6.77k [00:00<?, ?B/s]"
      ]
     },
     "metadata": {},
     "output_type": "display_data"
    },
    {
     "data": {
      "text/html": [
       "\n",
       "    <div>\n",
       "      \n",
       "      <progress value='1900' max='1900' style='width:300px; height:20px; vertical-align: middle;'></progress>\n",
       "      [1900/1900 10:37, Epoch 20/20]\n",
       "    </div>\n",
       "    <table border=\"1\" class=\"dataframe\">\n",
       "  <thead>\n",
       " <tr style=\"text-align: left;\">\n",
       "      <th>Epoch</th>\n",
       "      <th>Training Loss</th>\n",
       "      <th>Validation Loss</th>\n",
       "      <th>Precision</th>\n",
       "      <th>Recall</th>\n",
       "      <th>F1</th>\n",
       "      <th>Accuracy</th>\n",
       "    </tr>\n",
       "  </thead>\n",
       "  <tbody>\n",
       "    <tr>\n",
       "      <td>1</td>\n",
       "      <td>No log</td>\n",
       "      <td>1.212110</td>\n",
       "      <td>0.660411</td>\n",
       "      <td>0.623342</td>\n",
       "      <td>0.611819</td>\n",
       "      <td>0.623342</td>\n",
       "    </tr>\n",
       "    <tr>\n",
       "      <td>2</td>\n",
       "      <td>No log</td>\n",
       "      <td>0.940745</td>\n",
       "      <td>0.679804</td>\n",
       "      <td>0.679045</td>\n",
       "      <td>0.675059</td>\n",
       "      <td>0.679045</td>\n",
       "    </tr>\n",
       "    <tr>\n",
       "      <td>3</td>\n",
       "      <td>No log</td>\n",
       "      <td>0.861924</td>\n",
       "      <td>0.709336</td>\n",
       "      <td>0.706897</td>\n",
       "      <td>0.707321</td>\n",
       "      <td>0.706897</td>\n",
       "    </tr>\n",
       "    <tr>\n",
       "      <td>4</td>\n",
       "      <td>No log</td>\n",
       "      <td>0.863319</td>\n",
       "      <td>0.723961</td>\n",
       "      <td>0.717507</td>\n",
       "      <td>0.718522</td>\n",
       "      <td>0.717507</td>\n",
       "    </tr>\n",
       "    <tr>\n",
       "      <td>5</td>\n",
       "      <td>No log</td>\n",
       "      <td>0.847826</td>\n",
       "      <td>0.724313</td>\n",
       "      <td>0.720159</td>\n",
       "      <td>0.720440</td>\n",
       "      <td>0.720159</td>\n",
       "    </tr>\n",
       "    <tr>\n",
       "      <td>6</td>\n",
       "      <td>0.923500</td>\n",
       "      <td>0.877021</td>\n",
       "      <td>0.728411</td>\n",
       "      <td>0.720159</td>\n",
       "      <td>0.720292</td>\n",
       "      <td>0.720159</td>\n",
       "    </tr>\n",
       "    <tr>\n",
       "      <td>7</td>\n",
       "      <td>0.923500</td>\n",
       "      <td>0.913028</td>\n",
       "      <td>0.726986</td>\n",
       "      <td>0.724138</td>\n",
       "      <td>0.723103</td>\n",
       "      <td>0.724138</td>\n",
       "    </tr>\n",
       "    <tr>\n",
       "      <td>8</td>\n",
       "      <td>0.923500</td>\n",
       "      <td>0.948107</td>\n",
       "      <td>0.717772</td>\n",
       "      <td>0.712202</td>\n",
       "      <td>0.712689</td>\n",
       "      <td>0.712202</td>\n",
       "    </tr>\n",
       "    <tr>\n",
       "      <td>9</td>\n",
       "      <td>0.923500</td>\n",
       "      <td>1.036212</td>\n",
       "      <td>0.707482</td>\n",
       "      <td>0.705570</td>\n",
       "      <td>0.703256</td>\n",
       "      <td>0.705570</td>\n",
       "    </tr>\n",
       "    <tr>\n",
       "      <td>10</td>\n",
       "      <td>0.923500</td>\n",
       "      <td>1.050014</td>\n",
       "      <td>0.718512</td>\n",
       "      <td>0.718833</td>\n",
       "      <td>0.717487</td>\n",
       "      <td>0.718833</td>\n",
       "    </tr>\n",
       "    <tr>\n",
       "      <td>11</td>\n",
       "      <td>0.236000</td>\n",
       "      <td>1.083267</td>\n",
       "      <td>0.718382</td>\n",
       "      <td>0.717507</td>\n",
       "      <td>0.716532</td>\n",
       "      <td>0.717507</td>\n",
       "    </tr>\n",
       "    <tr>\n",
       "      <td>12</td>\n",
       "      <td>0.236000</td>\n",
       "      <td>1.134249</td>\n",
       "      <td>0.713524</td>\n",
       "      <td>0.706897</td>\n",
       "      <td>0.707573</td>\n",
       "      <td>0.706897</td>\n",
       "    </tr>\n",
       "    <tr>\n",
       "      <td>13</td>\n",
       "      <td>0.236000</td>\n",
       "      <td>1.172145</td>\n",
       "      <td>0.707500</td>\n",
       "      <td>0.706897</td>\n",
       "      <td>0.706032</td>\n",
       "      <td>0.706897</td>\n",
       "    </tr>\n",
       "    <tr>\n",
       "      <td>14</td>\n",
       "      <td>0.236000</td>\n",
       "      <td>1.197344</td>\n",
       "      <td>0.722657</td>\n",
       "      <td>0.721485</td>\n",
       "      <td>0.721082</td>\n",
       "      <td>0.721485</td>\n",
       "    </tr>\n",
       "    <tr>\n",
       "      <td>15</td>\n",
       "      <td>0.236000</td>\n",
       "      <td>1.226440</td>\n",
       "      <td>0.718783</td>\n",
       "      <td>0.717507</td>\n",
       "      <td>0.717256</td>\n",
       "      <td>0.717507</td>\n",
       "    </tr>\n",
       "    <tr>\n",
       "      <td>16</td>\n",
       "      <td>0.074900</td>\n",
       "      <td>1.275559</td>\n",
       "      <td>0.714670</td>\n",
       "      <td>0.713528</td>\n",
       "      <td>0.712660</td>\n",
       "      <td>0.713528</td>\n",
       "    </tr>\n",
       "    <tr>\n",
       "      <td>17</td>\n",
       "      <td>0.074900</td>\n",
       "      <td>1.279518</td>\n",
       "      <td>0.712333</td>\n",
       "      <td>0.712202</td>\n",
       "      <td>0.711232</td>\n",
       "      <td>0.712202</td>\n",
       "    </tr>\n",
       "    <tr>\n",
       "      <td>18</td>\n",
       "      <td>0.074900</td>\n",
       "      <td>1.270903</td>\n",
       "      <td>0.720199</td>\n",
       "      <td>0.720159</td>\n",
       "      <td>0.719821</td>\n",
       "      <td>0.720159</td>\n",
       "    </tr>\n",
       "    <tr>\n",
       "      <td>19</td>\n",
       "      <td>0.074900</td>\n",
       "      <td>1.283167</td>\n",
       "      <td>0.714619</td>\n",
       "      <td>0.713528</td>\n",
       "      <td>0.712971</td>\n",
       "      <td>0.713528</td>\n",
       "    </tr>\n",
       "    <tr>\n",
       "      <td>20</td>\n",
       "      <td>0.074900</td>\n",
       "      <td>1.291720</td>\n",
       "      <td>0.719310</td>\n",
       "      <td>0.718833</td>\n",
       "      <td>0.718293</td>\n",
       "      <td>0.718833</td>\n",
       "    </tr>\n",
       "  </tbody>\n",
       "</table><p>"
      ],
      "text/plain": [
       "<IPython.core.display.HTML object>"
      ]
     },
     "metadata": {},
     "output_type": "display_data"
    },
    {
     "data": {
      "text/plain": [
       "TrainOutput(global_step=1900, training_loss=0.3340263527318051, metrics={'train_runtime': 638.6378, 'train_samples_per_second': 188.745, 'train_steps_per_second': 2.975, 'total_flos': 1902658917438270.0, 'train_loss': 0.3340263527318051, 'epoch': 20.0})"
      ]
     },
     "execution_count": 75,
     "metadata": {},
     "output_type": "execute_result"
    }
   ],
   "source": [
    "recall = evaluate.load(\"recall\")\n",
    "accuracy = evaluate.load(\"accuracy\")\n",
    "precision = evaluate.load(\"precision\")\n",
    "f1 = evaluate.load(\"f1\")\n",
    "\n",
    "\n",
    "def compute_metrics(eval_pred):\n",
    "    logits, labels = eval_pred\n",
    "    predictions = np.argmax(logits, axis=-1)\n",
    "\n",
    "    pre = precision.compute(\n",
    "        predictions=predictions, references=labels, average=\"weighted\"\n",
    "    )[\"precision\"]\n",
    "    rec = recall.compute(\n",
    "        predictions=predictions, references=labels, average=\"weighted\"\n",
    "    )[\"recall\"]\n",
    "    f1_score = f1.compute(\n",
    "        predictions=predictions, references=labels, average=\"weighted\"\n",
    "    )[\"f1\"]\n",
    "    acc = accuracy.compute(predictions=predictions, references=labels)[\"accuracy\"]\n",
    "\n",
    "    return {\"precision\": pre, \"recall\": rec, \"f1\": f1_score, \"accuracy\": acc}\n",
    "\n",
    "\n",
    "trainer = transformers.Trainer(\n",
    "    model=model,\n",
    "    args=training_args,\n",
    "    train_dataset=tokenized_dataset[\"train\"],\n",
    "    eval_dataset=tokenized_dataset[\"test\"],\n",
    "    tokenizer=tokenizer,\n",
    "    data_collator=data_collator,\n",
    "    compute_metrics=compute_metrics,\n",
    ")\n",
    "\n",
    "trainer.train()"
   ]
  },
  {
   "cell_type": "code",
   "execution_count": 79,
   "metadata": {},
   "outputs": [
    {
     "data": {
      "text/plain": [
       "{'eval_loss': 0.8478260040283203,\n",
       " 'eval_precision': 0.7243129801351008,\n",
       " 'eval_recall': 0.7201591511936339,\n",
       " 'eval_f1': 0.7204401267960703,\n",
       " 'eval_accuracy': 0.7201591511936339,\n",
       " 'eval_runtime': 2.1809,\n",
       " 'eval_samples_per_second': 345.721,\n",
       " 'eval_steps_per_second': 5.502,\n",
       " 'epoch': 20.0}"
      ]
     },
     "execution_count": 79,
     "metadata": {},
     "output_type": "execute_result"
    }
   ],
   "source": [
    "trainer.evaluate()"
   ]
  },
  {
   "cell_type": "code",
   "execution_count": 80,
   "metadata": {},
   "outputs": [],
   "source": [
    "trainer.save_model(\"models/distilbert-base-uncased-finetuned\")"
   ]
  },
  {
   "cell_type": "code",
   "execution_count": 81,
   "metadata": {},
   "outputs": [
    {
     "name": "stdout",
     "output_type": "stream",
     "text": [
      "[{'label': 'guilt', 'score': 0.5378169417381287}]\n"
     ]
    }
   ],
   "source": [
    "# trainer.save_model(\"./my_model\")\n",
    "text = \"You shouldnt said that. I hate you!\"\n",
    "classifier = pipeline(\n",
    "    \"text-classification\",\n",
    "    model=\"models/distilbert-base-uncased-finetuned/\",\n",
    "    device=\"cuda\",\n",
    ")\n",
    "print(classifier(text))"
   ]
  }
 ],
 "metadata": {
  "kernelspec": {
   "display_name": ".venv",
   "language": "python",
   "name": "python3"
  },
  "language_info": {
   "codemirror_mode": {
    "name": "ipython",
    "version": 3
   },
   "file_extension": ".py",
   "mimetype": "text/x-python",
   "name": "python",
   "nbconvert_exporter": "python",
   "pygments_lexer": "ipython3",
   "version": "3.12.2"
  }
 },
 "nbformat": 4,
 "nbformat_minor": 2
}
