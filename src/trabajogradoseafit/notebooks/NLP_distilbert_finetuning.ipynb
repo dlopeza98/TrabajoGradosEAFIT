{
 "cells": [
  {
   "cell_type": "markdown",
   "metadata": {},
   "source": [
    "# Fine tuning Large Langua Model(LLM) - distilber base uncased"
   ]
  },
  {
   "cell_type": "markdown",
   "metadata": {},
   "source": [
    "## Libraries"
   ]
  },
  {
   "cell_type": "code",
   "execution_count": 39,
   "metadata": {},
   "outputs": [],
   "source": [
    "import transformers\n",
    "from datasets import Dataset, DatasetDict, ClassLabel\n",
    "import pandas as pd\n",
    "import numpy as np\n",
    "import evaluate\n",
    "import torch\n",
    "from transformers import pipeline"
   ]
  },
  {
   "cell_type": "markdown",
   "metadata": {},
   "source": [
    "## Dataset \n",
    "Se cargan los datasets de `training`, `validation` y `test`. Se utiliza cada uno para:\n",
    "* `training` = Realizar el fine tunning del modelo.\n",
    "* `validation` = validar el proceso de fine tunning.\n",
    "* `test` = testear el modelo con nuevos datos."
   ]
  },
  {
   "cell_type": "code",
   "execution_count": 20,
   "metadata": {},
   "outputs": [],
   "source": [
    "df_train = pd.read_csv(\"../data/data_to_model/train_data.csv\")\n",
    "df_val = pd.read_csv(\"../data/data_to_model/val_data.csv\")\n",
    "df_test = pd.read_csv(\"../data/data_to_model/test_data.csv\")"
   ]
  },
  {
   "cell_type": "markdown",
   "metadata": {},
   "source": [
    "### Consolidating training y test:"
   ]
  },
  {
   "cell_type": "code",
   "execution_count": 21,
   "metadata": {},
   "outputs": [
    {
     "data": {
      "application/vnd.jupyter.widget-view+json": {
       "model_id": "60ea78c97ed54b3abe35b3255d218d3b",
       "version_major": 2,
       "version_minor": 0
      },
      "text/plain": [
       "Casting to class labels:   0%|          | 0/6027 [00:00<?, ? examples/s]"
      ]
     },
     "metadata": {},
     "output_type": "display_data"
    },
    {
     "data": {
      "application/vnd.jupyter.widget-view+json": {
       "model_id": "d17e28b01ecd41dab8f431e5487d3fc4",
       "version_major": 2,
       "version_minor": 0
      },
      "text/plain": [
       "Casting to class labels:   0%|          | 0/753 [00:00<?, ? examples/s]"
      ]
     },
     "metadata": {},
     "output_type": "display_data"
    },
    {
     "data": {
      "text/plain": [
       "DatasetDict({\n",
       "    train: Dataset({\n",
       "        features: ['text', 'emotion'],\n",
       "        num_rows: 6027\n",
       "    })\n",
       "    validation: Dataset({\n",
       "        features: ['text', 'emotion'],\n",
       "        num_rows: 753\n",
       "    })\n",
       "})"
      ]
     },
     "execution_count": 21,
     "metadata": {},
     "output_type": "execute_result"
    }
   ],
   "source": [
    "# Convertir cada DataFrame en un Dataset de Hugging Face\n",
    "train_dataset = Dataset.from_pandas(df_train)\n",
    "val_dataset = Dataset.from_pandas(df_val)\n",
    "test_dataset = Dataset.from_pandas(df_test)\n",
    "\n",
    "# Codificar la columna 'emotion' en un ClassLabel para cada conjunto de datos\n",
    "train_dataset = train_dataset.class_encode_column(\"emotion\")\n",
    "val_dataset = val_dataset.class_encode_column(\"emotion\")\n",
    "# test_dataset = test_dataset.class_encode_column(\"emotion\")\n",
    "\n",
    "# Crear el DatasetDict con los tres conjuntos\n",
    "dataset_dict = DatasetDict(\n",
    "    {\n",
    "        \"train\": train_dataset,\n",
    "        \"validation\": val_dataset,\n",
    "        #    \"test\": test_dataset\n",
    "    }\n",
    ")\n",
    "\n",
    "# Verificar el resultado\n",
    "dataset_dict"
   ]
  },
  {
   "cell_type": "code",
   "execution_count": 22,
   "metadata": {},
   "outputs": [
    {
     "data": {
      "application/vnd.jupyter.widget-view+json": {
       "model_id": "b88ebae3bbe84d3889d91a8e8e2c4917",
       "version_major": 2,
       "version_minor": 0
      },
      "text/plain": [
       "Map:   0%|          | 0/6027 [00:00<?, ? examples/s]"
      ]
     },
     "metadata": {},
     "output_type": "display_data"
    },
    {
     "data": {
      "application/vnd.jupyter.widget-view+json": {
       "model_id": "e391188237e1485b835cad168b5467bc",
       "version_major": 2,
       "version_minor": 0
      },
      "text/plain": [
       "Map:   0%|          | 0/753 [00:00<?, ? examples/s]"
      ]
     },
     "metadata": {},
     "output_type": "display_data"
    },
    {
     "name": "stdout",
     "output_type": "stream",
     "text": [
      "DatasetDict({\n",
      "    train: Dataset({\n",
      "        features: ['text', 'label', 'input_ids', 'attention_mask'],\n",
      "        num_rows: 6027\n",
      "    })\n",
      "    validation: Dataset({\n",
      "        features: ['text', 'label', 'input_ids', 'attention_mask'],\n",
      "        num_rows: 753\n",
      "    })\n",
      "})\n"
     ]
    }
   ],
   "source": [
    "from transformers import AutoTokenizer\n",
    "\n",
    "model_name = \"distilbert-base-uncased\"\n",
    "tokenizer = AutoTokenizer.from_pretrained(model_name, clean_up_tokenization_spaces=True)\n",
    "\n",
    "\n",
    "def preprocess_function(examples, func_tokenizer):\n",
    "    return func_tokenizer(examples[\"text\"], truncation=True)\n",
    "\n",
    "\n",
    "tokenized_dataset = dataset_dict.map(\n",
    "    preprocess_function,\n",
    "    batched=True,\n",
    "    # num_proc=20,\n",
    "    fn_kwargs={\"func_tokenizer\": tokenizer},\n",
    ")\n",
    "\n",
    "tokenized_dataset = tokenized_dataset.rename_column(\"emotion\", \"label\")\n",
    "print(tokenized_dataset)"
   ]
  },
  {
   "cell_type": "code",
   "execution_count": 23,
   "metadata": {},
   "outputs": [
    {
     "name": "stderr",
     "output_type": "stream",
     "text": [
      "Some weights of DistilBertForSequenceClassification were not initialized from the model checkpoint at distilbert-base-uncased and are newly initialized: ['classifier.bias', 'classifier.weight', 'pre_classifier.bias', 'pre_classifier.weight']\n",
      "You should probably TRAIN this model on a down-stream task to be able to use it for predictions and inference.\n"
     ]
    }
   ],
   "source": [
    "from transformers import DataCollatorWithPadding\n",
    "from transformers import AutoModelForSequenceClassification\n",
    "\n",
    "id2label = {\n",
    "    0: \"anger\",\n",
    "    1: \"disgust\",\n",
    "    2: \"fear\",\n",
    "    3: \"guilt\",\n",
    "    4: \"joy\",\n",
    "    5: \"sadness\",\n",
    "    6: \"shame\",\n",
    "}\n",
    "label2id = {\n",
    "    \"anger\": 0,\n",
    "    \"disgust\": 1,\n",
    "    \"fear\": 2,\n",
    "    \"guilt\": 3,\n",
    "    \"joy\": 4,\n",
    "    \"sadness\": 5,\n",
    "    \"shame\": 6,\n",
    "}\n",
    "\n",
    "data_collator = DataCollatorWithPadding(tokenizer=tokenizer)\n",
    "\n",
    "\n",
    "device = torch.device(\"cuda\" if torch.cuda.is_available() else \"cpu\")\n",
    "\n",
    "\n",
    "model = AutoModelForSequenceClassification.from_pretrained(\n",
    "    model_name, num_labels=7, id2label=id2label, label2id=label2id\n",
    ").to(device)"
   ]
  },
  {
   "cell_type": "code",
   "execution_count": 29,
   "metadata": {},
   "outputs": [],
   "source": [
    "training_args = transformers.TrainingArguments(\n",
    "    output_dir=\"./results\",\n",
    "    learning_rate=2e-5,\n",
    "    eval_strategy=\"epoch\",\n",
    "    save_strategy=\"epoch\",\n",
    "    load_best_model_at_end=True,\n",
    "    num_train_epochs=20,\n",
    "    per_device_train_batch_size=64,\n",
    "    per_device_eval_batch_size=64,\n",
    "    metric_for_best_model=\"f1\",  # Métrica a usar para seleccionar el mejor modelo\n",
    "    save_total_limit=3,  # Limitar la cantidad de checkpoints guardados\n",
    "    greater_is_better=True,\n",
    ")"
   ]
  },
  {
   "cell_type": "code",
   "execution_count": 32,
   "metadata": {},
   "outputs": [],
   "source": [
    "# Crear el callback de Early Stopping\n",
    "early_stopping_callback = transformers.EarlyStoppingCallback(\n",
    "    early_stopping_patience=10,  # Número de épocas sin mejora antes de detener\n",
    "    early_stopping_threshold=0.001,  # Opcional: mejora mínima requerida para resetear el contador\n",
    ")"
   ]
  },
  {
   "cell_type": "code",
   "execution_count": 33,
   "metadata": {},
   "outputs": [
    {
     "data": {
      "text/html": [
       "\n",
       "    <div>\n",
       "      \n",
       "      <progress value='1900' max='1900' style='width:300px; height:20px; vertical-align: middle;'></progress>\n",
       "      [1900/1900 10:32, Epoch 20/20]\n",
       "    </div>\n",
       "    <table border=\"1\" class=\"dataframe\">\n",
       "  <thead>\n",
       " <tr style=\"text-align: left;\">\n",
       "      <th>Epoch</th>\n",
       "      <th>Training Loss</th>\n",
       "      <th>Validation Loss</th>\n",
       "      <th>Precision</th>\n",
       "      <th>Recall</th>\n",
       "      <th>F1</th>\n",
       "      <th>Accuracy</th>\n",
       "    </tr>\n",
       "  </thead>\n",
       "  <tbody>\n",
       "    <tr>\n",
       "      <td>1</td>\n",
       "      <td>No log</td>\n",
       "      <td>2.116130</td>\n",
       "      <td>0.686659</td>\n",
       "      <td>0.673307</td>\n",
       "      <td>0.677313</td>\n",
       "      <td>0.673307</td>\n",
       "    </tr>\n",
       "    <tr>\n",
       "      <td>2</td>\n",
       "      <td>No log</td>\n",
       "      <td>2.195333</td>\n",
       "      <td>0.676804</td>\n",
       "      <td>0.675963</td>\n",
       "      <td>0.674601</td>\n",
       "      <td>0.675963</td>\n",
       "    </tr>\n",
       "    <tr>\n",
       "      <td>3</td>\n",
       "      <td>No log</td>\n",
       "      <td>2.150121</td>\n",
       "      <td>0.677109</td>\n",
       "      <td>0.675963</td>\n",
       "      <td>0.674745</td>\n",
       "      <td>0.675963</td>\n",
       "    </tr>\n",
       "    <tr>\n",
       "      <td>4</td>\n",
       "      <td>No log</td>\n",
       "      <td>2.260950</td>\n",
       "      <td>0.692747</td>\n",
       "      <td>0.679947</td>\n",
       "      <td>0.683077</td>\n",
       "      <td>0.679947</td>\n",
       "    </tr>\n",
       "    <tr>\n",
       "      <td>5</td>\n",
       "      <td>No log</td>\n",
       "      <td>2.329257</td>\n",
       "      <td>0.696739</td>\n",
       "      <td>0.685259</td>\n",
       "      <td>0.686875</td>\n",
       "      <td>0.685259</td>\n",
       "    </tr>\n",
       "    <tr>\n",
       "      <td>6</td>\n",
       "      <td>0.013100</td>\n",
       "      <td>2.302621</td>\n",
       "      <td>0.699487</td>\n",
       "      <td>0.689243</td>\n",
       "      <td>0.690085</td>\n",
       "      <td>0.689243</td>\n",
       "    </tr>\n",
       "    <tr>\n",
       "      <td>7</td>\n",
       "      <td>0.013100</td>\n",
       "      <td>2.311320</td>\n",
       "      <td>0.676373</td>\n",
       "      <td>0.675963</td>\n",
       "      <td>0.674879</td>\n",
       "      <td>0.675963</td>\n",
       "    </tr>\n",
       "    <tr>\n",
       "      <td>8</td>\n",
       "      <td>0.013100</td>\n",
       "      <td>2.299111</td>\n",
       "      <td>0.681135</td>\n",
       "      <td>0.671979</td>\n",
       "      <td>0.674979</td>\n",
       "      <td>0.671979</td>\n",
       "    </tr>\n",
       "    <tr>\n",
       "      <td>9</td>\n",
       "      <td>0.013100</td>\n",
       "      <td>2.365772</td>\n",
       "      <td>0.699853</td>\n",
       "      <td>0.675963</td>\n",
       "      <td>0.682047</td>\n",
       "      <td>0.675963</td>\n",
       "    </tr>\n",
       "    <tr>\n",
       "      <td>10</td>\n",
       "      <td>0.013100</td>\n",
       "      <td>2.292196</td>\n",
       "      <td>0.704980</td>\n",
       "      <td>0.697211</td>\n",
       "      <td>0.699276</td>\n",
       "      <td>0.697211</td>\n",
       "    </tr>\n",
       "    <tr>\n",
       "      <td>11</td>\n",
       "      <td>0.007900</td>\n",
       "      <td>2.323113</td>\n",
       "      <td>0.710378</td>\n",
       "      <td>0.698539</td>\n",
       "      <td>0.699772</td>\n",
       "      <td>0.698539</td>\n",
       "    </tr>\n",
       "    <tr>\n",
       "      <td>12</td>\n",
       "      <td>0.007900</td>\n",
       "      <td>2.387264</td>\n",
       "      <td>0.686787</td>\n",
       "      <td>0.677291</td>\n",
       "      <td>0.680413</td>\n",
       "      <td>0.677291</td>\n",
       "    </tr>\n",
       "    <tr>\n",
       "      <td>13</td>\n",
       "      <td>0.007900</td>\n",
       "      <td>2.390723</td>\n",
       "      <td>0.693112</td>\n",
       "      <td>0.687915</td>\n",
       "      <td>0.689943</td>\n",
       "      <td>0.687915</td>\n",
       "    </tr>\n",
       "    <tr>\n",
       "      <td>14</td>\n",
       "      <td>0.007900</td>\n",
       "      <td>2.397981</td>\n",
       "      <td>0.704954</td>\n",
       "      <td>0.691899</td>\n",
       "      <td>0.694992</td>\n",
       "      <td>0.691899</td>\n",
       "    </tr>\n",
       "    <tr>\n",
       "      <td>15</td>\n",
       "      <td>0.007900</td>\n",
       "      <td>2.437384</td>\n",
       "      <td>0.693652</td>\n",
       "      <td>0.686587</td>\n",
       "      <td>0.688580</td>\n",
       "      <td>0.686587</td>\n",
       "    </tr>\n",
       "    <tr>\n",
       "      <td>16</td>\n",
       "      <td>0.004300</td>\n",
       "      <td>2.395356</td>\n",
       "      <td>0.707914</td>\n",
       "      <td>0.697211</td>\n",
       "      <td>0.699746</td>\n",
       "      <td>0.697211</td>\n",
       "    </tr>\n",
       "    <tr>\n",
       "      <td>17</td>\n",
       "      <td>0.004300</td>\n",
       "      <td>2.402627</td>\n",
       "      <td>0.701629</td>\n",
       "      <td>0.695883</td>\n",
       "      <td>0.697599</td>\n",
       "      <td>0.695883</td>\n",
       "    </tr>\n",
       "    <tr>\n",
       "      <td>18</td>\n",
       "      <td>0.004300</td>\n",
       "      <td>2.393256</td>\n",
       "      <td>0.696440</td>\n",
       "      <td>0.691899</td>\n",
       "      <td>0.693615</td>\n",
       "      <td>0.691899</td>\n",
       "    </tr>\n",
       "    <tr>\n",
       "      <td>19</td>\n",
       "      <td>0.004300</td>\n",
       "      <td>2.369908</td>\n",
       "      <td>0.702038</td>\n",
       "      <td>0.697211</td>\n",
       "      <td>0.698997</td>\n",
       "      <td>0.697211</td>\n",
       "    </tr>\n",
       "    <tr>\n",
       "      <td>20</td>\n",
       "      <td>0.004300</td>\n",
       "      <td>2.360433</td>\n",
       "      <td>0.699476</td>\n",
       "      <td>0.695883</td>\n",
       "      <td>0.697176</td>\n",
       "      <td>0.695883</td>\n",
       "    </tr>\n",
       "  </tbody>\n",
       "</table><p>"
      ],
      "text/plain": [
       "<IPython.core.display.HTML object>"
      ]
     },
     "metadata": {},
     "output_type": "display_data"
    },
    {
     "data": {
      "text/plain": [
       "TrainOutput(global_step=1900, training_loss=0.007486833083002191, metrics={'train_runtime': 633.1517, 'train_samples_per_second': 190.381, 'train_steps_per_second': 3.001, 'total_flos': 1820208203799654.0, 'train_loss': 0.007486833083002191, 'epoch': 20.0})"
      ]
     },
     "execution_count": 33,
     "metadata": {},
     "output_type": "execute_result"
    }
   ],
   "source": [
    "recall = evaluate.load(\"recall\")\n",
    "accuracy = evaluate.load(\"accuracy\")\n",
    "precision = evaluate.load(\"precision\")\n",
    "f1 = evaluate.load(\"f1\")\n",
    "\n",
    "\n",
    "def compute_metrics(eval_pred):\n",
    "    logits, labels = eval_pred\n",
    "    predictions = np.argmax(logits, axis=-1)\n",
    "\n",
    "    pre = precision.compute(\n",
    "        predictions=predictions, references=labels, average=\"weighted\"\n",
    "    )[\"precision\"]\n",
    "    rec = recall.compute(predictions=predictions, references=labels, average=\"micro\")[\n",
    "        \"recall\"\n",
    "    ]\n",
    "    f1_score = f1.compute(predictions=predictions, references=labels, average=\"micro\")[\n",
    "        \"f1\"\n",
    "    ]\n",
    "    acc = accuracy.compute(predictions=predictions, references=labels)[\"accuracy\"]\n",
    "\n",
    "    return {\"precision\": pre, \"recall\": rec, \"f1\": f1_score, \"accuracy\": acc}\n",
    "\n",
    "\n",
    "trainer = transformers.Trainer(\n",
    "    model=model,\n",
    "    args=training_args,\n",
    "    train_dataset=tokenized_dataset[\"train\"],\n",
    "    eval_dataset=tokenized_dataset[\"validation\"],\n",
    "    tokenizer=tokenizer,\n",
    "    data_collator=data_collator,\n",
    "    compute_metrics=compute_metrics,\n",
    "    callbacks=[early_stopping_callback],\n",
    ")\n",
    "\n",
    "\n",
    "trainer.train()"
   ]
  },
  {
   "cell_type": "code",
   "execution_count": 36,
   "metadata": {},
   "outputs": [
    {
     "data": {
      "text/plain": [
       "{'eval_loss': 2.323112726211548,\n",
       " 'eval_precision': 0.7103782233582198,\n",
       " 'eval_recall': 0.6985391766268261,\n",
       " 'eval_f1': 0.6997722522822101,\n",
       " 'eval_accuracy': 0.6985391766268261,\n",
       " 'eval_runtime': 2.2358,\n",
       " 'eval_samples_per_second': 336.793,\n",
       " 'eval_steps_per_second': 5.367,\n",
       " 'epoch': 20.0}"
      ]
     },
     "execution_count": 36,
     "metadata": {},
     "output_type": "execute_result"
    }
   ],
   "source": [
    "trainer.evaluate()"
   ]
  },
  {
   "cell_type": "code",
   "execution_count": 38,
   "metadata": {},
   "outputs": [],
   "source": [
    "trainer.save_model(\"models/distilbert-base-uncased-finetuned\")"
   ]
  },
  {
   "cell_type": "code",
   "execution_count": 81,
   "metadata": {},
   "outputs": [
    {
     "name": "stdout",
     "output_type": "stream",
     "text": [
      "[{'label': 'guilt', 'score': 0.5378169417381287}]\n"
     ]
    }
   ],
   "source": [
    "## trainer.save_model(\"./my_model\")\n",
    "# text = \"You shouldnt said that. I hate you!\"\n",
    "# classifier = pipeline(\n",
    "#    \"text-classification\",\n",
    "#    model=\"models/distilbert-base-uncased-finetuned/\",\n",
    "#    device=\"cuda\",\n",
    "# )\n",
    "# print(classifier(text))"
   ]
  },
  {
   "cell_type": "markdown",
   "metadata": {},
   "source": [
    "### Using test set to evaluate the model performance."
   ]
  },
  {
   "cell_type": "code",
   "execution_count": 37,
   "metadata": {},
   "outputs": [
    {
     "data": {
      "application/vnd.jupyter.widget-view+json": {
       "model_id": "c865628603f04796b2a82eac37c681ad",
       "version_major": 2,
       "version_minor": 0
      },
      "text/plain": [
       "Casting to class labels:   0%|          | 0/754 [00:00<?, ? examples/s]"
      ]
     },
     "metadata": {},
     "output_type": "display_data"
    },
    {
     "data": {
      "application/vnd.jupyter.widget-view+json": {
       "model_id": "614051169d3f43f29f3bdff15d919bbe",
       "version_major": 2,
       "version_minor": 0
      },
      "text/plain": [
       "Map:   0%|          | 0/754 [00:00<?, ? examples/s]"
      ]
     },
     "metadata": {},
     "output_type": "display_data"
    },
    {
     "data": {
      "text/plain": [
       "{'eval_loss': 2.168704032897949,\n",
       " 'eval_precision': 0.6977283244146201,\n",
       " 'eval_recall': 0.6923076923076923,\n",
       " 'eval_f1': 0.6926315254997579,\n",
       " 'eval_accuracy': 0.6923076923076923,\n",
       " 'eval_runtime': 2.4092,\n",
       " 'eval_samples_per_second': 312.963,\n",
       " 'eval_steps_per_second': 4.981,\n",
       " 'epoch': 20.0}"
      ]
     },
     "execution_count": 37,
     "metadata": {},
     "output_type": "execute_result"
    }
   ],
   "source": [
    "# Convertir el conjunto de prueba en un Dataset de Hugging Face y codificar la columna 'emotion'\n",
    "test_dataset = Dataset.from_pandas(df_test)\n",
    "test_dataset = test_dataset.class_encode_column(\"emotion\")\n",
    "\n",
    "# Tokenizar el conjunto de prueba\n",
    "tokenized_test_dataset = test_dataset.map(\n",
    "    preprocess_function,\n",
    "    batched=True,\n",
    "    fn_kwargs={\"func_tokenizer\": tokenizer},\n",
    ")\n",
    "\n",
    "tokenized_test_dataset = tokenized_test_dataset.rename_column(\"emotion\", \"label\")\n",
    "\n",
    "# Evaluar el modelo en el conjunto de prueba\n",
    "test_results = trainer.evaluate(eval_dataset=tokenized_test_dataset)\n",
    "\n",
    "# Imprimir los resultados de las métricas en el conjunto de prueba\n",
    "test_results"
   ]
  }
 ],
 "metadata": {
  "kernelspec": {
   "display_name": ".venv",
   "language": "python",
   "name": "python3"
  },
  "language_info": {
   "codemirror_mode": {
    "name": "ipython",
    "version": 3
   },
   "file_extension": ".py",
   "mimetype": "text/x-python",
   "name": "python",
   "nbconvert_exporter": "python",
   "pygments_lexer": "ipython3",
   "version": "3.12.6"
  }
 },
 "nbformat": 4,
 "nbformat_minor": 2
}
