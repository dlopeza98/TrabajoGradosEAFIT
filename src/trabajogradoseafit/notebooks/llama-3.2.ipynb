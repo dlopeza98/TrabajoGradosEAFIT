{
 "cells": [
  {
   "cell_type": "markdown",
   "metadata": {},
   "source": [
    "# LLM - Meta - LLama\n",
    "\n",
    "En este Notebook se realiza el proceso de transfer learning el modelo `llamma 3.2` y se evalúa sobre el conjunto de datos de ISEAR. La implementación de una versión fine-tuneada no fue posible con los recursos computacionales disponibles. (GPU 6GB en Máquina local, )\n"
   ]
  },
  {
   "cell_type": "markdown",
   "metadata": {},
   "source": [
    "## Libraries\n"
   ]
  },
  {
   "cell_type": "code",
   "execution_count": 1,
   "metadata": {},
   "outputs": [
    {
     "name": "stderr",
     "output_type": "stream",
     "text": [
      "2024-11-06 15:48:04.487422: E external/local_xla/xla/stream_executor/cuda/cuda_fft.cc:485] Unable to register cuFFT factory: Attempting to register factory for plugin cuFFT when one has already been registered\n",
      "2024-11-06 15:48:04.646353: E external/local_xla/xla/stream_executor/cuda/cuda_dnn.cc:8454] Unable to register cuDNN factory: Attempting to register factory for plugin cuDNN when one has already been registered\n",
      "2024-11-06 15:48:04.688502: E external/local_xla/xla/stream_executor/cuda/cuda_blas.cc:1452] Unable to register cuBLAS factory: Attempting to register factory for plugin cuBLAS when one has already been registered\n",
      "2024-11-06 15:48:05.106734: I tensorflow/core/platform/cpu_feature_guard.cc:210] This TensorFlow binary is optimized to use available CPU instructions in performance-critical operations.\n",
      "To enable the following instructions: AVX2 FMA, in other operations, rebuild TensorFlow with the appropriate compiler flags.\n",
      "2024-11-06 15:48:11.344775: W tensorflow/compiler/tf2tensorrt/utils/py_utils.cc:38] TF-TRT Warning: Could not find TensorRT\n"
     ]
    }
   ],
   "source": [
    "import transformers\n",
    "from transformers import AutoTokenizer, set_seed\n",
    "from datasets import Dataset, DatasetDict, ClassLabel\n",
    "import pandas as pd\n",
    "import numpy as np\n",
    "import evaluate\n",
    "import torch\n",
    "from transformers import (\n",
    "    pipeline,\n",
    "    AutoModelForCausalLM,\n",
    "    BitsAndBytesConfig,\n",
    "    TrainingArguments,\n",
    ")\n",
    "from transformers import DataCollatorWithPadding\n",
    "from transformers import AutoModelForSequenceClassification\n",
    "import seaborn as sns\n",
    "import matplotlib.pyplot as plt\n",
    "from sklearn.metrics import confusion_matrix, classification_report, accuracy_score\n",
    "from peft import LoraConfig, PeftConfig\n",
    "from trl import SFTTrainer\n",
    "from trl import setup_chat_format\n",
    "import bitsandbytes as bnb\n",
    "import os\n",
    "from dotenv import load_dotenv"
   ]
  },
  {
   "cell_type": "markdown",
   "metadata": {},
   "source": [
    "## Hugging Face Authentication\n",
    "\n",
    "Los modelos de meta son opensource pero se debe solicitar su acceso através de Kaggle o HuggingFace. En este caso se solicitaron por Hugging Face, por lo que es necesario autenticarse en la cuenta que tenga acceso.\n",
    "\n",
    "Ver cómo solicitar accesos:\n",
    "\n",
    "- **Kaggle**: Registrarse con el correo que se tiene en Kaggle en el siguiente enlace https://www.llama.com/llama-downloads/. Luego, ingresar a kaggle y agregar los modelos a un notebook en https://www.kaggle.com/organizations/metaresearch/models\n",
    "\n",
    "- **Hugging Face**: Ir al _Model Card_ y llenar el formulario de solicitud (https://huggingface.co/meta-llama/Llama-3.2-1B)\n"
   ]
  },
  {
   "cell_type": "code",
   "execution_count": 4,
   "metadata": {},
   "outputs": [],
   "source": [
    "from huggingface_hub import login\n",
    "\n",
    "# Log in to Hugging Face using your API token\n",
    "\n",
    "login(token=os.getenv(\"HUGGING_FACE_API_KEY\"))"
   ]
  },
  {
   "cell_type": "markdown",
   "metadata": {},
   "source": [
    "## Dataset\n",
    "\n",
    "Se cargan los datasets de `training`, `validation` y `test`. Se utiliza cada uno para:\n",
    "\n",
    "- `training` = Realizar el fine tunning del modelo.\n",
    "- `validation` = validar el proceso de fine tunning.\n",
    "- `test` = testear el modelo con nuevos datos.\n"
   ]
  },
  {
   "cell_type": "code",
   "execution_count": 2,
   "metadata": {},
   "outputs": [],
   "source": [
    "df_train = pd.read_csv(\"../data/data_to_model/train_data.csv\").rename(\n",
    "    columns={\"emotion\": \"label\"}\n",
    ")\n",
    "df_val = pd.read_csv(\"../data/data_to_model/val_data.csv\").rename(\n",
    "    columns={\"emotion\": \"label\"}\n",
    ")\n",
    "df_test = pd.read_csv(\"../data/data_to_model/test_data.csv\").rename(\n",
    "    columns={\"emotion\": \"label\"}\n",
    ")"
   ]
  },
  {
   "cell_type": "code",
   "execution_count": 3,
   "metadata": {},
   "outputs": [
    {
     "data": {
      "application/vnd.jupyter.widget-view+json": {
       "model_id": "937e3ebe81ac414a80372e04ec2147cc",
       "version_major": 2,
       "version_minor": 0
      },
      "text/plain": [
       "Casting to class labels:   0%|          | 0/754 [00:00<?, ? examples/s]"
      ]
     },
     "metadata": {},
     "output_type": "display_data"
    }
   ],
   "source": [
    "df_dict_test = Dataset.from_pandas(df_test)\n",
    "df_dict_test = df_dict_test.class_encode_column(\"label\")"
   ]
  },
  {
   "cell_type": "markdown",
   "metadata": {},
   "source": [
    "Dado que es un proceso de Transfer Learning, se evalúa solo sobre el conjunto de datos de prueba para poder comparar los resultados con lo demás modelos.\n"
   ]
  },
  {
   "cell_type": "markdown",
   "metadata": {},
   "source": [
    "## Prepare Data\n"
   ]
  },
  {
   "cell_type": "code",
   "execution_count": null,
   "metadata": {},
   "outputs": [],
   "source": [
    "# Define the prompt generation functions\n",
    "def generate_prompt(data_point):\n",
    "    return f\"\"\"\n",
    "        You are an advanced assistant specialized in analyzing and detecting emotions in short text. \n",
    "        You will be provided with a text, and your task is to classify it into **exactly one emotion** from the following list:\n",
    "        [shame, sadness, joy, guilt, fear, disgust, anger].\n",
    "\n",
    "        **Important Rules:**\n",
    "        1. You must return only **one** of the emotions from the list without additional text.\n",
    "        2. Do **not** create or infer any emotions outside the list.\n",
    "        3. If the text does not match any emotion exactly, return the closest emotion from the list. \n",
    "        4. Do **not** return 'none', 'jealousy', or any other emotion that is not in the list.\n",
    "        5. Do not return additional text, only **exactly one emotion** of the list.\n",
    "        \n",
    "        Your answer can only be shame, sadness, joy, guilt, fear, disgust, or anger.\n",
    "        If you're unsure, assign the closest emotion from the allowed list.\n",
    "        \n",
    "text: {data_point[\"text\"]}\n",
    "label: {data_point[\"label\"]}\"\"\".strip()\n",
    "\n",
    "\n",
    "def generate_test_prompt(data_point):\n",
    "    return f\"\"\"\n",
    "        You are an advanced assistant specialized in analyzing and detecting emotions in short text. \n",
    "        You will be provided with a text, and your task is to classify it into **exactly one emotion** from the following list:\n",
    "        [shame, sadness, joy, guilt, fear, disgust, anger].\n",
    "text: {data_point[\"text\"]}\n",
    "label: \"\"\".strip()"
   ]
  },
  {
   "cell_type": "code",
   "execution_count": 5,
   "metadata": {},
   "outputs": [],
   "source": [
    "df_train[\"text\"] = df_train.apply(generate_prompt, axis=1)\n",
    "df_val[\"text\"] = df_val.apply(generate_prompt, axis=1)\n",
    "df_test[\"text\"] = df_test.apply(generate_test_prompt, axis=1)\n",
    "\n",
    "# Generate prompts for training and evaluation data\n",
    "X_train = df_train[\"text\"]\n",
    "X_val = df_val[\"text\"]\n",
    "X_test = df_test[\"text\"]\n",
    "\n",
    "# Generate test prompts and extract true labels\n",
    "y_test = df_test.loc[:, \"label\"]"
   ]
  },
  {
   "cell_type": "markdown",
   "metadata": {},
   "source": [
    "## `llama-3.2-1B-Instruct`\n",
    "\n",
    "### Loading model and tokenizer\n"
   ]
  },
  {
   "cell_type": "code",
   "execution_count": null,
   "metadata": {},
   "outputs": [],
   "source": [
    "base_model_name = \"meta-llama/Llama-3.2-1B-Instruct\"\n",
    "\n",
    "bnb_config = BitsAndBytesConfig(\n",
    "    load_in_4bit=True,\n",
    "    bnb_4bit_use_double_quant=False,\n",
    "    bnb_4bit_quant_type=\"nf4\",\n",
    "    bnb_4bit_compute_dtype=\"float16\",\n",
    ")\n",
    "\n",
    "model = AutoModelForCausalLM.from_pretrained(\n",
    "    base_model_name,\n",
    "    device_map=\"auto\",\n",
    "    torch_dtype=\"float16\",\n",
    "    quantization_config=bnb_config,\n",
    ")\n",
    "\n",
    "model.config.use_cache = False\n",
    "model.config.pretraining_tp = 1\n",
    "\n",
    "tokenizer = AutoTokenizer.from_pretrained(base_model_name)\n",
    "\n",
    "tokenizer.pad_token_id = tokenizer.eos_token_id"
   ]
  },
  {
   "cell_type": "markdown",
   "metadata": {},
   "source": [
    "### Model Evaluation with Transfer Learning\n"
   ]
  },
  {
   "cell_type": "code",
   "execution_count": null,
   "metadata": {},
   "outputs": [],
   "source": [
    "def predict(test, model, tokenizer):\n",
    "    y_pred = []\n",
    "    categories = [\"shame\", \"sadness\", \"joy\", \"guilt\", \"fear\", \"disgust\", \"anger\"]\n",
    "\n",
    "    for i in X_test:\n",
    "        prompt = i\n",
    "        pipe = pipeline(\n",
    "            task=\"text-generation\",\n",
    "            model=model,\n",
    "            tokenizer=tokenizer,\n",
    "            max_new_tokens=2,\n",
    "            temperature=0.1,\n",
    "        )\n",
    "\n",
    "        result = pipe(prompt)\n",
    "        answer = result[0][\"generated_text\"].split(\"label:\")[-1].strip()\n",
    "\n",
    "        # Determine the predicted category\n",
    "        for category in categories:\n",
    "            if category.lower() in answer.lower():\n",
    "                y_pred.append(category)\n",
    "                break\n",
    "        else:\n",
    "            y_pred.append(\"none\")\n",
    "\n",
    "    return y_pred\n",
    "\n",
    "\n",
    "y_pred = predict(X_test, model, tokenizer)"
   ]
  },
  {
   "cell_type": "code",
   "execution_count": null,
   "metadata": {},
   "outputs": [
    {
     "data": {
      "text/plain": [
       "370"
      ]
     },
     "execution_count": 11,
     "metadata": {},
     "output_type": "execute_result"
    }
   ],
   "source": [
    "len([x for x in y_pred if x == \"none\"])"
   ]
  },
  {
   "cell_type": "markdown",
   "metadata": {},
   "source": [
    "370 predicciones estuvieron por fuera de las respuestas aceptadas por lo que se descarta este modelo.\n"
   ]
  },
  {
   "cell_type": "markdown",
   "metadata": {},
   "source": [
    "## `llama-3.2-1B`\n"
   ]
  },
  {
   "cell_type": "code",
   "execution_count": null,
   "metadata": {},
   "outputs": [
    {
     "data": {
      "application/vnd.jupyter.widget-view+json": {
       "model_id": "ef35f5432a6a48ac88de7c8bec859c23",
       "version_major": 2,
       "version_minor": 0
      },
      "text/plain": [
       "config.json:   0%|          | 0.00/843 [00:00<?, ?B/s]"
      ]
     },
     "metadata": {},
     "output_type": "display_data"
    },
    {
     "data": {
      "application/vnd.jupyter.widget-view+json": {
       "model_id": "4d7f37c034b04ac7a2cc9ad02223297a",
       "version_major": 2,
       "version_minor": 0
      },
      "text/plain": [
       "model.safetensors:   0%|          | 0.00/2.47G [00:00<?, ?B/s]"
      ]
     },
     "metadata": {},
     "output_type": "display_data"
    },
    {
     "data": {
      "application/vnd.jupyter.widget-view+json": {
       "model_id": "c8e81a20b3864117a4cad41e16d789ec",
       "version_major": 2,
       "version_minor": 0
      },
      "text/plain": [
       "generation_config.json:   0%|          | 0.00/185 [00:00<?, ?B/s]"
      ]
     },
     "metadata": {},
     "output_type": "display_data"
    },
    {
     "data": {
      "application/vnd.jupyter.widget-view+json": {
       "model_id": "1bfbf63527f647c3beef663c6aac0dd2",
       "version_major": 2,
       "version_minor": 0
      },
      "text/plain": [
       "tokenizer_config.json:   0%|          | 0.00/50.5k [00:00<?, ?B/s]"
      ]
     },
     "metadata": {},
     "output_type": "display_data"
    },
    {
     "data": {
      "application/vnd.jupyter.widget-view+json": {
       "model_id": "8807eb4d27d44634abf8991dd01bd174",
       "version_major": 2,
       "version_minor": 0
      },
      "text/plain": [
       "tokenizer.json:   0%|          | 0.00/9.09M [00:00<?, ?B/s]"
      ]
     },
     "metadata": {},
     "output_type": "display_data"
    },
    {
     "data": {
      "application/vnd.jupyter.widget-view+json": {
       "model_id": "77a054992ac9474589a214fa738257ee",
       "version_major": 2,
       "version_minor": 0
      },
      "text/plain": [
       "special_tokens_map.json:   0%|          | 0.00/301 [00:00<?, ?B/s]"
      ]
     },
     "metadata": {},
     "output_type": "display_data"
    }
   ],
   "source": [
    "base_model_name = \"meta-llama/Llama-3.2-1B\"\n",
    "\n",
    "bnb_config = BitsAndBytesConfig(\n",
    "    load_in_4bit=True,\n",
    "    bnb_4bit_use_double_quant=False,\n",
    "    bnb_4bit_quant_type=\"nf4\",\n",
    "    bnb_4bit_compute_dtype=\"float16\",\n",
    ")\n",
    "\n",
    "model = AutoModelForCausalLM.from_pretrained(\n",
    "    base_model_name,\n",
    "    device_map=\"auto\",\n",
    "    torch_dtype=\"float16\",\n",
    "    quantization_config=bnb_config,\n",
    ")\n",
    "\n",
    "model.config.use_cache = False\n",
    "model.config.pretraining_tp = 1\n",
    "\n",
    "tokenizer = AutoTokenizer.from_pretrained(base_model_name)\n",
    "\n",
    "tokenizer.pad_token_id = tokenizer.eos_token_id"
   ]
  },
  {
   "cell_type": "markdown",
   "metadata": {},
   "source": [
    "### Model Evaluation with Transfer Learning\n"
   ]
  },
  {
   "cell_type": "code",
   "execution_count": null,
   "metadata": {},
   "outputs": [],
   "source": [
    "def predict(test, model, tokenizer):\n",
    "    y_pred = []\n",
    "    categories = [\"shame\", \"sadness\", \"joy\", \"guilt\", \"fear\", \"disgust\", \"anger\"]\n",
    "\n",
    "    for i in X_test:\n",
    "        prompt = i\n",
    "        pipe = pipeline(\n",
    "            task=\"text-generation\",\n",
    "            model=model,\n",
    "            tokenizer=tokenizer,\n",
    "            max_new_tokens=2,\n",
    "            temperature=0.1,\n",
    "        )\n",
    "\n",
    "        result = pipe(prompt)\n",
    "        answer = result[0][\"generated_text\"].split(\"label:\")[-1].strip()\n",
    "\n",
    "        # Determine the predicted category\n",
    "        for category in categories:\n",
    "            if category.lower() in answer.lower():\n",
    "                y_pred.append(category)\n",
    "                break\n",
    "        else:\n",
    "            y_pred.append(\"none\")\n",
    "\n",
    "    return y_pred\n",
    "\n",
    "\n",
    "y_pred = predict(X_test, model, tokenizer)"
   ]
  },
  {
   "cell_type": "code",
   "execution_count": null,
   "metadata": {},
   "outputs": [
    {
     "data": {
      "text/plain": [
       "237"
      ]
     },
     "execution_count": 15,
     "metadata": {},
     "output_type": "execute_result"
    }
   ],
   "source": [
    "len([x for x in y_pred if x == \"none\"])"
   ]
  },
  {
   "cell_type": "markdown",
   "metadata": {},
   "source": [
    "370 predicciones estuvieron por fuera de las respuestas aceptadas por lo que se descarta este modelo.\n"
   ]
  },
  {
   "cell_type": "markdown",
   "metadata": {},
   "source": [
    "## `llama-3.1-8B`\n"
   ]
  },
  {
   "cell_type": "code",
   "execution_count": null,
   "metadata": {},
   "outputs": [
    {
     "data": {
      "application/vnd.jupyter.widget-view+json": {
       "model_id": "176ceecdb64e48fd883e4ab6e33738a1",
       "version_major": 2,
       "version_minor": 0
      },
      "text/plain": [
       "Loading checkpoint shards:   0%|          | 0/4 [00:00<?, ?it/s]"
      ]
     },
     "metadata": {},
     "output_type": "display_data"
    }
   ],
   "source": [
    "base_model_name = \"meta-llama/Llama-3.1-8B-Instruct\"\n",
    "\n",
    "bnb_config = BitsAndBytesConfig(\n",
    "    load_in_4bit=True,\n",
    "    bnb_4bit_use_double_quant=False,\n",
    "    bnb_4bit_quant_type=\"nf4\",\n",
    "    bnb_4bit_compute_dtype=\"float16\",\n",
    ")\n",
    "\n",
    "model = AutoModelForCausalLM.from_pretrained(\n",
    "    base_model_name,\n",
    "    device_map=\"cuda\",\n",
    "    torch_dtype=\"float16\",\n",
    "    quantization_config=bnb_config,\n",
    ")\n",
    "\n",
    "model.config.use_cache = False\n",
    "model.config.pretraining_tp = 1\n",
    "\n",
    "tokenizer = AutoTokenizer.from_pretrained(base_model_name)\n",
    "\n",
    "tokenizer.pad_token_id = tokenizer.eos_token_id"
   ]
  },
  {
   "cell_type": "markdown",
   "metadata": {},
   "source": [
    "### Model Evaluation with Transfer Learning\n"
   ]
  },
  {
   "cell_type": "code",
   "execution_count": null,
   "metadata": {},
   "outputs": [],
   "source": [
    "def predict(test, model, tokenizer):\n",
    "    y_pred = []\n",
    "    categories = [\"shame\", \"sadness\", \"joy\", \"guilt\", \"fear\", \"disgust\", \"anger\"]\n",
    "\n",
    "    for i in X_test:\n",
    "        prompt = i\n",
    "        pipe = pipeline(\n",
    "            task=\"text-generation\",\n",
    "            model=model,\n",
    "            tokenizer=tokenizer,\n",
    "            max_new_tokens=2,\n",
    "            temperature=0.1,\n",
    "        )\n",
    "\n",
    "        result = pipe(prompt)\n",
    "        answer = result[0][\"generated_text\"].split(\"label:\")[-1].strip()\n",
    "\n",
    "        # Determine the predicted category\n",
    "        for category in categories:\n",
    "            if category.lower() in answer.lower():\n",
    "                y_pred.append(category)\n",
    "                break\n",
    "        else:\n",
    "            y_pred.append(\"none\")\n",
    "\n",
    "    return y_pred\n",
    "\n",
    "\n",
    "y_pred = predict(X_test, model, tokenizer)"
   ]
  },
  {
   "cell_type": "code",
   "execution_count": null,
   "metadata": {},
   "outputs": [
    {
     "data": {
      "text/plain": [
       "0"
      ]
     },
     "execution_count": 9,
     "metadata": {},
     "output_type": "execute_result"
    }
   ],
   "source": [
    "len([x for x in y_pred if x == \"none\"])"
   ]
  },
  {
   "cell_type": "code",
   "execution_count": null,
   "metadata": {},
   "outputs": [
    {
     "data": {
      "text/plain": [
       "array(['anger', 'sadness', 'shame', 'guilt', 'disgust', 'fear', 'joy'],\n",
       "      dtype=object)"
      ]
     },
     "execution_count": 14,
     "metadata": {},
     "output_type": "execute_result"
    }
   ],
   "source": []
  },
  {
   "cell_type": "code",
   "execution_count": 10,
   "metadata": {},
   "outputs": [],
   "source": [
    "from sklearn.metrics import ConfusionMatrixDisplay, confusion_matrix\n",
    "\n",
    "\n",
    "def plot_confusion_matrix(y_pred, y_true, labels):\n",
    "    cm = confusion_matrix(y_true, y_pred, normalize=\"true\")\n",
    "    _, ax = plt.subplots(figsize=(6, 6))\n",
    "    disp = ConfusionMatrixDisplay(confusion_matrix=cm, display_labels=labels)\n",
    "    disp.plot(cmap=\"Blues\", values_format=\".2f\", ax=ax, colorbar=False)\n",
    "    plt.title(\"Normalized confusion matrix\")\n",
    "    plt.show()"
   ]
  },
  {
   "cell_type": "code",
   "execution_count": null,
   "metadata": {},
   "outputs": [
    {
     "name": "stdout",
     "output_type": "stream",
     "text": [
      "Classification Report:\n",
      "              precision    recall  f1-score   support\n",
      "\n",
      "       anger       0.52      0.64      0.58       109\n",
      "     sadness       0.82      0.46      0.59       107\n",
      "       shame       0.91      0.72      0.80       109\n",
      "       guilt       0.66      0.50      0.57       106\n",
      "     disgust       0.87      0.93      0.90       109\n",
      "        fear       0.60      0.81      0.69       108\n",
      "         joy       0.53      0.66      0.59       106\n",
      "\n",
      "    accuracy                           0.67       754\n",
      "   macro avg       0.70      0.67      0.67       754\n",
      "weighted avg       0.70      0.67      0.67       754\n",
      "\n"
     ]
    },
    {
     "data": {
      "image/png": "[encoded data removed]",
      "text/plain": [
       "<Figure size 600x600 with 1 Axes>"
      ]
     },
     "metadata": {},
     "output_type": "display_data"
    },
    {
     "data": {
      "text/html": [
       "<div>\n",
       "<style scoped>\n",
       "    .dataframe tbody tr th:only-of-type {\n",
       "        vertical-align: middle;\n",
       "    }\n",
       "\n",
       "    .dataframe tbody tr th {\n",
       "        vertical-align: top;\n",
       "    }\n",
       "\n",
       "    .dataframe thead th {\n",
       "        text-align: right;\n",
       "    }\n",
       "</style>\n",
       "<table border=\"1\" class=\"dataframe\">\n",
       "  <thead>\n",
       "    <tr style=\"text-align: right;\">\n",
       "      <th></th>\n",
       "      <th>Model</th>\n",
       "      <th>Method</th>\n",
       "      <th>Test Accuracy</th>\n",
       "      <th>Test Macro Precision</th>\n",
       "      <th>Test Macro Recall</th>\n",
       "      <th>Test Macro F1-Score</th>\n",
       "    </tr>\n",
       "  </thead>\n",
       "  <tbody>\n",
       "    <tr>\n",
       "      <th>0</th>\n",
       "      <td>meta-llama/Llama-3.1-8B-Instruct</td>\n",
       "      <td>Fine Tuning</td>\n",
       "      <td>0.67374</td>\n",
       "      <td>0.700774</td>\n",
       "      <td>0.672612</td>\n",
       "      <td>0.671986</td>\n",
       "    </tr>\n",
       "  </tbody>\n",
       "</table>\n",
       "</div>"
      ],
      "text/plain": [
       "                              Model       Method  Test Accuracy  \\\n",
       "0  meta-llama/Llama-3.1-8B-Instruct  Fine Tuning        0.67374   \n",
       "\n",
       "   Test Macro Precision  Test Macro Recall  Test Macro F1-Score  \n",
       "0              0.700774           0.672612             0.671986  "
      ]
     },
     "execution_count": 15,
     "metadata": {},
     "output_type": "execute_result"
    }
   ],
   "source": [
    "# Initialize an empty list to store results\n",
    "results = []\n",
    "labels = y_test.unique()\n",
    "\n",
    "# Step 1: Classification metrics\n",
    "print(\"Classification Report:\")\n",
    "report = classification_report(\n",
    "    y_test,\n",
    "    y_pred,\n",
    "    output_dict=True,\n",
    "    target_names=df_test[\"label\"].unique(),\n",
    ")\n",
    "print(\n",
    "    classification_report(\n",
    "        y_test,\n",
    "        y_pred,\n",
    "        target_names=df_test[\"label\"].unique(),\n",
    "    )\n",
    ")\n",
    "\n",
    "# Extract important metrics from the classification report for the test set\n",
    "accuracy = report[\"accuracy\"]\n",
    "macro_precision = report[\"macro avg\"][\"precision\"]\n",
    "macro_recall = report[\"macro avg\"][\"recall\"]\n",
    "macro_f1 = report[\"macro avg\"][\"f1-score\"]\n",
    "\n",
    "# Store the metrics in the results list\n",
    "results.append(\n",
    "    {\n",
    "        \"Model\": base_model_name,\n",
    "        \"Method\": \"Fine Tuning\",\n",
    "        \"Test Accuracy\": accuracy,\n",
    "        \"Test Macro Precision\": macro_precision,\n",
    "        \"Test Macro Recall\": macro_recall,\n",
    "        \"Test Macro F1-Score\": macro_f1,\n",
    "    }\n",
    ")\n",
    "\n",
    "# Convert results to a DataFrame\n",
    "results_df = pd.DataFrame(results)\n",
    "\n",
    "plot_confusion_matrix(y_pred, y_test, labels)\n",
    "\n",
    "results_df"
   ]
  },
  {
   "cell_type": "code",
   "execution_count": 16,
   "metadata": {},
   "outputs": [],
   "source": [
    "results_df.to_excel(\"../data/model_results/meta-llama.xlsx\", index=False)"
   ]
  }
 ],
 "metadata": {
  "kernelspec": {
   "display_name": ".venv",
   "language": "python",
   "name": "python3"
  },
  "language_info": {
   "codemirror_mode": {
    "name": "ipython",
    "version": 3
   },
   "file_extension": ".py",
   "mimetype": "text/x-python",
   "name": "python",
   "nbconvert_exporter": "python",
   "pygments_lexer": "ipython3",
   "version": "3.12.6"
  }
 },
 "nbformat": 4,
 "nbformat_minor": 2
}
