{
 "cells": [
  {
   "cell_type": "code",
   "execution_count": 25,
   "metadata": {},
   "outputs": [],
   "source": [
    "import pandas as pd\n",
    "from sklearn.model_selection import train_test_split"
   ]
  },
  {
   "cell_type": "code",
   "execution_count": 26,
   "metadata": {},
   "outputs": [
    {
     "data": {
      "text/html": [
       "<div>\n",
       "<style scoped>\n",
       "    .dataframe tbody tr th:only-of-type {\n",
       "        vertical-align: middle;\n",
       "    }\n",
       "\n",
       "    .dataframe tbody tr th {\n",
       "        vertical-align: top;\n",
       "    }\n",
       "\n",
       "    .dataframe thead th {\n",
       "        text-align: right;\n",
       "    }\n",
       "</style>\n",
       "<table border=\"1\" class=\"dataframe\">\n",
       "  <thead>\n",
       "    <tr style=\"text-align: right;\">\n",
       "      <th></th>\n",
       "      <th>text</th>\n",
       "      <th>emotion</th>\n",
       "    </tr>\n",
       "  </thead>\n",
       "  <tbody>\n",
       "    <tr>\n",
       "      <th>0</th>\n",
       "      <td>when a boy tried to fool me so he would be ok ...</td>\n",
       "      <td>anger</td>\n",
       "    </tr>\n",
       "    <tr>\n",
       "      <th>1</th>\n",
       "      <td>i felt anger when i saw that i was being misle...</td>\n",
       "      <td>anger</td>\n",
       "    </tr>\n",
       "    <tr>\n",
       "      <th>2</th>\n",
       "      <td>once a friend had pushed me and i had fallen o...</td>\n",
       "      <td>anger</td>\n",
       "    </tr>\n",
       "  </tbody>\n",
       "</table>\n",
       "</div>"
      ],
      "text/plain": [
       "                                                text emotion\n",
       "0  when a boy tried to fool me so he would be ok ...   anger\n",
       "1  i felt anger when i saw that i was being misle...   anger\n",
       "2  once a friend had pushed me and i had fallen o...   anger"
      ]
     },
     "execution_count": 26,
     "metadata": {},
     "output_type": "execute_result"
    }
   ],
   "source": [
    "df = pd.read_csv(\"../data/cleaned/isear_cleaned.csv\")\n",
    "df.head(3)"
   ]
  },
  {
   "cell_type": "code",
   "execution_count": 29,
   "metadata": {},
   "outputs": [
    {
     "name": "stdout",
     "output_type": "stream",
     "text": [
      "Conteo de emociones en el conjunto de entrenamiento:\n",
      "emotion\n",
      "joy        870\n",
      "anger      869\n",
      "fear       867\n",
      "sadness    864\n",
      "disgust    856\n",
      "guilt      852\n",
      "shame      849\n",
      "Name: count, dtype: int64\n",
      "\n",
      "Conteo de emociones en el conjunto de validación:\n",
      "emotion\n",
      "joy        109\n",
      "anger      108\n",
      "sadness    108\n",
      "fear       108\n",
      "guilt      107\n",
      "disgust    107\n",
      "shame      106\n",
      "Name: count, dtype: int64\n",
      "\n",
      "Conteo de emociones en el conjunto de prueba:\n",
      "emotion\n",
      "anger      109\n",
      "fear       109\n",
      "joy        109\n",
      "sadness    108\n",
      "disgust    107\n",
      "shame      106\n",
      "guilt      106\n",
      "Name: count, dtype: int64\n",
      "Data saved in csv format\n"
     ]
    }
   ],
   "source": [
    "# Splitting the data into train (80%), validation (10%), and test (10%)\n",
    "df_train, df_temp = train_test_split(\n",
    "    df, test_size=0.2, random_state=42, stratify=df[\"emotion\"]\n",
    ")\n",
    "df_val, df_test = train_test_split(\n",
    "    df_temp, test_size=0.5, random_state=42, stratify=df_temp[\"emotion\"]\n",
    ")\n",
    "\n",
    "# Validate emotions per dataset\n",
    "print(\"Conteo de emociones en el conjunto de entrenamiento:\")\n",
    "print(df_train[\"emotion\"].value_counts())\n",
    "print(\"\\nConteo de emociones en el conjunto de validación:\")\n",
    "print(df_val[\"emotion\"].value_counts())\n",
    "print(\"\\nConteo de emociones en el conjunto de prueba:\")\n",
    "print(df_test[\"emotion\"].value_counts())\n",
    "\n",
    "# Save the datasets to parquet files\n",
    "df_train.to_csv(\"../data/data_to_model/train_data.csv\", index=False)\n",
    "df_val.to_csv(\"../data/data_to_model/val_data.csv\", index=False)\n",
    "df_test.to_csv(\"../data/data_to_model/test_data.csv\", index=False)\n",
    "\n",
    "print(\"Data saved in csv format\")"
   ]
  }
 ],
 "metadata": {
  "kernelspec": {
   "display_name": ".venv",
   "language": "python",
   "name": "python3"
  },
  "language_info": {
   "codemirror_mode": {
    "name": "ipython",
    "version": 3
   },
   "file_extension": ".py",
   "mimetype": "text/x-python",
   "name": "python",
   "nbconvert_exporter": "python",
   "pygments_lexer": "ipython3",
   "version": "3.12.2"
  }
 },
 "nbformat": 4,
 "nbformat_minor": 2
}
