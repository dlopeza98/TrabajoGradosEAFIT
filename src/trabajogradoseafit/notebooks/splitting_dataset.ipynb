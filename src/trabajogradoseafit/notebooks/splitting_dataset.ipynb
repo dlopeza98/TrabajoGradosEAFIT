{
 "cells": [
  {
   "cell_type": "code",
   "execution_count": 8,
   "metadata": {},
   "outputs": [],
   "source": [
    "import pandas as pd\n",
    "from sklearn.model_selection import train_test_split"
   ]
  },
  {
   "cell_type": "code",
   "execution_count": 9,
   "metadata": {},
   "outputs": [
    {
     "name": "stdout",
     "output_type": "stream",
     "text": [
      "Data saved in csv format\n"
     ]
    }
   ],
   "source": [
    "df = pd.read_parquet(\"../data/cleaned/isear_cleaned.parquet\")\n",
    "df.head(3)\n",
    "\n",
    "# Splitting the data into train (80%), validation (10%), and test (10%)\n",
    "df_train, df_temp = train_test_split(df, test_size=0.2, random_state=42)\n",
    "df_val, df_test = train_test_split(df_temp, test_size=0.5, random_state=42)\n",
    "\n",
    "# Save the datasets to parquet files\n",
    "df_train.to_csv(\"../data/data_to_model/train_data.csv\", index=False)\n",
    "df_val.to_csv(\"../data/data_to_model/val_data.csv\", index=False)\n",
    "df_test.to_csv(\"../data/data_to_model/test_data.csv\", index=False)\n",
    "\n",
    "print(\"Data saved in csv format\")"
   ]
  }
 ],
 "metadata": {
  "kernelspec": {
   "display_name": ".venv",
   "language": "python",
   "name": "python3"
  },
  "language_info": {
   "codemirror_mode": {
    "name": "ipython",
    "version": 3
   },
   "file_extension": ".py",
   "mimetype": "text/x-python",
   "name": "python",
   "nbconvert_exporter": "python",
   "pygments_lexer": "ipython3",
   "version": "3.12.2"
  }
 },
 "nbformat": 4,
 "nbformat_minor": 2
}
