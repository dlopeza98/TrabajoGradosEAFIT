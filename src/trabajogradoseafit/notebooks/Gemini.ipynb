{
 "cells": [
  {
   "cell_type": "markdown",
   "metadata": {},
   "source": [
    "# Gemini\n"
   ]
  },
  {
   "cell_type": "code",
   "execution_count": 2,
   "metadata": {},
   "outputs": [],
   "source": [
    "import re\n",
    "import tqdm\n",
    "import keras\n",
    "import numpy as np\n",
    "import pandas as pd\n",
    "import os\n",
    "from dotenv import load_dotenv\n",
    "\n",
    "import google.generativeai as genai\n",
    "from google.generativeai.types import HarmCategory, HarmBlockThreshold\n",
    "\n",
    "\n",
    "import seaborn as sns\n",
    "import matplotlib.pyplot as plt\n",
    "\n",
    "from keras import layers\n",
    "from matplotlib.ticker import MaxNLocator\n",
    "from sklearn.datasets import fetch_20newsgroups\n",
    "import sklearn.metrics as skmetrics"
   ]
  },
  {
   "cell_type": "markdown",
   "metadata": {},
   "source": [
    "## Dataset\n",
    "\n",
    "Se cargan los datasets de `training`, `validation` y `test` que se han utilizado en otros modelos para garantizar consistencia al momento de comparar los resultados. Cada uno de estos datasets contiene dos variables **text** y **emotion**\n"
   ]
  },
  {
   "cell_type": "code",
   "execution_count": 3,
   "metadata": {},
   "outputs": [],
   "source": [
    "df_train = pd.read_csv(\"../data/data_to_model/train_data.csv\")\n",
    "df_val = pd.read_csv(\"../data/data_to_model/val_data.csv\")\n",
    "df_test = pd.read_csv(\"../data/data_to_model/test_data.csv\")"
   ]
  },
  {
   "cell_type": "code",
   "execution_count": 4,
   "metadata": {},
   "outputs": [
    {
     "data": {
      "text/html": [
       "<div>\n",
       "<style scoped>\n",
       "    .dataframe tbody tr th:only-of-type {\n",
       "        vertical-align: middle;\n",
       "    }\n",
       "\n",
       "    .dataframe tbody tr th {\n",
       "        vertical-align: top;\n",
       "    }\n",
       "\n",
       "    .dataframe thead th {\n",
       "        text-align: right;\n",
       "    }\n",
       "</style>\n",
       "<table border=\"1\" class=\"dataframe\">\n",
       "  <thead>\n",
       "    <tr style=\"text-align: right;\">\n",
       "      <th></th>\n",
       "      <th>text</th>\n",
       "      <th>emotion</th>\n",
       "    </tr>\n",
       "  </thead>\n",
       "  <tbody>\n",
       "    <tr>\n",
       "      <th>0</th>\n",
       "      <td>when the week for exams came i got afraid as t...</td>\n",
       "      <td>fear</td>\n",
       "    </tr>\n",
       "    <tr>\n",
       "      <th>1</th>\n",
       "      <td>i was sleeping when i heard the neighbours scr...</td>\n",
       "      <td>fear</td>\n",
       "    </tr>\n",
       "    <tr>\n",
       "      <th>2</th>\n",
       "      <td>there was a time when my room looked terribly ...</td>\n",
       "      <td>shame</td>\n",
       "    </tr>\n",
       "    <tr>\n",
       "      <th>3</th>\n",
       "      <td>when my friend told me that he would come and ...</td>\n",
       "      <td>joy</td>\n",
       "    </tr>\n",
       "    <tr>\n",
       "      <th>4</th>\n",
       "      <td>when i saw the film \"johnny got his gun\" which...</td>\n",
       "      <td>sadness</td>\n",
       "    </tr>\n",
       "  </tbody>\n",
       "</table>\n",
       "</div>"
      ],
      "text/plain": [
       "                                                text  emotion\n",
       "0  when the week for exams came i got afraid as t...     fear\n",
       "1  i was sleeping when i heard the neighbours scr...     fear\n",
       "2  there was a time when my room looked terribly ...    shame\n",
       "3  when my friend told me that he would come and ...      joy\n",
       "4  when i saw the film \"johnny got his gun\" which...  sadness"
      ]
     },
     "execution_count": 4,
     "metadata": {},
     "output_type": "execute_result"
    }
   ],
   "source": [
    "df_train.head()"
   ]
  },
  {
   "cell_type": "code",
   "execution_count": 5,
   "metadata": {},
   "outputs": [
    {
     "data": {
      "text/plain": [
       "\"i was sleeping when i heard the neighbours screaming, i peeped through the window and saw a thief  trying to enter my neighbour's house\""
      ]
     },
     "execution_count": 5,
     "metadata": {},
     "output_type": "execute_result"
    }
   ],
   "source": [
    "df_train.text[1]"
   ]
  },
  {
   "cell_type": "markdown",
   "metadata": {},
   "source": [
    "## Gemini Client Configuration\n",
    "\n",
    "En este paso se configura el cliente con el API Key previamente generada en https://aistudio.google.com/app/apikey\n",
    "\n",
    "Es importante mencionar que el uso de esta API consume créditos (dinero), por lo tanto, no se hace pública y para reproducir el Notebook deben configurar su propia API Key en el archivo `.env` con el siguiente formato:\n",
    "\n",
    "GEMINI_API = xxxxxxxxxxxx\n"
   ]
  },
  {
   "cell_type": "code",
   "execution_count": 6,
   "metadata": {},
   "outputs": [
    {
     "data": {
      "text/plain": [
       "True"
      ]
     },
     "execution_count": 6,
     "metadata": {},
     "output_type": "execute_result"
    }
   ],
   "source": [
    "load_dotenv()"
   ]
  },
  {
   "cell_type": "code",
   "execution_count": 7,
   "metadata": {},
   "outputs": [],
   "source": [
    "genai.configure(api_key=os.getenv(\"GEMINI_API\"))"
   ]
  },
  {
   "cell_type": "markdown",
   "metadata": {},
   "source": [
    "## Modelos Disponibles\n",
    "\n",
    "A la fecha de este desarrollo, se encuentran disponbiles los siguientes modelos con **salida de texto** :`Gemini 1.5-flash`, `Gemini 1.5-pro` y `gemini-1.0-pro` (https://ai.google.dev/gemini-api/docs/models/gemini?hl=es-419)\n"
   ]
  },
  {
   "cell_type": "code",
   "execution_count": 8,
   "metadata": {},
   "outputs": [
    {
     "name": "stdout",
     "output_type": "stream",
     "text": [
      "models/chat-bison-001\n",
      "models/text-bison-001\n",
      "models/embedding-gecko-001\n",
      "models/gemini-1.0-pro-latest\n",
      "models/gemini-1.0-pro\n",
      "models/gemini-pro\n",
      "models/gemini-1.0-pro-001\n",
      "models/gemini-1.0-pro-vision-latest\n",
      "models/gemini-pro-vision\n",
      "models/gemini-1.5-pro-latest\n",
      "models/gemini-1.5-pro-001\n",
      "models/gemini-1.5-pro-002\n",
      "models/gemini-1.5-pro\n",
      "models/gemini-1.5-pro-exp-0801\n",
      "models/gemini-1.5-pro-exp-0827\n",
      "models/gemini-1.5-flash-latest\n",
      "models/gemini-1.5-flash-001\n",
      "models/gemini-1.5-flash-001-tuning\n",
      "models/gemini-1.5-flash\n",
      "models/gemini-1.5-flash-exp-0827\n",
      "models/gemini-1.5-flash-002\n",
      "models/gemini-1.5-flash-8b\n",
      "models/gemini-1.5-flash-8b-001\n",
      "models/gemini-1.5-flash-8b-latest\n",
      "models/gemini-1.5-flash-8b-exp-0827\n",
      "models/gemini-1.5-flash-8b-exp-0924\n",
      "models/embedding-001\n",
      "models/text-embedding-004\n",
      "models/aqa\n"
     ]
    }
   ],
   "source": [
    "for m in genai.list_models():\n",
    "    print(m.name)"
   ]
  },
  {
   "cell_type": "markdown",
   "metadata": {},
   "source": [
    "## Transfer Learning\n",
    "\n",
    "Los LLM han sido entrenados con enormes volumenes de datos y han guardado en sus parametros todo lo aprendido en este proceso. El proceso de Transfer Learning consiste en utilizar dichos modelos pre entrenados con sus parámetros para tareas específicas sin realizar entrenamientos adicionales.\n",
    "\n",
    "En este caso solo se utiliza el conjunto de datos de pruebas para poder comparar las métricas con el método de fine-tuning\n"
   ]
  },
  {
   "cell_type": "markdown",
   "metadata": {},
   "source": [
    "### `gemini-1.5-flash`\n",
    "\n",
    "De acuerdo con la documentación del modelo (https://ai.google.dev/gemini-api/docs/models/gemini?hl=es-419#gemini-1.5-flash), se pueden realizar diferentes configuraciones, entre ella es muy importante la configuración a los filtros de seguridad, dado que Gemini bloquea por defecto contenido que tenga alta probabilidad de `Harassment`, `Hate`, `Sexuality Explicit` or `Dangerous Content`. En nuestro caso de estudio, algunos de los textos podrían ser bloqueados por caer en dichas categorias, por lo que se debe aumentar la tolerancia en las configuraciones.\n",
    "\n",
    "Más información sobre configuraciones de seguridad en:\n",
    "\n",
    "- https://ai.google.dev/gemini-api/docs/safety-settings?hl=es-419\n",
    "- https://ai.google.dev/api/generate-content?hl=es-419#v1beta.HarmCategory\n"
   ]
  },
  {
   "cell_type": "code",
   "execution_count": 9,
   "metadata": {},
   "outputs": [
    {
     "name": "stdout",
     "output_type": "stream",
     "text": [
      "Text:  i was sleeping when i heard the neighbours screaming, i peeped through the window and saw a thief  trying to enter my neighbour's house\n",
      "Response:  fear\n",
      "True emotion:  fear\n"
     ]
    }
   ],
   "source": [
    "# Example of use with 1 text\n",
    "\n",
    "text = df_train.text[1]\n",
    "print(\"Text: \", text)\n",
    "\n",
    "real_emotion = df_train.emotion[1]\n",
    "\n",
    "system_message = \"\"\"\n",
    "You are an advanced assistant specialized in analyzing and detecting emotions in short text. \n",
    "You will be provided with a text, and your task is to classify it into **exactly one emotion** from the following list:\n",
    "[shame, sadness, joy, guilt, fear, disgust, anger].\n",
    "\n",
    "**Important Rules:**\n",
    "1. You must return only **one** of the emotions from the list without aditional text.\n",
    "2. Do **not** create or infer any emotions outside the list.\n",
    "3. If the text does not match any emotion exactly, return the closest emotion from the list. \n",
    "4. Do not return aditional text, only **exactly one emotion** of the list.\n",
    "\n",
    "For example:\n",
    "\n",
    "Text: when the week for exams came I got afraid as to how I would tackle the questions.\n",
    "Response: fear\n",
    "\"\"\"\n",
    "\n",
    "# Create the model\n",
    "generation_config = {\n",
    "    \"temperature\": 0,\n",
    "    # \"top_p\": 0.95,\n",
    "    # \"top_k\": 64,\n",
    "    \"max_output_tokens\": 3,\n",
    "    # \"response_mime_type\": \"text/plain\",\n",
    "}\n",
    "\n",
    "safety_config = {\n",
    "    \"HARASSMENT\": \"block_none\",\n",
    "    \"HATE_SPEECH\": \"block_none\",\n",
    "    \"HATE\": \"block_none\",\n",
    "    \"SEXUALLY_EXPLICIT\": \"block_none\",\n",
    "    \"DANGEROUS\": \"block_none\",\n",
    "}\n",
    "\n",
    "model_version = \"gemini-1.5-flash\"\n",
    "\n",
    "model = genai.GenerativeModel(\n",
    "    model_name=model_version,\n",
    "    generation_config=generation_config,\n",
    "    safety_settings=safety_config,\n",
    "    system_instruction=system_message,\n",
    ")\n",
    "\n",
    "response = model.generate_content(text)\n",
    "\n",
    "\n",
    "print(\"Response: \", response.text.strip().lower())\n",
    "\n",
    "print(\"True emotion: \", real_emotion)"
   ]
  },
  {
   "cell_type": "markdown",
   "metadata": {},
   "source": [
    "Se construye una función para aplicar el contenido de cada celda de la columna \"text\" para pedecir la emoción, el filtro del API de Gemini impide que algunos textos no puedan ser procesados, por lo que se les agisna el valor de \"unknown\".\n"
   ]
  },
  {
   "cell_type": "code",
   "execution_count": 10,
   "metadata": {},
   "outputs": [],
   "source": [
    "def classify_emotion(text):\n",
    "    try:\n",
    "        response = model.generate_content(text)\n",
    "        # Intentar acceder solo si `Part` es válido\n",
    "        if response.text:\n",
    "            return response.text.strip().lower()\n",
    "        else:\n",
    "            return \"unknown\"\n",
    "    except ValueError as e:\n",
    "        # Captura el error y devuelve un valor predeterminado\n",
    "        print(f\"Error processing text: {text}\\nError: {e}\")\n",
    "        return \"unknown\"\n",
    "\n",
    "\n",
    "df_test[\"predicted_emotion\"] = df_test[\"text\"].apply(classify_emotion)\n"
   ]
  },
  {
   "cell_type": "code",
   "execution_count": 11,
   "metadata": {},
   "outputs": [
    {
     "data": {
      "text/plain": [
       "array(['anger', 'sadness', 'shame', 'guilt', 'disgust', 'fear', 'joy'],\n",
       "      dtype=object)"
      ]
     },
     "execution_count": 11,
     "metadata": {},
     "output_type": "execute_result"
    }
   ],
   "source": [
    "df_test.predicted_emotion.unique()"
   ]
  },
  {
   "cell_type": "code",
   "execution_count": 12,
   "metadata": {},
   "outputs": [
    {
     "data": {
      "text/html": [
       "<div>\n",
       "<style scoped>\n",
       "    .dataframe tbody tr th:only-of-type {\n",
       "        vertical-align: middle;\n",
       "    }\n",
       "\n",
       "    .dataframe tbody tr th {\n",
       "        vertical-align: top;\n",
       "    }\n",
       "\n",
       "    .dataframe thead th {\n",
       "        text-align: right;\n",
       "    }\n",
       "</style>\n",
       "<table border=\"1\" class=\"dataframe\">\n",
       "  <thead>\n",
       "    <tr style=\"text-align: right;\">\n",
       "      <th></th>\n",
       "      <th>text</th>\n",
       "      <th>emotion</th>\n",
       "      <th>predicted_emotion</th>\n",
       "    </tr>\n",
       "  </thead>\n",
       "  <tbody>\n",
       "    <tr>\n",
       "      <th>0</th>\n",
       "      <td>when a friend carelessly broke and object in m...</td>\n",
       "      <td>anger</td>\n",
       "      <td>anger</td>\n",
       "    </tr>\n",
       "    <tr>\n",
       "      <th>1</th>\n",
       "      <td>when i felt powerless to help the poor or when...</td>\n",
       "      <td>sadness</td>\n",
       "      <td>sadness</td>\n",
       "    </tr>\n",
       "    <tr>\n",
       "      <th>2</th>\n",
       "      <td>one of my best friends'fianct broke off the re...</td>\n",
       "      <td>shame</td>\n",
       "      <td>shame</td>\n",
       "    </tr>\n",
       "    <tr>\n",
       "      <th>3</th>\n",
       "      <td>i hadn't been at my parent's place for a long ...</td>\n",
       "      <td>sadness</td>\n",
       "      <td>sadness</td>\n",
       "    </tr>\n",
       "    <tr>\n",
       "      <th>4</th>\n",
       "      <td>when i didn't notify someone that he was summo...</td>\n",
       "      <td>guilt</td>\n",
       "      <td>guilt</td>\n",
       "    </tr>\n",
       "  </tbody>\n",
       "</table>\n",
       "</div>"
      ],
      "text/plain": [
       "                                                text  emotion  \\\n",
       "0  when a friend carelessly broke and object in m...    anger   \n",
       "1  when i felt powerless to help the poor or when...  sadness   \n",
       "2  one of my best friends'fianct broke off the re...    shame   \n",
       "3  i hadn't been at my parent's place for a long ...  sadness   \n",
       "4  when i didn't notify someone that he was summo...    guilt   \n",
       "\n",
       "  predicted_emotion  \n",
       "0             anger  \n",
       "1           sadness  \n",
       "2             shame  \n",
       "3           sadness  \n",
       "4             guilt  "
      ]
     },
     "execution_count": 12,
     "metadata": {},
     "output_type": "execute_result"
    }
   ],
   "source": [
    "df_test.head()"
   ]
  },
  {
   "cell_type": "markdown",
   "metadata": {},
   "source": [
    "Hay pocas observaciones que no superaron el filtro se seguridad. Dado que es una cantidad poco representativa respecto al total del conjunto de datos (756 observaciones), se deciden eliminar de la muestra.\n"
   ]
  },
  {
   "cell_type": "markdown",
   "metadata": {},
   "source": [
    "#### Evaluación de rendimiento\n"
   ]
  },
  {
   "cell_type": "code",
   "execution_count": 13,
   "metadata": {},
   "outputs": [],
   "source": [
    "from sklearn.metrics import (\n",
    "    ConfusionMatrixDisplay,\n",
    "    confusion_matrix,\n",
    "    classification_report,\n",
    ")\n",
    "import matplotlib.pyplot as plt\n",
    "import numpy as np\n",
    "import pandas as pd\n",
    "import seaborn as sns\n",
    "\n",
    "\n",
    "def plot_confusion_matrix(y_pred, y_true, labels):\n",
    "    cm = confusion_matrix(y_true, y_pred, normalize=\"true\")\n",
    "    _, ax = plt.subplots(figsize=(6, 6))\n",
    "    disp = ConfusionMatrixDisplay(confusion_matrix=cm, display_labels=labels)\n",
    "    disp.plot(cmap=\"Blues\", values_format=\".2f\", ax=ax, colorbar=False)\n",
    "    plt.title(\"Normalized confusion matrix\")\n",
    "    plt.show()"
   ]
  },
  {
   "cell_type": "code",
   "execution_count": 14,
   "metadata": {},
   "outputs": [
    {
     "name": "stdout",
     "output_type": "stream",
     "text": [
      "Classification Report:\n",
      "              precision    recall  f1-score   support\n",
      "\n",
      "       anger       0.68      0.71      0.69       109\n",
      "     sadness       0.85      0.56      0.67       107\n",
      "       shame       0.91      0.88      0.89       109\n",
      "       guilt       0.72      0.74      0.73       106\n",
      "     disgust       0.96      0.94      0.95       109\n",
      "        fear       0.65      0.88      0.75       108\n",
      "         joy       0.69      0.67      0.68       106\n",
      "\n",
      "    accuracy                           0.77       754\n",
      "   macro avg       0.78      0.77      0.77       754\n",
      "weighted avg       0.78      0.77      0.77       754\n",
      "\n"
     ]
    },
    {
     "data": {
      "image/png": "[encoded data removed]",
      "text/plain": [
       "<Figure size 600x600 with 1 Axes>"
      ]
     },
     "metadata": {},
     "output_type": "display_data"
    },
    {
     "data": {
      "text/html": [
       "<div>\n",
       "<style scoped>\n",
       "    .dataframe tbody tr th:only-of-type {\n",
       "        vertical-align: middle;\n",
       "    }\n",
       "\n",
       "    .dataframe tbody tr th {\n",
       "        vertical-align: top;\n",
       "    }\n",
       "\n",
       "    .dataframe thead th {\n",
       "        text-align: right;\n",
       "    }\n",
       "</style>\n",
       "<table border=\"1\" class=\"dataframe\">\n",
       "  <thead>\n",
       "    <tr style=\"text-align: right;\">\n",
       "      <th></th>\n",
       "      <th>Model</th>\n",
       "      <th>Method</th>\n",
       "      <th>Test Accuracy</th>\n",
       "      <th>Test Macro Precision</th>\n",
       "      <th>Test Macro Recall</th>\n",
       "      <th>Test Macro F1-Score</th>\n",
       "    </tr>\n",
       "  </thead>\n",
       "  <tbody>\n",
       "    <tr>\n",
       "      <th>0</th>\n",
       "      <td>gemini-1.5-flash</td>\n",
       "      <td>Transfer Learning</td>\n",
       "      <td>0.769231</td>\n",
       "      <td>0.77957</td>\n",
       "      <td>0.768307</td>\n",
       "      <td>0.767287</td>\n",
       "    </tr>\n",
       "  </tbody>\n",
       "</table>\n",
       "</div>"
      ],
      "text/plain": [
       "              Model             Method  Test Accuracy  Test Macro Precision  \\\n",
       "0  gemini-1.5-flash  Transfer Learning       0.769231               0.77957   \n",
       "\n",
       "   Test Macro Recall  Test Macro F1-Score  \n",
       "0           0.768307             0.767287  "
      ]
     },
     "execution_count": 14,
     "metadata": {},
     "output_type": "execute_result"
    }
   ],
   "source": [
    "# Initialize an empty list to store results\n",
    "results = []\n",
    "\n",
    "# Step 1: Classification metrics\n",
    "print(\"Classification Report:\")\n",
    "report = classification_report(\n",
    "    df_test[\"emotion\"],\n",
    "    df_test[\"predicted_emotion\"],\n",
    "    output_dict=True,\n",
    "    target_names=df_test[\"emotion\"].unique(),\n",
    ")\n",
    "print(\n",
    "    classification_report(\n",
    "        df_test[\"emotion\"],\n",
    "        df_test[\"predicted_emotion\"],\n",
    "        target_names=df_test[\"emotion\"].unique(),\n",
    "    )\n",
    ")\n",
    "\n",
    "# Extract important metrics from the classification report for the test set\n",
    "accuracy = report[\"accuracy\"]\n",
    "macro_precision = report[\"macro avg\"][\"precision\"]\n",
    "macro_recall = report[\"macro avg\"][\"recall\"]\n",
    "macro_f1 = report[\"macro avg\"][\"f1-score\"]\n",
    "\n",
    "# Store the metrics in the results list\n",
    "results.append(\n",
    "    {\n",
    "        \"Model\": model_version,\n",
    "        \"Method\": \"Transfer Learning\",\n",
    "        \"Test Accuracy\": accuracy,\n",
    "        \"Test Macro Precision\": macro_precision,\n",
    "        \"Test Macro Recall\": macro_recall,\n",
    "        \"Test Macro F1-Score\": macro_f1,\n",
    "    }\n",
    ")\n",
    "\n",
    "# Convert results to a DataFrame\n",
    "results_df_tl = pd.DataFrame(results)\n",
    "\n",
    "\n",
    "plot_confusion_matrix(\n",
    "    df_test[\"predicted_emotion\"], df_test[\"emotion\"], df_test[\"emotion\"].unique()\n",
    ")\n",
    "\n",
    "results_df_tl"
   ]
  },
  {
   "cell_type": "markdown",
   "metadata": {},
   "source": [
    "### `gemini-1.5-flash-latest`\n"
   ]
  },
  {
   "cell_type": "code",
   "execution_count": 15,
   "metadata": {},
   "outputs": [
    {
     "data": {
      "text/html": [
       "<div>\n",
       "<style scoped>\n",
       "    .dataframe tbody tr th:only-of-type {\n",
       "        vertical-align: middle;\n",
       "    }\n",
       "\n",
       "    .dataframe tbody tr th {\n",
       "        vertical-align: top;\n",
       "    }\n",
       "\n",
       "    .dataframe thead th {\n",
       "        text-align: right;\n",
       "    }\n",
       "</style>\n",
       "<table border=\"1\" class=\"dataframe\">\n",
       "  <thead>\n",
       "    <tr style=\"text-align: right;\">\n",
       "      <th></th>\n",
       "      <th>text</th>\n",
       "      <th>emotion</th>\n",
       "      <th>predicted_emotion</th>\n",
       "    </tr>\n",
       "  </thead>\n",
       "  <tbody>\n",
       "    <tr>\n",
       "      <th>0</th>\n",
       "      <td>when a friend carelessly broke and object in m...</td>\n",
       "      <td>anger</td>\n",
       "      <td>anger</td>\n",
       "    </tr>\n",
       "    <tr>\n",
       "      <th>1</th>\n",
       "      <td>when i felt powerless to help the poor or when...</td>\n",
       "      <td>sadness</td>\n",
       "      <td>sadness</td>\n",
       "    </tr>\n",
       "    <tr>\n",
       "      <th>2</th>\n",
       "      <td>one of my best friends'fianct broke off the re...</td>\n",
       "      <td>shame</td>\n",
       "      <td>shame</td>\n",
       "    </tr>\n",
       "    <tr>\n",
       "      <th>3</th>\n",
       "      <td>i hadn't been at my parent's place for a long ...</td>\n",
       "      <td>sadness</td>\n",
       "      <td>sadness</td>\n",
       "    </tr>\n",
       "    <tr>\n",
       "      <th>4</th>\n",
       "      <td>when i didn't notify someone that he was summo...</td>\n",
       "      <td>guilt</td>\n",
       "      <td>guilt</td>\n",
       "    </tr>\n",
       "  </tbody>\n",
       "</table>\n",
       "</div>"
      ],
      "text/plain": [
       "                                                text  emotion  \\\n",
       "0  when a friend carelessly broke and object in m...    anger   \n",
       "1  when i felt powerless to help the poor or when...  sadness   \n",
       "2  one of my best friends'fianct broke off the re...    shame   \n",
       "3  i hadn't been at my parent's place for a long ...  sadness   \n",
       "4  when i didn't notify someone that he was summo...    guilt   \n",
       "\n",
       "  predicted_emotion  \n",
       "0             anger  \n",
       "1           sadness  \n",
       "2             shame  \n",
       "3           sadness  \n",
       "4             guilt  "
      ]
     },
     "execution_count": 15,
     "metadata": {},
     "output_type": "execute_result"
    }
   ],
   "source": [
    "model_version = \"gemini-1.5-flash-latest\"\n",
    "\n",
    "\n",
    "system_message = \"\"\"\n",
    "You are an advanced assistant specialized in analyzing and detecting emotions in short text. \n",
    "You will be provided with a text, and your task is to classify it into **exactly one emotion** from the following list:\n",
    "[shame, sadness, joy, guilt, fear, disgust, anger].\n",
    "\n",
    "**Important Rules:**\n",
    "1. You must return only **one** of the emotions from the list without aditional text.\n",
    "2. Do **not** create or infer any emotions outside the list.\n",
    "3. If the text does not match any emotion exactly, return the closest emotion from the list. \n",
    "4. Do not return aditional text, only **exactly one emotion** of the list.\n",
    "\n",
    "For example:\n",
    "\n",
    "Text: when the week for exams came I got afraid as to how I would tackle the questions.\n",
    "Response: fear\n",
    "\"\"\"\n",
    "\n",
    "# Create the model\n",
    "generation_config = {\n",
    "    \"temperature\": 0,\n",
    "    # \"top_p\": 0.95,\n",
    "    # \"top_k\": 64,\n",
    "    \"max_output_tokens\": 3,\n",
    "    # \"response_mime_type\": \"text/plain\",\n",
    "}\n",
    "\n",
    "safety_config = {\n",
    "    \"HARASSMENT\": \"block_none\",\n",
    "    \"HATE_SPEECH\": \"block_none\",\n",
    "    \"HATE\": \"block_none\",\n",
    "    \"SEXUALLY_EXPLICIT\": \"block_none\",\n",
    "    \"DANGEROUS\": \"block_none\",\n",
    "}\n",
    "\n",
    "model = genai.GenerativeModel(\n",
    "    model_name=model_version,\n",
    "    generation_config=generation_config,\n",
    "    safety_settings=safety_config,\n",
    "    system_instruction=system_message,\n",
    ")\n",
    "\n",
    "\n",
    "df_test[\"predicted_emotion\"] = df_test[\"text\"].apply(classify_emotion)\n",
    "df_test.head()"
   ]
  },
  {
   "cell_type": "code",
   "execution_count": 16,
   "metadata": {},
   "outputs": [
    {
     "name": "stdout",
     "output_type": "stream",
     "text": [
      "Classification Report:\n",
      "              precision    recall  f1-score   support\n",
      "\n",
      "       anger       0.68      0.71      0.69       109\n",
      "     sadness       0.85      0.56      0.67       107\n",
      "       shame       0.91      0.88      0.89       109\n",
      "       guilt       0.72      0.74      0.73       106\n",
      "     disgust       0.96      0.94      0.95       109\n",
      "        fear       0.65      0.88      0.75       108\n",
      "         joy       0.69      0.67      0.68       106\n",
      "\n",
      "    accuracy                           0.77       754\n",
      "   macro avg       0.78      0.77      0.77       754\n",
      "weighted avg       0.78      0.77      0.77       754\n",
      "\n"
     ]
    },
    {
     "data": {
      "image/png": "[encoded data removed]",
      "text/plain": [
       "<Figure size 600x600 with 1 Axes>"
      ]
     },
     "metadata": {},
     "output_type": "display_data"
    },
    {
     "data": {
      "text/html": [
       "<div>\n",
       "<style scoped>\n",
       "    .dataframe tbody tr th:only-of-type {\n",
       "        vertical-align: middle;\n",
       "    }\n",
       "\n",
       "    .dataframe tbody tr th {\n",
       "        vertical-align: top;\n",
       "    }\n",
       "\n",
       "    .dataframe thead th {\n",
       "        text-align: right;\n",
       "    }\n",
       "</style>\n",
       "<table border=\"1\" class=\"dataframe\">\n",
       "  <thead>\n",
       "    <tr style=\"text-align: right;\">\n",
       "      <th></th>\n",
       "      <th>Model</th>\n",
       "      <th>Method</th>\n",
       "      <th>Test Accuracy</th>\n",
       "      <th>Test Macro Precision</th>\n",
       "      <th>Test Macro Recall</th>\n",
       "      <th>Test Macro F1-Score</th>\n",
       "    </tr>\n",
       "  </thead>\n",
       "  <tbody>\n",
       "    <tr>\n",
       "      <th>0</th>\n",
       "      <td>gemini-1.5-flash</td>\n",
       "      <td>Transfer Learning</td>\n",
       "      <td>0.769231</td>\n",
       "      <td>0.77957</td>\n",
       "      <td>0.768307</td>\n",
       "      <td>0.767287</td>\n",
       "    </tr>\n",
       "    <tr>\n",
       "      <th>0</th>\n",
       "      <td>gemini-1.5-flash-latest</td>\n",
       "      <td>Transfer Learning</td>\n",
       "      <td>0.769231</td>\n",
       "      <td>0.77957</td>\n",
       "      <td>0.768307</td>\n",
       "      <td>0.767287</td>\n",
       "    </tr>\n",
       "  </tbody>\n",
       "</table>\n",
       "</div>"
      ],
      "text/plain": [
       "                     Model             Method  Test Accuracy  \\\n",
       "0         gemini-1.5-flash  Transfer Learning       0.769231   \n",
       "0  gemini-1.5-flash-latest  Transfer Learning       0.769231   \n",
       "\n",
       "   Test Macro Precision  Test Macro Recall  Test Macro F1-Score  \n",
       "0               0.77957           0.768307             0.767287  \n",
       "0               0.77957           0.768307             0.767287  "
      ]
     },
     "execution_count": 16,
     "metadata": {},
     "output_type": "execute_result"
    }
   ],
   "source": [
    "# Initialize an empty list to store results\n",
    "results = []\n",
    "\n",
    "# Step 1: Classification metrics\n",
    "print(\"Classification Report:\")\n",
    "report = classification_report(\n",
    "    df_test[\"emotion\"],\n",
    "    df_test[\"predicted_emotion\"],\n",
    "    output_dict=True,\n",
    "    target_names=df_test[\"emotion\"].unique(),\n",
    ")\n",
    "print(\n",
    "    classification_report(\n",
    "        df_test[\"emotion\"],\n",
    "        df_test[\"predicted_emotion\"],\n",
    "        target_names=df_test[\"emotion\"].unique(),\n",
    "    )\n",
    ")\n",
    "\n",
    "# Extract important metrics from the classification report for the test set\n",
    "accuracy = report[\"accuracy\"]\n",
    "macro_precision = report[\"macro avg\"][\"precision\"]\n",
    "macro_recall = report[\"macro avg\"][\"recall\"]\n",
    "macro_f1 = report[\"macro avg\"][\"f1-score\"]\n",
    "\n",
    "# Store the metrics in the results list\n",
    "results.append(\n",
    "    {\n",
    "        \"Model\": model_version,\n",
    "        \"Method\": \"Transfer Learning\",\n",
    "        \"Test Accuracy\": accuracy,\n",
    "        \"Test Macro Precision\": macro_precision,\n",
    "        \"Test Macro Recall\": macro_recall,\n",
    "        \"Test Macro F1-Score\": macro_f1,\n",
    "    }\n",
    ")\n",
    "\n",
    "\n",
    "plot_confusion_matrix(\n",
    "    df_test[\"predicted_emotion\"], df_test[\"emotion\"], df_test[\"emotion\"].unique()\n",
    ")\n",
    "\n",
    "\n",
    "results_df = pd.concat([results_df_tl, pd.DataFrame(results)])\n",
    "\n",
    "results_df"
   ]
  },
  {
   "cell_type": "markdown",
   "metadata": {},
   "source": [
    "### `gemini-1.5-pro-latest`\n"
   ]
  },
  {
   "cell_type": "code",
   "execution_count": 17,
   "metadata": {},
   "outputs": [
    {
     "data": {
      "text/html": [
       "<div>\n",
       "<style scoped>\n",
       "    .dataframe tbody tr th:only-of-type {\n",
       "        vertical-align: middle;\n",
       "    }\n",
       "\n",
       "    .dataframe tbody tr th {\n",
       "        vertical-align: top;\n",
       "    }\n",
       "\n",
       "    .dataframe thead th {\n",
       "        text-align: right;\n",
       "    }\n",
       "</style>\n",
       "<table border=\"1\" class=\"dataframe\">\n",
       "  <thead>\n",
       "    <tr style=\"text-align: right;\">\n",
       "      <th></th>\n",
       "      <th>text</th>\n",
       "      <th>emotion</th>\n",
       "      <th>predicted_emotion</th>\n",
       "    </tr>\n",
       "  </thead>\n",
       "  <tbody>\n",
       "    <tr>\n",
       "      <th>0</th>\n",
       "      <td>when a friend carelessly broke and object in m...</td>\n",
       "      <td>anger</td>\n",
       "      <td>anger</td>\n",
       "    </tr>\n",
       "    <tr>\n",
       "      <th>1</th>\n",
       "      <td>when i felt powerless to help the poor or when...</td>\n",
       "      <td>sadness</td>\n",
       "      <td>sadness</td>\n",
       "    </tr>\n",
       "    <tr>\n",
       "      <th>2</th>\n",
       "      <td>one of my best friends'fianct broke off the re...</td>\n",
       "      <td>shame</td>\n",
       "      <td>shame</td>\n",
       "    </tr>\n",
       "    <tr>\n",
       "      <th>3</th>\n",
       "      <td>i hadn't been at my parent's place for a long ...</td>\n",
       "      <td>sadness</td>\n",
       "      <td>sadness</td>\n",
       "    </tr>\n",
       "    <tr>\n",
       "      <th>4</th>\n",
       "      <td>when i didn't notify someone that he was summo...</td>\n",
       "      <td>guilt</td>\n",
       "      <td>guilt</td>\n",
       "    </tr>\n",
       "  </tbody>\n",
       "</table>\n",
       "</div>"
      ],
      "text/plain": [
       "                                                text  emotion  \\\n",
       "0  when a friend carelessly broke and object in m...    anger   \n",
       "1  when i felt powerless to help the poor or when...  sadness   \n",
       "2  one of my best friends'fianct broke off the re...    shame   \n",
       "3  i hadn't been at my parent's place for a long ...  sadness   \n",
       "4  when i didn't notify someone that he was summo...    guilt   \n",
       "\n",
       "  predicted_emotion  \n",
       "0             anger  \n",
       "1           sadness  \n",
       "2             shame  \n",
       "3           sadness  \n",
       "4             guilt  "
      ]
     },
     "execution_count": 17,
     "metadata": {},
     "output_type": "execute_result"
    }
   ],
   "source": [
    "model_version = \"gemini-1.5-pro-latest\"\n",
    "\n",
    "\n",
    "system_message = \"\"\"\n",
    "You are an advanced assistant specialized in analyzing and detecting emotions in short text. \n",
    "You will be provided with a text, and your task is to classify it into **exactly one emotion** from the following list:\n",
    "[shame, sadness, joy, guilt, fear, disgust, anger].\n",
    "\n",
    "**Important Rules:**\n",
    "1. You must return only **one** of the emotions from the list without aditional text.\n",
    "2. Do **not** create or infer any emotions outside the list.\n",
    "3. If the text does not match any emotion exactly, return the closest emotion from the list. \n",
    "4. Do not return aditional text, only **exactly one emotion** of the list.\n",
    "\n",
    "For example:\n",
    "\n",
    "Text: when the week for exams came I got afraid as to how I would tackle the questions.\n",
    "Response: fear\n",
    "\"\"\"\n",
    "\n",
    "# Create the model\n",
    "generation_config = {\n",
    "    \"temperature\": 0,\n",
    "    # \"top_p\": 0.95,\n",
    "    # \"top_k\": 64,\n",
    "    \"max_output_tokens\": 3,\n",
    "    # \"response_mime_type\": \"text/plain\",\n",
    "}\n",
    "\n",
    "safety_config = {\n",
    "    \"HARASSMENT\": \"block_none\",\n",
    "    \"HATE_SPEECH\": \"block_none\",\n",
    "    \"HATE\": \"block_none\",\n",
    "    \"SEXUALLY_EXPLICIT\": \"block_none\",\n",
    "    \"DANGEROUS\": \"block_none\",\n",
    "}\n",
    "\n",
    "model = genai.GenerativeModel(\n",
    "    model_name=model_version,\n",
    "    generation_config=generation_config,\n",
    "    safety_settings=safety_config,\n",
    "    system_instruction=system_message,\n",
    ")\n",
    "\n",
    "\n",
    "df_test[\"predicted_emotion\"] = df_test[\"text\"].apply(classify_emotion)\n",
    "df_test.head()"
   ]
  },
  {
   "cell_type": "code",
   "execution_count": 18,
   "metadata": {},
   "outputs": [
    {
     "name": "stdout",
     "output_type": "stream",
     "text": [
      "Classification Report:\n",
      "              precision    recall  f1-score   support\n",
      "\n",
      "       anger       0.66      0.60      0.62       109\n",
      "     sadness       0.81      0.56      0.66       107\n",
      "       shame       0.82      0.90      0.86       109\n",
      "       guilt       0.78      0.75      0.76       106\n",
      "     disgust       0.96      0.99      0.97       109\n",
      "        fear       0.64      0.90      0.75       108\n",
      "         joy       0.75      0.69      0.72       106\n",
      "\n",
      "    accuracy                           0.77       754\n",
      "   macro avg       0.77      0.77      0.76       754\n",
      "weighted avg       0.77      0.77      0.77       754\n",
      "\n"
     ]
    },
    {
     "data": {
      "image/png": "[encoded data removed]",
      "text/plain": [
       "<Figure size 600x600 with 1 Axes>"
      ]
     },
     "metadata": {},
     "output_type": "display_data"
    },
    {
     "data": {
      "text/html": [
       "<div>\n",
       "<style scoped>\n",
       "    .dataframe tbody tr th:only-of-type {\n",
       "        vertical-align: middle;\n",
       "    }\n",
       "\n",
       "    .dataframe tbody tr th {\n",
       "        vertical-align: top;\n",
       "    }\n",
       "\n",
       "    .dataframe thead th {\n",
       "        text-align: right;\n",
       "    }\n",
       "</style>\n",
       "<table border=\"1\" class=\"dataframe\">\n",
       "  <thead>\n",
       "    <tr style=\"text-align: right;\">\n",
       "      <th></th>\n",
       "      <th>Model</th>\n",
       "      <th>Method</th>\n",
       "      <th>Test Accuracy</th>\n",
       "      <th>Test Macro Precision</th>\n",
       "      <th>Test Macro Recall</th>\n",
       "      <th>Test Macro F1-Score</th>\n",
       "    </tr>\n",
       "  </thead>\n",
       "  <tbody>\n",
       "    <tr>\n",
       "      <th>0</th>\n",
       "      <td>gemini-1.5-flash</td>\n",
       "      <td>Transfer Learning</td>\n",
       "      <td>0.769231</td>\n",
       "      <td>0.779570</td>\n",
       "      <td>0.768307</td>\n",
       "      <td>0.767287</td>\n",
       "    </tr>\n",
       "    <tr>\n",
       "      <th>0</th>\n",
       "      <td>gemini-1.5-flash-latest</td>\n",
       "      <td>Transfer Learning</td>\n",
       "      <td>0.769231</td>\n",
       "      <td>0.779570</td>\n",
       "      <td>0.768307</td>\n",
       "      <td>0.767287</td>\n",
       "    </tr>\n",
       "    <tr>\n",
       "      <th>0</th>\n",
       "      <td>gemini-1.5-pro-latest</td>\n",
       "      <td>Transfer Learning</td>\n",
       "      <td>0.769231</td>\n",
       "      <td>0.774828</td>\n",
       "      <td>0.768442</td>\n",
       "      <td>0.764591</td>\n",
       "    </tr>\n",
       "  </tbody>\n",
       "</table>\n",
       "</div>"
      ],
      "text/plain": [
       "                     Model             Method  Test Accuracy  \\\n",
       "0         gemini-1.5-flash  Transfer Learning       0.769231   \n",
       "0  gemini-1.5-flash-latest  Transfer Learning       0.769231   \n",
       "0    gemini-1.5-pro-latest  Transfer Learning       0.769231   \n",
       "\n",
       "   Test Macro Precision  Test Macro Recall  Test Macro F1-Score  \n",
       "0              0.779570           0.768307             0.767287  \n",
       "0              0.779570           0.768307             0.767287  \n",
       "0              0.774828           0.768442             0.764591  "
      ]
     },
     "execution_count": 18,
     "metadata": {},
     "output_type": "execute_result"
    }
   ],
   "source": [
    "# Initialize an empty list to store results\n",
    "results = []\n",
    "\n",
    "# Step 1: Classification metrics\n",
    "print(\"Classification Report:\")\n",
    "report = classification_report(\n",
    "    df_test[\"emotion\"],\n",
    "    df_test[\"predicted_emotion\"],\n",
    "    output_dict=True,\n",
    "    target_names=df_test[\"emotion\"].unique(),\n",
    ")\n",
    "print(\n",
    "    classification_report(\n",
    "        df_test[\"emotion\"],\n",
    "        df_test[\"predicted_emotion\"],\n",
    "        target_names=df_test[\"emotion\"].unique(),\n",
    "    )\n",
    ")\n",
    "\n",
    "# Extract important metrics from the classification report for the test set\n",
    "accuracy = report[\"accuracy\"]\n",
    "macro_precision = report[\"macro avg\"][\"precision\"]\n",
    "macro_recall = report[\"macro avg\"][\"recall\"]\n",
    "macro_f1 = report[\"macro avg\"][\"f1-score\"]\n",
    "\n",
    "# Store the metrics in the results list\n",
    "results.append(\n",
    "    {\n",
    "        \"Model\": model_version,\n",
    "        \"Method\": \"Transfer Learning\",\n",
    "        \"Test Accuracy\": accuracy,\n",
    "        \"Test Macro Precision\": macro_precision,\n",
    "        \"Test Macro Recall\": macro_recall,\n",
    "        \"Test Macro F1-Score\": macro_f1,\n",
    "    }\n",
    ")\n",
    "\n",
    "\n",
    "plot_confusion_matrix(\n",
    "    df_test[\"predicted_emotion\"], df_test[\"emotion\"], df_test[\"emotion\"].unique()\n",
    ")\n",
    "\n",
    "\n",
    "results_df = pd.concat([results_df, pd.DataFrame(results)])\n",
    "\n",
    "results_df"
   ]
  },
  {
   "cell_type": "markdown",
   "metadata": {},
   "source": [
    "## Fine tuning\n"
   ]
  },
  {
   "cell_type": "markdown",
   "metadata": {},
   "source": [
    "### Preparing Data\n",
    "\n",
    "De acuerdo a la dofumentación de https://ai.google.dev/gemini-api/docs/model-tuning?hl=es-419, La data tiene que estar en un formato específico para poder ser usado por el modelo en el proceso de fine-tuning:\n",
    "\n",
    "data = [\n",
    "{\"text_input\": \"some input\", \"output\": \"expected output\"},\n",
    "{\"text_input\": \"some input\", \"output\": \"expected output\"},\n",
    "...\n",
    "]\n"
   ]
  },
  {
   "cell_type": "code",
   "execution_count": 19,
   "metadata": {},
   "outputs": [
    {
     "data": {
      "text/plain": [
       "[{'text_input': 'when the week for exams came i got afraid as to how i would tackle the questions',\n",
       "  'output': 'fear'},\n",
       " {'text_input': \"i was sleeping when i heard the neighbours screaming, i peeped through the window and saw a thief  trying to enter my neighbour's house\",\n",
       "  'output': 'fear'},\n",
       " {'text_input': 'there was a time when my room looked terribly untidy; just at that time my aunt came to see me; fortunately i could prevent her from entering the room',\n",
       "  'output': 'shame'}]"
      ]
     },
     "execution_count": 19,
     "metadata": {},
     "output_type": "execute_result"
    }
   ],
   "source": [
    "# Function to transform DataFrame into desired format\n",
    "def prepare_finetuning_data(df):\n",
    "    return df.apply(\n",
    "        lambda row: {\"text_input\": row[\"text\"], \"output\": row[\"emotion\"]}, axis=1\n",
    "    ).tolist()\n",
    "\n",
    "\n",
    "# Apply the function to dfs\n",
    "df_train = pd.concat([df_train, df_val])\n",
    "\n",
    "train_data = prepare_finetuning_data(df_train)\n",
    "test_data = prepare_finetuning_data(df_test)\n",
    "\n",
    "\n",
    "train_data[:3]"
   ]
  },
  {
   "cell_type": "markdown",
   "metadata": {},
   "source": [
    "### Model Fine-tuniung\n",
    "\n",
    "Los modelos disponibles al momento de este desarrollo son los siguientes:\n"
   ]
  },
  {
   "cell_type": "code",
   "execution_count": 20,
   "metadata": {},
   "outputs": [
    {
     "name": "stdout",
     "output_type": "stream",
     "text": [
      "There are 2 models to tuning\n"
     ]
    },
    {
     "data": {
      "text/plain": [
       "[Model(name='models/gemini-1.0-pro-001',\n",
       "       base_model_id='',\n",
       "       version='001',\n",
       "       display_name='Gemini 1.0 Pro 001 (Tuning)',\n",
       "       description=('The best model for scaling across a wide range of tasks. This is a stable '\n",
       "                    'model that supports tuning.'),\n",
       "       input_token_limit=30720,\n",
       "       output_token_limit=2048,\n",
       "       supported_generation_methods=['generateContent', 'countTokens', 'createTunedModel'],\n",
       "       temperature=0.9,\n",
       "       max_temperature=None,\n",
       "       top_p=1.0,\n",
       "       top_k=None),\n",
       " Model(name='models/gemini-1.5-flash-001-tuning',\n",
       "       base_model_id='',\n",
       "       version='001',\n",
       "       display_name='Gemini 1.5 Flash 001 Tuning',\n",
       "       description='Fast and versatile multimodal model for scaling across diverse tasks',\n",
       "       input_token_limit=16384,\n",
       "       output_token_limit=8192,\n",
       "       supported_generation_methods=['generateContent', 'countTokens', 'createTunedModel'],\n",
       "       temperature=1.0,\n",
       "       max_temperature=2.0,\n",
       "       top_p=0.95,\n",
       "       top_k=64)]"
      ]
     },
     "execution_count": 20,
     "metadata": {},
     "output_type": "execute_result"
    }
   ],
   "source": [
    "models_to_tuning = [\n",
    "    m\n",
    "    for m in genai.list_models()\n",
    "    if \"createTunedModel\" in m.supported_generation_methods\n",
    "]\n",
    "\n",
    "print(f\"There are {len(models_to_tuning)} models to tuning\")\n",
    "models_to_tuning"
   ]
  },
  {
   "cell_type": "markdown",
   "metadata": {},
   "source": [
    "### Model `gemini-1.5-flash-001-tuning` 5 epochs\n"
   ]
  },
  {
   "cell_type": "code",
   "execution_count": 21,
   "metadata": {},
   "outputs": [
    {
     "data": {
      "application/vnd.jupyter.widget-view+json": {
       "model_id": "330be4c7ddf54ec8a2b1edb3a05a3382",
       "version_major": 2,
       "version_minor": 0
      },
      "text/plain": [
       "  0%|          | 0/530 [00:00<?, ?it/s]"
      ]
     },
     "metadata": {},
     "output_type": "display_data"
    },
    {
     "name": "stdout",
     "output_type": "stream",
     "text": [
      "TunedModel(name='tunedModels/gemini15flashfinetunedisear5e-jxuaj2dew0',\n",
      "           source_model='models/gemini-1.5-flash-001-tuning',\n",
      "           base_model='models/gemini-1.5-flash-001-tuning',\n",
      "           display_name='gemini-1.5-flash-fine-tuned-isear-5e',\n",
      "           description='',\n",
      "           temperature=0.0,\n",
      "           top_p=0.95,\n",
      "           top_k=64,\n",
      "           state=<State.ACTIVE: 2>,\n",
      "           create_time=datetime.datetime(2024, 10, 29, 13, 5, 54, 683214, tzinfo=datetime.timezone.utc),\n",
      "           update_time=datetime.datetime(2024, 10, 29, 16, 0, 29, 243481, tzinfo=datetime.timezone.utc),\n",
      "           tuning_task=TuningTask(start_time=datetime.datetime(2024, 10, 29, 13, 5, 55, 331591, tzinfo=datetime.timezone.utc),\n",
      "                                  complete_time=datetime.datetime(2024, 10, 29, 16, 0, 29, 243481, tzinfo=datetime.timezone.utc),\n",
      "                                  snapshots=[...],\n",
      "                                  hyperparameters=Hyperparameters(epoch_count=5,\n",
      "                                                                  batch_size=64,\n",
      "                                                                  learning_rate=0.001)),\n",
      "           reader_project_numbers=None)\n"
     ]
    },
    {
     "data": {
      "text/plain": [
       "<Axes: xlabel='epoch', ylabel='mean_loss'>"
      ]
     },
     "execution_count": 21,
     "metadata": {},
     "output_type": "execute_result"
    },
    {
     "data": {
      "image/png": "[encoded data removed]",
      "text/plain": [
       "<Figure size 640x480 with 1 Axes>"
      ]
     },
     "metadata": {},
     "output_type": "display_data"
    }
   ],
   "source": [
    "import time\n",
    "\n",
    "base_model = \"models/gemini-1.5-flash-001-tuning\"\n",
    "\n",
    "operation = genai.create_tuned_model(\n",
    "    display_name=\"gemini-1.5-flash-fine-tuned-isear-5e\",\n",
    "    source_model=base_model,\n",
    "    temperature=0,\n",
    "    epoch_count=5,\n",
    "    batch_size=64,\n",
    "    learning_rate=0.001,\n",
    "    training_data=train_data,\n",
    ")\n",
    "\n",
    "for status in operation.wait_bar():\n",
    "    time.sleep(10)\n",
    "\n",
    "result = operation.result()\n",
    "print(result)\n",
    "# # You can plot the loss curve with:\n",
    "snapshots = pd.DataFrame(result.tuning_task.snapshots)\n",
    "sns.lineplot(data=snapshots, x=\"epoch\", y=\"mean_loss\")"
   ]
  },
  {
   "cell_type": "markdown",
   "metadata": {},
   "source": [
    "#### Evaluate fine-tuned model\n"
   ]
  },
  {
   "cell_type": "code",
   "execution_count": 22,
   "metadata": {},
   "outputs": [
    {
     "name": "stdout",
     "output_type": "stream",
     "text": [
      "Error processing text: the mother of a friend of mine passed by me and saw me sitting on a boy's lap  i tried to greet her but could not help blushing\n",
      "Error: Invalid operation: The `response.parts` quick accessor requires a single candidate, but but `response.candidates` is empty.\n",
      "This appears to be caused by a blocked prompt, see `response.prompt_feedback`: block_reason: OTHER\n",
      "\n",
      "Error processing text: the first time that i caressed a girl, i was about thirteen and she was eighteen  i noticed that it did not affect her at all\n",
      "Error: Invalid operation: The `response.parts` quick accessor requires a single candidate, but but `response.candidates` is empty.\n",
      "This appears to be caused by a blocked prompt, see `response.prompt_feedback`: block_reason: OTHER\n",
      "\n",
      "Error processing text: when my red-cheeked, content child runs to meet me in the yard of the kindergarten and gives me a moist kiss on my cheek\n",
      "Error: Invalid operation: The `response.parts` quick accessor requires a single candidate, but but `response.candidates` is empty.\n",
      "This appears to be caused by a blocked prompt, see `response.prompt_feedback`: block_reason: OTHER\n",
      "\n"
     ]
    }
   ],
   "source": [
    "# Testinf fine tunned model\n",
    "\n",
    "model_version = \"tunedModels/gemini15flashfinetunedisear5e-jxuaj2dew0\"\n",
    "\n",
    "\n",
    "# Create the model\n",
    "generation_config = {\n",
    "    \"temperature\": 0,\n",
    "    # \"top_p\": 0.95,\n",
    "    # \"top_k\": 64,\n",
    "    \"max_output_tokens\": 3,\n",
    "    # \"response_mime_type\": \"text/plain\",\n",
    "}\n",
    "\n",
    "safety_config = {\n",
    "    \"HARASSMENT\": \"block_none\",\n",
    "    \"HATE_SPEECH\": \"block_none\",\n",
    "    \"HATE\": \"block_none\",\n",
    "    \"SEXUALLY_EXPLICIT\": \"block_none\",\n",
    "    \"DANGEROUS\": \"block_none\",\n",
    "    \"SEXUAL\": \"block_none\",\n",
    "}\n",
    "\n",
    "model = genai.GenerativeModel(\n",
    "    model_name=model_version,\n",
    "    generation_config=generation_config,\n",
    "    safety_settings=safety_config,\n",
    "    # system_instruction=system_message,\n",
    ")\n",
    "\n",
    "\n",
    "df_test[\"predicted_emotion\"] = df_test[\"text\"].apply(classify_emotion)\n"
   ]
  },
  {
   "cell_type": "code",
   "execution_count": 23,
   "metadata": {},
   "outputs": [
    {
     "data": {
      "text/html": [
       "<div>\n",
       "<style scoped>\n",
       "    .dataframe tbody tr th:only-of-type {\n",
       "        vertical-align: middle;\n",
       "    }\n",
       "\n",
       "    .dataframe tbody tr th {\n",
       "        vertical-align: top;\n",
       "    }\n",
       "\n",
       "    .dataframe thead th {\n",
       "        text-align: right;\n",
       "    }\n",
       "</style>\n",
       "<table border=\"1\" class=\"dataframe\">\n",
       "  <thead>\n",
       "    <tr style=\"text-align: right;\">\n",
       "      <th></th>\n",
       "      <th>text</th>\n",
       "      <th>emotion</th>\n",
       "      <th>predicted_emotion</th>\n",
       "    </tr>\n",
       "  </thead>\n",
       "  <tbody>\n",
       "    <tr>\n",
       "      <th>245</th>\n",
       "      <td>the mother of a friend of mine passed by me an...</td>\n",
       "      <td>shame</td>\n",
       "      <td>unknown</td>\n",
       "    </tr>\n",
       "    <tr>\n",
       "      <th>354</th>\n",
       "      <td>the first time that i caressed a girl, i was a...</td>\n",
       "      <td>shame</td>\n",
       "      <td>unknown</td>\n",
       "    </tr>\n",
       "    <tr>\n",
       "      <th>400</th>\n",
       "      <td>when my red-cheeked, content child runs to mee...</td>\n",
       "      <td>joy</td>\n",
       "      <td>unknown</td>\n",
       "    </tr>\n",
       "  </tbody>\n",
       "</table>\n",
       "</div>"
      ],
      "text/plain": [
       "                                                  text emotion  \\\n",
       "245  the mother of a friend of mine passed by me an...   shame   \n",
       "354  the first time that i caressed a girl, i was a...   shame   \n",
       "400  when my red-cheeked, content child runs to mee...     joy   \n",
       "\n",
       "    predicted_emotion  \n",
       "245           unknown  \n",
       "354           unknown  \n",
       "400           unknown  "
      ]
     },
     "execution_count": 23,
     "metadata": {},
     "output_type": "execute_result"
    }
   ],
   "source": [
    "df_test[df_test[\"predicted_emotion\"] == \"unknown\"]"
   ]
  },
  {
   "cell_type": "markdown",
   "metadata": {},
   "source": [
    "Hay 3 observaciones que se no superaron los filtros de seguridad, al parecer, por una categoría que no está cubierta en la documentación de `safety_config`. Por lo tanto, se eliminan estas 3 observaciones de la muestra de test.\n"
   ]
  },
  {
   "cell_type": "code",
   "execution_count": 24,
   "metadata": {},
   "outputs": [],
   "source": [
    "df_test = df_test[df_test[\"predicted_emotion\"] != \"unknown\"]"
   ]
  },
  {
   "cell_type": "code",
   "execution_count": 25,
   "metadata": {},
   "outputs": [
    {
     "name": "stdout",
     "output_type": "stream",
     "text": [
      "Classification Report:\n",
      "              precision    recall  f1-score   support\n",
      "\n",
      "       anger       0.64      0.83      0.72       109\n",
      "     sadness       0.82      0.70      0.76       107\n",
      "       shame       0.91      0.85      0.88       109\n",
      "       guilt       0.73      0.62      0.67       106\n",
      "     disgust       0.99      0.95      0.97       108\n",
      "        fear       0.81      0.80      0.80       108\n",
      "         joy       0.60      0.67      0.64       104\n",
      "\n",
      "    accuracy                           0.78       751\n",
      "   macro avg       0.79      0.78      0.78       751\n",
      "weighted avg       0.79      0.78      0.78       751\n",
      "\n"
     ]
    },
    {
     "data": {
      "image/png": "[encoded data removed]",
      "text/plain": [
       "<Figure size 600x600 with 1 Axes>"
      ]
     },
     "metadata": {},
     "output_type": "display_data"
    },
    {
     "data": {
      "text/html": [
       "<div>\n",
       "<style scoped>\n",
       "    .dataframe tbody tr th:only-of-type {\n",
       "        vertical-align: middle;\n",
       "    }\n",
       "\n",
       "    .dataframe tbody tr th {\n",
       "        vertical-align: top;\n",
       "    }\n",
       "\n",
       "    .dataframe thead th {\n",
       "        text-align: right;\n",
       "    }\n",
       "</style>\n",
       "<table border=\"1\" class=\"dataframe\">\n",
       "  <thead>\n",
       "    <tr style=\"text-align: right;\">\n",
       "      <th></th>\n",
       "      <th>Model</th>\n",
       "      <th>Method</th>\n",
       "      <th>Test Accuracy</th>\n",
       "      <th>Test Macro Precision</th>\n",
       "      <th>Test Macro Recall</th>\n",
       "      <th>Test Macro F1-Score</th>\n",
       "    </tr>\n",
       "  </thead>\n",
       "  <tbody>\n",
       "    <tr>\n",
       "      <th>0</th>\n",
       "      <td>gemini-1.5-flash</td>\n",
       "      <td>Transfer Learning</td>\n",
       "      <td>0.769231</td>\n",
       "      <td>0.779570</td>\n",
       "      <td>0.768307</td>\n",
       "      <td>0.767287</td>\n",
       "    </tr>\n",
       "    <tr>\n",
       "      <th>0</th>\n",
       "      <td>gemini-1.5-flash-latest</td>\n",
       "      <td>Transfer Learning</td>\n",
       "      <td>0.769231</td>\n",
       "      <td>0.779570</td>\n",
       "      <td>0.768307</td>\n",
       "      <td>0.767287</td>\n",
       "    </tr>\n",
       "    <tr>\n",
       "      <th>0</th>\n",
       "      <td>gemini-1.5-pro-latest</td>\n",
       "      <td>Transfer Learning</td>\n",
       "      <td>0.769231</td>\n",
       "      <td>0.774828</td>\n",
       "      <td>0.768442</td>\n",
       "      <td>0.764591</td>\n",
       "    </tr>\n",
       "    <tr>\n",
       "      <th>0</th>\n",
       "      <td>tunedModels/gemini15flashfinetunedisear5e-jxua...</td>\n",
       "      <td>Fine-Tuning</td>\n",
       "      <td>0.776298</td>\n",
       "      <td>0.786381</td>\n",
       "      <td>0.775079</td>\n",
       "      <td>0.777278</td>\n",
       "    </tr>\n",
       "  </tbody>\n",
       "</table>\n",
       "</div>"
      ],
      "text/plain": [
       "                                               Model             Method  \\\n",
       "0                                   gemini-1.5-flash  Transfer Learning   \n",
       "0                            gemini-1.5-flash-latest  Transfer Learning   \n",
       "0                              gemini-1.5-pro-latest  Transfer Learning   \n",
       "0  tunedModels/gemini15flashfinetunedisear5e-jxua...        Fine-Tuning   \n",
       "\n",
       "   Test Accuracy  Test Macro Precision  Test Macro Recall  Test Macro F1-Score  \n",
       "0       0.769231              0.779570           0.768307             0.767287  \n",
       "0       0.769231              0.779570           0.768307             0.767287  \n",
       "0       0.769231              0.774828           0.768442             0.764591  \n",
       "0       0.776298              0.786381           0.775079             0.777278  "
      ]
     },
     "execution_count": 25,
     "metadata": {},
     "output_type": "execute_result"
    }
   ],
   "source": [
    "# Initialize an empty list to store results\n",
    "results = []\n",
    "\n",
    "# Step 1: Classification metrics\n",
    "print(\"Classification Report:\")\n",
    "report = classification_report(\n",
    "    df_test[\"emotion\"],\n",
    "    df_test[\"predicted_emotion\"],\n",
    "    output_dict=True,\n",
    "    target_names=df_test[\"emotion\"].unique(),\n",
    ")\n",
    "print(\n",
    "    classification_report(\n",
    "        df_test[\"emotion\"],\n",
    "        df_test[\"predicted_emotion\"],\n",
    "        target_names=df_test[\"emotion\"].unique(),\n",
    "    )\n",
    ")\n",
    "\n",
    "# Extract important metrics from the classification report for the test set\n",
    "accuracy = report[\"accuracy\"]\n",
    "macro_precision = report[\"macro avg\"][\"precision\"]\n",
    "macro_recall = report[\"macro avg\"][\"recall\"]\n",
    "macro_f1 = report[\"macro avg\"][\"f1-score\"]\n",
    "\n",
    "# Store the metrics in the results list\n",
    "results.append(\n",
    "    {\n",
    "        \"Model\": model_version,\n",
    "        \"Method\": \"Fine-Tuning\",\n",
    "        \"Test Accuracy\": accuracy,\n",
    "        \"Test Macro Precision\": macro_precision,\n",
    "        \"Test Macro Recall\": macro_recall,\n",
    "        \"Test Macro F1-Score\": macro_f1,\n",
    "    }\n",
    ")\n",
    "\n",
    "\n",
    "plot_confusion_matrix(\n",
    "    df_test[\"predicted_emotion\"], df_test[\"emotion\"], df_test[\"emotion\"].unique()\n",
    ")\n",
    "\n",
    "\n",
    "results_df = pd.concat([results_df, pd.DataFrame(results)])\n",
    "\n",
    "results_df"
   ]
  },
  {
   "cell_type": "markdown",
   "metadata": {},
   "source": [
    "### Model `gemini-1.5-flash-001-tuning` 15 epochs\n"
   ]
  },
  {
   "cell_type": "code",
   "execution_count": 26,
   "metadata": {},
   "outputs": [
    {
     "data": {
      "application/vnd.jupyter.widget-view+json": {
       "model_id": "ff29daa19a24412db2ef9b1ba9743a82",
       "version_major": 2,
       "version_minor": 0
      },
      "text/plain": [
       "  0%|          | 0/1590 [00:00<?, ?it/s]"
      ]
     },
     "metadata": {},
     "output_type": "display_data"
    },
    {
     "name": "stdout",
     "output_type": "stream",
     "text": [
      "TunedModel(name='tunedModels/gemini15flashfinetunedisear15e-6iy7j0f1u',\n",
      "           source_model='models/gemini-1.5-flash-001-tuning',\n",
      "           base_model='models/gemini-1.5-flash-001-tuning',\n",
      "           display_name='gemini-1.5-flash-fine-tuned-isear-15e',\n",
      "           description='',\n",
      "           temperature=0.0,\n",
      "           top_p=0.95,\n",
      "           top_k=64,\n",
      "           state=<State.ACTIVE: 2>,\n",
      "           create_time=datetime.datetime(2024, 10, 29, 16, 27, 49, 924314, tzinfo=datetime.timezone.utc),\n",
      "           update_time=datetime.datetime(2024, 10, 30, 0, 56, 51, 634475, tzinfo=datetime.timezone.utc),\n",
      "           tuning_task=TuningTask(start_time=datetime.datetime(2024, 10, 29, 16, 27, 50, 532769, tzinfo=datetime.timezone.utc),\n",
      "                                  complete_time=datetime.datetime(2024, 10, 30, 0, 56, 51, 634475, tzinfo=datetime.timezone.utc),\n",
      "                                  snapshots=[...],\n",
      "                                  hyperparameters=Hyperparameters(epoch_count=15,\n",
      "                                                                  batch_size=64,\n",
      "                                                                  learning_rate=0.001)),\n",
      "           reader_project_numbers=None)\n"
     ]
    },
    {
     "data": {
      "text/plain": [
       "<Axes: xlabel='epoch', ylabel='mean_loss'>"
      ]
     },
     "execution_count": 26,
     "metadata": {},
     "output_type": "execute_result"
    },
    {
     "data": {
      "image/png": "[encoded data removed]",
      "text/plain": [
       "<Figure size 640x480 with 1 Axes>"
      ]
     },
     "metadata": {},
     "output_type": "display_data"
    }
   ],
   "source": [
    "base_model = \"models/gemini-1.5-flash-001-tuning\"\n",
    "\n",
    "operation = genai.create_tuned_model(\n",
    "    display_name=\"gemini-1.5-flash-fine-tuned-isear-15e\",\n",
    "    source_model=base_model,\n",
    "    temperature=0,\n",
    "    epoch_count=15,\n",
    "    batch_size=64,\n",
    "    learning_rate=0.001,\n",
    "    training_data=train_data,\n",
    ")\n",
    "\n",
    "for status in operation.wait_bar():\n",
    "    time.sleep(10)\n",
    "\n",
    "result = operation.result()\n",
    "print(result)\n",
    "# # You can plot the loss curve with:\n",
    "snapshots = pd.DataFrame(result.tuning_task.snapshots)\n",
    "sns.lineplot(data=snapshots, x=\"epoch\", y=\"mean_loss\")"
   ]
  },
  {
   "cell_type": "markdown",
   "metadata": {},
   "source": [
    "#### Evaluate fine-tuned model\n"
   ]
  },
  {
   "cell_type": "code",
   "execution_count": 27,
   "metadata": {},
   "outputs": [],
   "source": [
    "# Testinf fine tunned model\n",
    "\n",
    "model_version = \"tunedModels/gemini15flashfinetunedisear15e-6iy7j0f1u\"\n",
    "\n",
    "\n",
    "# Create the model\n",
    "generation_config = {\n",
    "    \"temperature\": 0,\n",
    "    # \"top_p\": 0.95,\n",
    "    # \"top_k\": 64,\n",
    "    \"max_output_tokens\": 3,\n",
    "    # \"response_mime_type\": \"text/plain\",\n",
    "}\n",
    "\n",
    "safety_config = {\n",
    "    \"HARASSMENT\": \"block_none\",\n",
    "    \"HATE_SPEECH\": \"block_none\",\n",
    "    \"HATE\": \"block_none\",\n",
    "    \"SEXUALLY_EXPLICIT\": \"block_none\",\n",
    "    \"DANGEROUS\": \"block_none\",\n",
    "    \"SEXUAL\": \"block_none\",\n",
    "}\n",
    "\n",
    "model = genai.GenerativeModel(\n",
    "    model_name=model_version,\n",
    "    generation_config=generation_config,\n",
    "    safety_settings=safety_config,\n",
    "    # system_instruction=system_message,\n",
    ")\n",
    "\n",
    "\n",
    "df_test[\"predicted_emotion\"] = df_test[\"text\"].apply(classify_emotion)\n"
   ]
  },
  {
   "cell_type": "code",
   "execution_count": 28,
   "metadata": {},
   "outputs": [
    {
     "data": {
      "text/plain": [
       "array(['anger', 'sadness', 'shame', 'guilt', 'disgust', 'fear',\n",
       "       'sadnesssad', 'disgustdis', 'shameshame', 'joy', 'angeranger',\n",
       "       'disgustanger', 'joyjoy', 'shameguilt', 'guiltgu'], dtype=object)"
      ]
     },
     "execution_count": 28,
     "metadata": {},
     "output_type": "execute_result"
    }
   ],
   "source": [
    "df_test.predicted_emotion.unique()"
   ]
  },
  {
   "cell_type": "code",
   "execution_count": 29,
   "metadata": {},
   "outputs": [
    {
     "name": "stdout",
     "output_type": "stream",
     "text": [
      "Classification Report:\n"
     ]
    },
    {
     "ename": "ValueError",
     "evalue": "Number of classes, 15, does not match size of target_names, 7. Try specifying the labels parameter",
     "output_type": "error",
     "traceback": [
      "\u001b[0;31m---------------------------------------------------------------------------\u001b[0m",
      "\u001b[0;31mValueError\u001b[0m                                Traceback (most recent call last)",
      "Cell \u001b[0;32mIn[29], line 6\u001b[0m\n\u001b[1;32m      4\u001b[0m \u001b[38;5;66;03m# Step 1: Classification metrics\u001b[39;00m\n\u001b[1;32m      5\u001b[0m \u001b[38;5;28mprint\u001b[39m(\u001b[38;5;124m\"\u001b[39m\u001b[38;5;124mClassification Report:\u001b[39m\u001b[38;5;124m\"\u001b[39m)\n\u001b[0;32m----> 6\u001b[0m report \u001b[38;5;241m=\u001b[39m \u001b[43mclassification_report\u001b[49m\u001b[43m(\u001b[49m\n\u001b[1;32m      7\u001b[0m \u001b[43m    \u001b[49m\u001b[43mdf_test\u001b[49m\u001b[43m[\u001b[49m\u001b[38;5;124;43m\"\u001b[39;49m\u001b[38;5;124;43memotion\u001b[39;49m\u001b[38;5;124;43m\"\u001b[39;49m\u001b[43m]\u001b[49m\u001b[43m,\u001b[49m\n\u001b[1;32m      8\u001b[0m \u001b[43m    \u001b[49m\u001b[43mdf_test\u001b[49m\u001b[43m[\u001b[49m\u001b[38;5;124;43m\"\u001b[39;49m\u001b[38;5;124;43mpredicted_emotion\u001b[39;49m\u001b[38;5;124;43m\"\u001b[39;49m\u001b[43m]\u001b[49m\u001b[43m,\u001b[49m\n\u001b[1;32m      9\u001b[0m \u001b[43m    \u001b[49m\u001b[43moutput_dict\u001b[49m\u001b[38;5;241;43m=\u001b[39;49m\u001b[38;5;28;43;01mTrue\u001b[39;49;00m\u001b[43m,\u001b[49m\n\u001b[1;32m     10\u001b[0m \u001b[43m    \u001b[49m\u001b[43mtarget_names\u001b[49m\u001b[38;5;241;43m=\u001b[39;49m\u001b[43mdf_test\u001b[49m\u001b[43m[\u001b[49m\u001b[38;5;124;43m\"\u001b[39;49m\u001b[38;5;124;43memotion\u001b[39;49m\u001b[38;5;124;43m\"\u001b[39;49m\u001b[43m]\u001b[49m\u001b[38;5;241;43m.\u001b[39;49m\u001b[43munique\u001b[49m\u001b[43m(\u001b[49m\u001b[43m)\u001b[49m\u001b[43m,\u001b[49m\n\u001b[1;32m     11\u001b[0m \u001b[43m)\u001b[49m\n\u001b[1;32m     12\u001b[0m \u001b[38;5;28mprint\u001b[39m(\n\u001b[1;32m     13\u001b[0m     classification_report(\n\u001b[1;32m     14\u001b[0m         df_test[\u001b[38;5;124m\"\u001b[39m\u001b[38;5;124memotion\u001b[39m\u001b[38;5;124m\"\u001b[39m],\n\u001b[0;32m   (...)\u001b[0m\n\u001b[1;32m     17\u001b[0m     )\n\u001b[1;32m     18\u001b[0m )\n\u001b[1;32m     20\u001b[0m \u001b[38;5;66;03m# Extract important metrics from the classification report for the test set\u001b[39;00m\n",
      "File \u001b[0;32m~/TrabajoGradosEAFIT/.venv/lib/python3.12/site-packages/sklearn/utils/_param_validation.py:213\u001b[0m, in \u001b[0;36mvalidate_params.<locals>.decorator.<locals>.wrapper\u001b[0;34m(*args, **kwargs)\u001b[0m\n\u001b[1;32m    207\u001b[0m \u001b[38;5;28;01mtry\u001b[39;00m:\n\u001b[1;32m    208\u001b[0m     \u001b[38;5;28;01mwith\u001b[39;00m config_context(\n\u001b[1;32m    209\u001b[0m         skip_parameter_validation\u001b[38;5;241m=\u001b[39m(\n\u001b[1;32m    210\u001b[0m             prefer_skip_nested_validation \u001b[38;5;129;01mor\u001b[39;00m global_skip_validation\n\u001b[1;32m    211\u001b[0m         )\n\u001b[1;32m    212\u001b[0m     ):\n\u001b[0;32m--> 213\u001b[0m         \u001b[38;5;28;01mreturn\u001b[39;00m \u001b[43mfunc\u001b[49m\u001b[43m(\u001b[49m\u001b[38;5;241;43m*\u001b[39;49m\u001b[43margs\u001b[49m\u001b[43m,\u001b[49m\u001b[43m \u001b[49m\u001b[38;5;241;43m*\u001b[39;49m\u001b[38;5;241;43m*\u001b[39;49m\u001b[43mkwargs\u001b[49m\u001b[43m)\u001b[49m\n\u001b[1;32m    214\u001b[0m \u001b[38;5;28;01mexcept\u001b[39;00m InvalidParameterError \u001b[38;5;28;01mas\u001b[39;00m e:\n\u001b[1;32m    215\u001b[0m     \u001b[38;5;66;03m# When the function is just a wrapper around an estimator, we allow\u001b[39;00m\n\u001b[1;32m    216\u001b[0m     \u001b[38;5;66;03m# the function to delegate validation to the estimator, but we replace\u001b[39;00m\n\u001b[1;32m    217\u001b[0m     \u001b[38;5;66;03m# the name of the estimator by the name of the function in the error\u001b[39;00m\n\u001b[1;32m    218\u001b[0m     \u001b[38;5;66;03m# message to avoid confusion.\u001b[39;00m\n\u001b[1;32m    219\u001b[0m     msg \u001b[38;5;241m=\u001b[39m re\u001b[38;5;241m.\u001b[39msub(\n\u001b[1;32m    220\u001b[0m         \u001b[38;5;124mr\u001b[39m\u001b[38;5;124m\"\u001b[39m\u001b[38;5;124mparameter of \u001b[39m\u001b[38;5;124m\\\u001b[39m\u001b[38;5;124mw+ must be\u001b[39m\u001b[38;5;124m\"\u001b[39m,\n\u001b[1;32m    221\u001b[0m         \u001b[38;5;124mf\u001b[39m\u001b[38;5;124m\"\u001b[39m\u001b[38;5;124mparameter of \u001b[39m\u001b[38;5;132;01m{\u001b[39;00mfunc\u001b[38;5;241m.\u001b[39m\u001b[38;5;18m__qualname__\u001b[39m\u001b[38;5;132;01m}\u001b[39;00m\u001b[38;5;124m must be\u001b[39m\u001b[38;5;124m\"\u001b[39m,\n\u001b[1;32m    222\u001b[0m         \u001b[38;5;28mstr\u001b[39m(e),\n\u001b[1;32m    223\u001b[0m     )\n",
      "File \u001b[0;32m~/TrabajoGradosEAFIT/.venv/lib/python3.12/site-packages/sklearn/metrics/_classification.py:2648\u001b[0m, in \u001b[0;36mclassification_report\u001b[0;34m(y_true, y_pred, labels, target_names, sample_weight, digits, output_dict, zero_division)\u001b[0m\n\u001b[1;32m   2642\u001b[0m         warnings\u001b[38;5;241m.\u001b[39mwarn(\n\u001b[1;32m   2643\u001b[0m             \u001b[38;5;124m\"\u001b[39m\u001b[38;5;124mlabels size, \u001b[39m\u001b[38;5;132;01m{0}\u001b[39;00m\u001b[38;5;124m, does not match size of target_names, \u001b[39m\u001b[38;5;132;01m{1}\u001b[39;00m\u001b[38;5;124m\"\u001b[39m\u001b[38;5;241m.\u001b[39mformat(\n\u001b[1;32m   2644\u001b[0m                 \u001b[38;5;28mlen\u001b[39m(labels), \u001b[38;5;28mlen\u001b[39m(target_names)\n\u001b[1;32m   2645\u001b[0m             )\n\u001b[1;32m   2646\u001b[0m         )\n\u001b[1;32m   2647\u001b[0m     \u001b[38;5;28;01melse\u001b[39;00m:\n\u001b[0;32m-> 2648\u001b[0m         \u001b[38;5;28;01mraise\u001b[39;00m \u001b[38;5;167;01mValueError\u001b[39;00m(\n\u001b[1;32m   2649\u001b[0m             \u001b[38;5;124m\"\u001b[39m\u001b[38;5;124mNumber of classes, \u001b[39m\u001b[38;5;132;01m{0}\u001b[39;00m\u001b[38;5;124m, does not match size of \u001b[39m\u001b[38;5;124m\"\u001b[39m\n\u001b[1;32m   2650\u001b[0m             \u001b[38;5;124m\"\u001b[39m\u001b[38;5;124mtarget_names, \u001b[39m\u001b[38;5;132;01m{1}\u001b[39;00m\u001b[38;5;124m. Try specifying the labels \u001b[39m\u001b[38;5;124m\"\u001b[39m\n\u001b[1;32m   2651\u001b[0m             \u001b[38;5;124m\"\u001b[39m\u001b[38;5;124mparameter\u001b[39m\u001b[38;5;124m\"\u001b[39m\u001b[38;5;241m.\u001b[39mformat(\u001b[38;5;28mlen\u001b[39m(labels), \u001b[38;5;28mlen\u001b[39m(target_names))\n\u001b[1;32m   2652\u001b[0m         )\n\u001b[1;32m   2653\u001b[0m \u001b[38;5;28;01mif\u001b[39;00m target_names \u001b[38;5;129;01mis\u001b[39;00m \u001b[38;5;28;01mNone\u001b[39;00m:\n\u001b[1;32m   2654\u001b[0m     target_names \u001b[38;5;241m=\u001b[39m [\u001b[38;5;124m\"\u001b[39m\u001b[38;5;132;01m%s\u001b[39;00m\u001b[38;5;124m\"\u001b[39m \u001b[38;5;241m%\u001b[39m l \u001b[38;5;28;01mfor\u001b[39;00m l \u001b[38;5;129;01min\u001b[39;00m labels]\n",
      "\u001b[0;31mValueError\u001b[0m: Number of classes, 15, does not match size of target_names, 7. Try specifying the labels parameter"
     ]
    }
   ],
   "source": [
    "# Initialize an empty list to store results\n",
    "results = []\n",
    "\n",
    "# Step 1: Classification metrics\n",
    "print(\"Classification Report:\")\n",
    "report = classification_report(\n",
    "    df_test[\"emotion\"],\n",
    "    df_test[\"predicted_emotion\"],\n",
    "    output_dict=True,\n",
    "    target_names=df_test[\"emotion\"].unique(),\n",
    ")\n",
    "print(\n",
    "    classification_report(\n",
    "        df_test[\"emotion\"],\n",
    "        df_test[\"predicted_emotion\"],\n",
    "        target_names=df_test[\"emotion\"].unique(),\n",
    "    )\n",
    ")\n",
    "\n",
    "# Extract important metrics from the classification report for the test set\n",
    "accuracy = report[\"accuracy\"]\n",
    "macro_precision = report[\"macro avg\"][\"precision\"]\n",
    "macro_recall = report[\"macro avg\"][\"recall\"]\n",
    "macro_f1 = report[\"macro avg\"][\"f1-score\"]\n",
    "\n",
    "# Store the metrics in the results list\n",
    "results.append(\n",
    "    {\n",
    "        \"Model\": model_version,\n",
    "        \"Method\": \"Fine-Tuning\",\n",
    "        \"Test Accuracy\": accuracy,\n",
    "        \"Test Macro Precision\": macro_precision,\n",
    "        \"Test Macro Recall\": macro_recall,\n",
    "        \"Test Macro F1-Score\": macro_f1,\n",
    "    }\n",
    ")\n",
    "\n",
    "\n",
    "plot_confusion_matrix(\n",
    "    df_test[\"predicted_emotion\"], df_test[\"emotion\"], df_test[\"emotion\"].unique()\n",
    ")\n",
    "\n",
    "\n",
    "results_df = pd.concat([results_df, pd.DataFrame(results)])\n",
    "\n",
    "results_df"
   ]
  },
  {
   "cell_type": "markdown",
   "metadata": {},
   "source": [
    "##### **CON MÁS EPOCAS EL MODELO PREDICE MÁS DE LAS ETIQUETAS POSIBLES**\n"
   ]
  },
  {
   "cell_type": "markdown",
   "metadata": {},
   "source": [
    "### Probando otro modelo finetuneado\n"
   ]
  },
  {
   "cell_type": "code",
   "execution_count": 32,
   "metadata": {},
   "outputs": [],
   "source": [
    "# Testinf fine tunned model\n",
    "\n",
    "model_version = \"tunedModels/gemini15flashfinetunedisear-2ssoh15ski2w\"\n",
    "\n",
    "\n",
    "# Create the model\n",
    "generation_config = {\n",
    "    \"temperature\": 0,\n",
    "    # \"top_p\": 0.95,\n",
    "    # \"top_k\": 64,\n",
    "    \"max_output_tokens\": 3,\n",
    "    # \"response_mime_type\": \"text/plain\",\n",
    "}\n",
    "\n",
    "safety_config = {\n",
    "    \"HARASSMENT\": \"block_none\",\n",
    "    \"HATE_SPEECH\": \"block_none\",\n",
    "    \"HATE\": \"block_none\",\n",
    "    \"SEXUALLY_EXPLICIT\": \"block_none\",\n",
    "    \"DANGEROUS\": \"block_none\",\n",
    "    \"SEXUAL\": \"block_none\",\n",
    "}\n",
    "\n",
    "model = genai.GenerativeModel(\n",
    "    model_name=model_version,\n",
    "    generation_config=generation_config,\n",
    "    safety_settings=safety_config,\n",
    "    # system_instruction=system_message,\n",
    ")\n",
    "\n",
    "\n",
    "df_test[\"predicted_emotion\"] = df_test[\"text\"].apply(classify_emotion)\n"
   ]
  },
  {
   "cell_type": "code",
   "execution_count": 33,
   "metadata": {},
   "outputs": [
    {
     "name": "stdout",
     "output_type": "stream",
     "text": [
      "Classification Report:\n",
      "              precision    recall  f1-score   support\n",
      "\n",
      "       anger       0.69      0.77      0.73       109\n",
      "     sadness       0.77      0.76      0.76       107\n",
      "       shame       0.94      0.84      0.89       109\n",
      "       guilt       0.74      0.79      0.76       106\n",
      "     disgust       0.96      0.97      0.97       108\n",
      "        fear       0.85      0.72      0.78       108\n",
      "         joy       0.65      0.70      0.68       104\n",
      "\n",
      "    accuracy                           0.79       751\n",
      "   macro avg       0.80      0.79      0.80       751\n",
      "weighted avg       0.80      0.79      0.80       751\n",
      "\n"
     ]
    },
    {
     "data": {
      "image/png": "[encoded data removed]",
      "text/plain": [
       "<Figure size 600x600 with 1 Axes>"
      ]
     },
     "metadata": {},
     "output_type": "display_data"
    },
    {
     "data": {
      "text/html": [
       "<div>\n",
       "<style scoped>\n",
       "    .dataframe tbody tr th:only-of-type {\n",
       "        vertical-align: middle;\n",
       "    }\n",
       "\n",
       "    .dataframe tbody tr th {\n",
       "        vertical-align: top;\n",
       "    }\n",
       "\n",
       "    .dataframe thead th {\n",
       "        text-align: right;\n",
       "    }\n",
       "</style>\n",
       "<table border=\"1\" class=\"dataframe\">\n",
       "  <thead>\n",
       "    <tr style=\"text-align: right;\">\n",
       "      <th></th>\n",
       "      <th>Model</th>\n",
       "      <th>Method</th>\n",
       "      <th>Test Accuracy</th>\n",
       "      <th>Test Macro Precision</th>\n",
       "      <th>Test Macro Recall</th>\n",
       "      <th>Test Macro F1-Score</th>\n",
       "    </tr>\n",
       "  </thead>\n",
       "  <tbody>\n",
       "    <tr>\n",
       "      <th>0</th>\n",
       "      <td>gemini-1.5-flash</td>\n",
       "      <td>Transfer Learning</td>\n",
       "      <td>0.769231</td>\n",
       "      <td>0.779570</td>\n",
       "      <td>0.768307</td>\n",
       "      <td>0.767287</td>\n",
       "    </tr>\n",
       "    <tr>\n",
       "      <th>0</th>\n",
       "      <td>gemini-1.5-flash-latest</td>\n",
       "      <td>Transfer Learning</td>\n",
       "      <td>0.769231</td>\n",
       "      <td>0.779570</td>\n",
       "      <td>0.768307</td>\n",
       "      <td>0.767287</td>\n",
       "    </tr>\n",
       "    <tr>\n",
       "      <th>0</th>\n",
       "      <td>gemini-1.5-pro-latest</td>\n",
       "      <td>Transfer Learning</td>\n",
       "      <td>0.769231</td>\n",
       "      <td>0.774828</td>\n",
       "      <td>0.768442</td>\n",
       "      <td>0.764591</td>\n",
       "    </tr>\n",
       "    <tr>\n",
       "      <th>0</th>\n",
       "      <td>tunedModels/gemini15flashfinetunedisear5e-jxua...</td>\n",
       "      <td>Fine-Tuning</td>\n",
       "      <td>0.776298</td>\n",
       "      <td>0.786381</td>\n",
       "      <td>0.775079</td>\n",
       "      <td>0.777278</td>\n",
       "    </tr>\n",
       "    <tr>\n",
       "      <th>0</th>\n",
       "      <td>tunedModels/gemini15flashfinetunedisear-2ssoh1...</td>\n",
       "      <td>Fine-Tuning</td>\n",
       "      <td>0.794940</td>\n",
       "      <td>0.800597</td>\n",
       "      <td>0.794358</td>\n",
       "      <td>0.795826</td>\n",
       "    </tr>\n",
       "  </tbody>\n",
       "</table>\n",
       "</div>"
      ],
      "text/plain": [
       "                                               Model             Method  \\\n",
       "0                                   gemini-1.5-flash  Transfer Learning   \n",
       "0                            gemini-1.5-flash-latest  Transfer Learning   \n",
       "0                              gemini-1.5-pro-latest  Transfer Learning   \n",
       "0  tunedModels/gemini15flashfinetunedisear5e-jxua...        Fine-Tuning   \n",
       "0  tunedModels/gemini15flashfinetunedisear-2ssoh1...        Fine-Tuning   \n",
       "\n",
       "   Test Accuracy  Test Macro Precision  Test Macro Recall  Test Macro F1-Score  \n",
       "0       0.769231              0.779570           0.768307             0.767287  \n",
       "0       0.769231              0.779570           0.768307             0.767287  \n",
       "0       0.769231              0.774828           0.768442             0.764591  \n",
       "0       0.776298              0.786381           0.775079             0.777278  \n",
       "0       0.794940              0.800597           0.794358             0.795826  "
      ]
     },
     "execution_count": 33,
     "metadata": {},
     "output_type": "execute_result"
    }
   ],
   "source": [
    "# Initialize an empty list to store results\n",
    "results = []\n",
    "\n",
    "# Step 1: Classification metrics\n",
    "print(\"Classification Report:\")\n",
    "report = classification_report(\n",
    "    df_test[\"emotion\"],\n",
    "    df_test[\"predicted_emotion\"],\n",
    "    output_dict=True,\n",
    "    target_names=df_test[\"emotion\"].unique(),\n",
    ")\n",
    "print(\n",
    "    classification_report(\n",
    "        df_test[\"emotion\"],\n",
    "        df_test[\"predicted_emotion\"],\n",
    "        target_names=df_test[\"emotion\"].unique(),\n",
    "    )\n",
    ")\n",
    "\n",
    "# Extract important metrics from the classification report for the test set\n",
    "accuracy = report[\"accuracy\"]\n",
    "macro_precision = report[\"macro avg\"][\"precision\"]\n",
    "macro_recall = report[\"macro avg\"][\"recall\"]\n",
    "macro_f1 = report[\"macro avg\"][\"f1-score\"]\n",
    "\n",
    "# Store the metrics in the results list\n",
    "results.append(\n",
    "    {\n",
    "        \"Model\": model_version + \"_v2\",\n",
    "        \"Method\": \"Fine-Tuning\",\n",
    "        \"Test Accuracy\": accuracy,\n",
    "        \"Test Macro Precision\": macro_precision,\n",
    "        \"Test Macro Recall\": macro_recall,\n",
    "        \"Test Macro F1-Score\": macro_f1,\n",
    "    }\n",
    ")\n",
    "\n",
    "\n",
    "plot_confusion_matrix(\n",
    "    df_test[\"predicted_emotion\"], df_test[\"emotion\"], df_test[\"emotion\"].unique()\n",
    ")\n",
    "\n",
    "\n",
    "results_df = pd.concat([results_df, pd.DataFrame(results)])\n",
    "\n",
    "results_df"
   ]
  },
  {
   "cell_type": "code",
   "execution_count": 34,
   "metadata": {},
   "outputs": [],
   "source": [
    "results_df.to_excel(\"../data/model_results/llm_gemini.xlsx\", index=False)"
   ]
  },
  {
   "cell_type": "code",
   "execution_count": 30,
   "metadata": {},
   "outputs": [
    {
     "name": "stdout",
     "output_type": "stream",
     "text": [
      "tunedModels/gemini15flashfinetunedisear-2ssoh15ski2w\n",
      "tunedModels/gemini15flashfinetunedisear15e-hoagjbin9\n",
      "tunedModels/gemini15flashfinetunedisear5e-jxuaj2dew0\n",
      "tunedModels/gemini15flashfinetunedisear15e-6iy7j0f1u\n"
     ]
    }
   ],
   "source": [
    "for i, m in zip(range(5), genai.list_tuned_models()):\n",
    "    print(m.name)"
   ]
  }
 ],
 "metadata": {
  "kernelspec": {
   "display_name": ".venv",
   "language": "python",
   "name": "python3"
  },
  "language_info": {
   "codemirror_mode": {
    "name": "ipython",
    "version": 3
   },
   "file_extension": ".py",
   "mimetype": "text/x-python",
   "name": "python",
   "nbconvert_exporter": "python",
   "pygments_lexer": "ipython3",
   "version": "3.12.6"
  }
 },
 "nbformat": 4,
 "nbformat_minor": 2
}
