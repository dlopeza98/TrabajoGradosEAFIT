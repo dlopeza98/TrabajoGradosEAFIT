{
 "cells": [
  {
   "cell_type": "markdown",
   "metadata": {},
   "source": [
    "#  LLM - Claude - Anthropic - AWS\n",
    "\n",
    "De todos los modelos de Anthropic, el modelo `Claude 3 Haiku` es el único que puede ser Fine Tuneado en Amazon Bedrock. El objetivo de este notebook es realizar y describir dicho proceso con nuestro conjunto de datos de interés.\n",
    "\n",
    "Guía tomada de: https://aws.amazon.com/es/blogs/machine-learning/fine-tune-anthropics-claude-3-haiku-in-amazon-bedrock-to-boost-model-accuracy-and-quality/"
   ]
  },
  {
   "cell_type": "markdown",
   "metadata": {},
   "source": [
    "## Libraries"
   ]
  },
  {
   "cell_type": "code",
   "execution_count": 15,
   "metadata": {},
   "outputs": [],
   "source": [
    "import pandas as pd\n",
    "import json"
   ]
  },
  {
   "cell_type": "markdown",
   "metadata": {},
   "source": [
    "## Dataset\n",
    "\n",
    "Se cargan los datasets de `training`, `validation` y `test` que se han utilizado en otros modelos para garantizar consistencia al momento de comparar los resultados. Cada uno de estos datasets contiene dos variables **text** y **emotion**"
   ]
  },
  {
   "cell_type": "code",
   "execution_count": 2,
   "metadata": {},
   "outputs": [],
   "source": [
    "df_train = pd.read_csv(\"../data/data_to_model/train_data.csv\")\n",
    "df_val = pd.read_csv(\"../data/data_to_model/val_data.csv\")\n",
    "df_test = pd.read_csv(\"../data/data_to_model/test_data.csv\")"
   ]
  },
  {
   "cell_type": "code",
   "execution_count": 3,
   "metadata": {},
   "outputs": [
    {
     "data": {
      "text/html": [
       "<div>\n",
       "<style scoped>\n",
       "    .dataframe tbody tr th:only-of-type {\n",
       "        vertical-align: middle;\n",
       "    }\n",
       "\n",
       "    .dataframe tbody tr th {\n",
       "        vertical-align: top;\n",
       "    }\n",
       "\n",
       "    .dataframe thead th {\n",
       "        text-align: right;\n",
       "    }\n",
       "</style>\n",
       "<table border=\"1\" class=\"dataframe\">\n",
       "  <thead>\n",
       "    <tr style=\"text-align: right;\">\n",
       "      <th></th>\n",
       "      <th>text</th>\n",
       "      <th>emotion</th>\n",
       "    </tr>\n",
       "  </thead>\n",
       "  <tbody>\n",
       "    <tr>\n",
       "      <th>0</th>\n",
       "      <td>when the week for exams came i got afraid as t...</td>\n",
       "      <td>fear</td>\n",
       "    </tr>\n",
       "    <tr>\n",
       "      <th>1</th>\n",
       "      <td>i was sleeping when i heard the neighbours scr...</td>\n",
       "      <td>fear</td>\n",
       "    </tr>\n",
       "    <tr>\n",
       "      <th>2</th>\n",
       "      <td>there was a time when my room looked terribly ...</td>\n",
       "      <td>shame</td>\n",
       "    </tr>\n",
       "    <tr>\n",
       "      <th>3</th>\n",
       "      <td>when my friend told me that he would come and ...</td>\n",
       "      <td>joy</td>\n",
       "    </tr>\n",
       "    <tr>\n",
       "      <th>4</th>\n",
       "      <td>when i saw the film \"johnny got his gun\" which...</td>\n",
       "      <td>sadness</td>\n",
       "    </tr>\n",
       "  </tbody>\n",
       "</table>\n",
       "</div>"
      ],
      "text/plain": [
       "                                                text  emotion\n",
       "0  when the week for exams came i got afraid as t...     fear\n",
       "1  i was sleeping when i heard the neighbours scr...     fear\n",
       "2  there was a time when my room looked terribly ...    shame\n",
       "3  when my friend told me that he would come and ...      joy\n",
       "4  when i saw the film \"johnny got his gun\" which...  sadness"
      ]
     },
     "execution_count": 3,
     "metadata": {},
     "output_type": "execute_result"
    }
   ],
   "source": [
    "df_train.head()"
   ]
  },
  {
   "cell_type": "markdown",
   "metadata": {},
   "source": [
    "## Prepare Data\n",
    "\n",
    "La data debe estar almacenada en S3 en el formato aceptado por la API:\n",
    "\n",
    "{\"system\": string, \"messages\": [{\"role\": \"user\", \"content\": string}, {\"role\": \"assistant\", \"content\": string}]}\n",
    "\n",
    "Por ejemplo:\n",
    "\n",
    "{\n",
    "\"system\": \"Below is an instruction that describes a task, paired with an input that provides further context. Write a response that appropriately completes the request.\",\n",
    "\"messages\": [\n",
    "{\"role\": \"user\", \"content\": \"instruction:\\n\\nSummarize the news article provided below.\\n\\ninput:\\nSupermarket customers in France can add airline tickets to their shopping lists thanks to a unique promotion by a budget airline. ... Based at the airport, new airline launched in 2007 and is a low-cost subsidiary of the airline.\"},\n",
    "{\"role\": \"assistant\", \"content\": \"New airline has included voucher codes with the branded products ... to pay a booking fee and checked baggage fees .\"}\n",
    "]\n",
    "}"
   ]
  },
  {
   "cell_type": "code",
   "execution_count": 21,
   "metadata": {},
   "outputs": [
    {
     "name": "stdout",
     "output_type": "stream",
     "text": [
      "Training Data successfully saved to isear_train.jsonl\n"
     ]
    }
   ],
   "source": [
    "system_message = \"\"\"You are an advanced assistant specialized in analyzing and detecting emotions in short text. \n",
    "You will be provided with a text, and your task is to classify it into **exactly one emotion** from the following list:\n",
    "[shame, sadness, joy, guilt, fear, disgust, anger].\"\"\"\n",
    "\n",
    "\n",
    "# Function to create the user message (prompt) for emotion detection\n",
    "def create_user_message(row):\n",
    "    return f\"{row['text']}\\n\\nWhat is the emotion expressed in this text?\"\n",
    "\n",
    "\n",
    "# Function to prepare an example conversation\n",
    "def prepare_example_conversation(row):\n",
    "    return {\n",
    "        \"system\": system_message,\n",
    "        \"messages\": [\n",
    "            {\"role\": \"user\", \"content\": create_user_message(row)},\n",
    "            {\n",
    "                \"role\": \"assistant\",\n",
    "                \"content\": row[\"emotion\"],\n",
    "            },  # Emotion label from your dataset\n",
    "        ],\n",
    "    }\n",
    "\n",
    "\n",
    "# Process each row of the dataframe\n",
    "conversations = df_train.apply(prepare_example_conversation, axis=1)\n",
    "\n",
    "# Save the results to a JSONL file\n",
    "with open(\"../data/data_to_finetune_claude/isear_train.jsonl\", \"w\") as jsonl_file:\n",
    "    conversations.apply(lambda x: jsonl_file.write(json.dumps(x) + \"\\n\"))\n",
    "\n",
    "# Output a confirmation message\n",
    "print(\"Training Data successfully saved to isear_train.jsonl\")"
   ]
  },
  {
   "cell_type": "code",
   "execution_count": 22,
   "metadata": {},
   "outputs": [
    {
     "name": "stdout",
     "output_type": "stream",
     "text": [
      "Training Data successfully saved to isear_train.jsonl\n"
     ]
    }
   ],
   "source": [
    "# Process each row of the dataframe\n",
    "conversations = df_val.apply(prepare_example_conversation, axis=1)\n",
    "\n",
    "# Save the results to a JSONL file\n",
    "with open(\"../data/data_to_finetune_claude/isear_val.jsonl\", \"w\") as jsonl_file:\n",
    "    conversations.apply(lambda x: jsonl_file.write(json.dumps(x) + \"\\n\"))\n",
    "\n",
    "# Output a confirmation message\n",
    "print(\"Training Data successfully saved to isear_train.jsonl\")"
   ]
  },
  {
   "cell_type": "markdown",
   "metadata": {},
   "source": []
  }
 ],
 "metadata": {
  "kernelspec": {
   "display_name": ".venv",
   "language": "python",
   "name": "python3"
  },
  "language_info": {
   "codemirror_mode": {
    "name": "ipython",
    "version": 3
   },
   "file_extension": ".py",
   "mimetype": "text/x-python",
   "name": "python",
   "nbconvert_exporter": "python",
   "pygments_lexer": "ipython3",
   "version": "3.12.6"
  }
 },
 "nbformat": 4,
 "nbformat_minor": 2
}
