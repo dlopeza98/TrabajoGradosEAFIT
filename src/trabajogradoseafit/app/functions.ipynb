{
 "cells": [
  {
   "cell_type": "code",
   "execution_count": null,
   "metadata": {},
   "outputs": [],
   "source": [
    "# Libraries\n",
    "import os\n",
    "\n",
    "import streamlit as st\n",
    "from dotenv import load_dotenv\n",
    "from openai import OpenAI\n"
   ]
  },
  {
   "cell_type": "code",
   "execution_count": null,
   "metadata": {},
   "outputs": [],
   "source": [
    "# Load secrets and client configurations\n",
    "load_dotenv()\n",
    "client = OpenAI(api_key=os.getenv(\"OPENAI_API_KEY\"))\n",
    "fine_tuned_model_id = os.getenv(\"ID_MODEL_OPENAI\")"
   ]
  },
  {
   "cell_type": "code",
   "execution_count": 3,
   "metadata": {},
   "outputs": [],
   "source": [
    "system_message = \"\"\"\n",
    "You are an advanced assistant specialized in analyzing and detecting emotions in short text. \n",
    "Your role is to identify the underlying emotion conveyed in each input and provide the most accurate emotional classification between: shame, sadness, joy, guilt, fear, disgust and anger\"\n",
    "\"\"\"\n"
   ]
  },
  {
   "cell_type": "code",
   "execution_count": null,
   "metadata": {},
   "outputs": [],
   "source": [
    "# Function to create the user message (prompt) for emotion detection\n",
    "def create_user_message(input_text: str) -> str:\n",
    "    \"\"\"\n",
    "    Creates a formatted user prompt for emotion detection.\n",
    "\n",
    "    Args:\n",
    "        input_text (str): The text input from the user.\n",
    "\n",
    "    Returns:\n",
    "        str: A formatted string prompt for the model.\n",
    "    \"\"\"\n",
    "    if not isinstance(input_text, str):\n",
    "        raise TypeError(\"input_text must be a string.\")\n",
    "    return f\"Text: {input_text}\\n\\nWhat is the emotion expressed in this text?\"\n",
    "\n",
    "\n",
    "def detect_emotion(\n",
    "    input_text: str, system_message: str, fine_tuned_model_id: str\n",
    ") -> str:\n",
    "    \"\"\"\n",
    "    Detects the emotion expressed in the given text using a fine-tuned model.\n",
    "\n",
    "    Args:\n",
    "        input_text (str): The text input from the user.\n",
    "        system_message (str): The system message providing context for the model.\n",
    "        fine_tuned_model_id (str): The ID of the fine-tuned model to use.\n",
    "\n",
    "    Returns:\n",
    "        str: The detected emotion.\n",
    "\n",
    "    Raises:\n",
    "        TypeError: If any of the inputs are not strings.\n",
    "    \"\"\"\n",
    "    # Input type checking\n",
    "    if not all(\n",
    "        isinstance(arg, str)\n",
    "        for arg in [input_text, system_message, fine_tuned_model_id]\n",
    "    ):\n",
    "        raise TypeError(\"All inputs must be strings.\")\n",
    "\n",
    "    # Prepare messages for the model\n",
    "    input_message = []\n",
    "    input_message.append({\"role\": \"system\", \"content\": system_message})\n",
    "    user_input_text = create_user_message(input_text)\n",
    "    input_message.append({\"role\": \"user\", \"content\": user_input_text})\n",
    "\n",
    "    # Call the OpenAI API to get the response\n",
    "    response = client.chat.completions.create(\n",
    "        model=fine_tuned_model_id, messages=input_message, temperature=0, max_tokens=4\n",
    "    )\n",
    "\n",
    "    # Extract the emotion from the response\n",
    "    emotion = response.choices[0].message.content.strip()\n",
    "\n",
    "    # Output type checking\n",
    "    if not isinstance(emotion, str):\n",
    "        raise TypeError(\"The response from the model is not a string.\")\n",
    "\n",
    "    return emotion"
   ]
  },
  {
   "cell_type": "code",
   "execution_count": null,
   "metadata": {},
   "outputs": [
    {
     "data": {
      "text/plain": [
       "'joy'"
      ]
     },
     "execution_count": 40,
     "metadata": {},
     "output_type": "execute_result"
    }
   ],
   "source": [
    "answer = detect_emotion(\n",
    "    \"I will finish my master degree sonn! What a goal\",\n",
    "    system_message,\n",
    "    fine_tuned_model_id,\n",
    ")\n",
    "answer"
   ]
  },
  {
   "cell_type": "code",
   "execution_count": null,
   "metadata": {},
   "outputs": [],
   "source": [
    "# APP\n",
    "def main():\n",
    "    st.title(\"Evaluador de Modelo Chat GPT-4\")\n",
    "\n",
    "    # Utiliza un formulario para agrupar la entrada de texto y el botón de envío\n",
    "    with st.form(key=\"chat_form\"):\n",
    "        user_input = st.text_area(\"Ingrese su texto aquí:\", height=200)\n",
    "        submit_button = st.form_submit_button(label=\"Clasificar\")\n",
    "\n",
    "    if submit_button and user_input:\n",
    "        with st.spinner(\"Generando respuesta...\"):\n",
    "            try:\n",
    "                response = detect_emotion(\n",
    "                    user_input, system_message, fine_tuned_model_id\n",
    "                )\n",
    "                st.markdown(\"### Respuesta:\")\n",
    "                st.write(response)\n",
    "            except Exception as e:\n",
    "                st.error(f\"Ocurrió un error: {e}\")\n"
   ]
  },
  {
   "cell_type": "code",
   "execution_count": 43,
   "metadata": {},
   "outputs": [
    {
     "name": "stderr",
     "output_type": "stream",
     "text": [
      "2024-10-31 20:39:56.384 WARNING streamlit.runtime.scriptrunner_utils.script_run_context: Thread 'MainThread': missing ScriptRunContext! This warning can be ignored when running in bare mode.\n",
      "2024-10-31 20:39:56.465 \n",
      "  \u001b[33m\u001b[1mWarning:\u001b[0m to view this Streamlit app on a browser, run it with the following\n",
      "  command:\n",
      "\n",
      "    streamlit run /home/dalopeza/TrabajoGradosEAFIT/.venv/lib/python3.12/site-packages/ipykernel_launcher.py [ARGUMENTS]\n",
      "2024-10-31 20:39:56.466 Thread 'MainThread': missing ScriptRunContext! This warning can be ignored when running in bare mode.\n",
      "2024-10-31 20:39:56.467 Thread 'MainThread': missing ScriptRunContext! This warning can be ignored when running in bare mode.\n",
      "2024-10-31 20:39:56.468 Thread 'MainThread': missing ScriptRunContext! This warning can be ignored when running in bare mode.\n",
      "2024-10-31 20:39:56.471 Thread 'MainThread': missing ScriptRunContext! This warning can be ignored when running in bare mode.\n",
      "2024-10-31 20:39:56.472 Thread 'MainThread': missing ScriptRunContext! This warning can be ignored when running in bare mode.\n",
      "2024-10-31 20:39:56.473 Thread 'MainThread': missing ScriptRunContext! This warning can be ignored when running in bare mode.\n",
      "2024-10-31 20:39:56.474 Thread 'MainThread': missing ScriptRunContext! This warning can be ignored when running in bare mode.\n",
      "2024-10-31 20:39:56.475 Session state does not function when running a script without `streamlit run`\n",
      "2024-10-31 20:39:56.476 Thread 'MainThread': missing ScriptRunContext! This warning can be ignored when running in bare mode.\n",
      "2024-10-31 20:39:56.478 Thread 'MainThread': missing ScriptRunContext! This warning can be ignored when running in bare mode.\n",
      "2024-10-31 20:39:56.479 Thread 'MainThread': missing ScriptRunContext! This warning can be ignored when running in bare mode.\n",
      "2024-10-31 20:39:56.479 Thread 'MainThread': missing ScriptRunContext! This warning can be ignored when running in bare mode.\n",
      "2024-10-31 20:39:56.480 Thread 'MainThread': missing ScriptRunContext! This warning can be ignored when running in bare mode.\n",
      "2024-10-31 20:39:56.481 Thread 'MainThread': missing ScriptRunContext! This warning can be ignored when running in bare mode.\n",
      "2024-10-31 20:39:56.482 Thread 'MainThread': missing ScriptRunContext! This warning can be ignored when running in bare mode.\n"
     ]
    }
   ],
   "source": [
    "main()"
   ]
  }
 ],
 "metadata": {
  "kernelspec": {
   "display_name": ".venv",
   "language": "python",
   "name": "python3"
  },
  "language_info": {
   "codemirror_mode": {
    "name": "ipython",
    "version": 3
   },
   "file_extension": ".py",
   "mimetype": "text/x-python",
   "name": "python",
   "nbconvert_exporter": "python",
   "pygments_lexer": "ipython3",
   "version": "3.12.6"
  }
 },
 "nbformat": 4,
 "nbformat_minor": 2
}
